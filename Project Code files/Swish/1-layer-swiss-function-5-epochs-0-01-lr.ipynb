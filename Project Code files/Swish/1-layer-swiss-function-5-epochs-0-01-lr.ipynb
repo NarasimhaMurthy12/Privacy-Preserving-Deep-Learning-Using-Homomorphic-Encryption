{
 "cells": [
  {
   "cell_type": "markdown",
   "id": "f1c54455",
   "metadata": {
    "id": "9DMr9rhddlYt",
    "papermill": {
     "duration": 0.004661,
     "end_time": "2025-04-01T14:53:22.648498",
     "exception": false,
     "start_time": "2025-04-01T14:53:22.643837",
     "status": "completed"
    },
    "tags": []
   },
   "source": [
    "Implementation of Deep Net with 1 hidden layer"
   ]
  },
  {
   "cell_type": "code",
   "execution_count": 1,
   "id": "82e33f49",
   "metadata": {
    "execution": {
     "iopub.execute_input": "2025-04-01T14:53:22.658620Z",
     "iopub.status.busy": "2025-04-01T14:53:22.658252Z",
     "iopub.status.idle": "2025-04-01T14:53:29.286206Z",
     "shell.execute_reply": "2025-04-01T14:53:29.284518Z"
    },
    "executionInfo": {
     "elapsed": 2835,
     "status": "ok",
     "timestamp": 1742798433014,
     "user": {
      "displayName": "Narasimha Murthy Panchangam",
      "userId": "15024520267351528624"
     },
     "user_tz": -330
    },
    "id": "Ygi2n_WBRT_q",
    "outputId": "b76a21e2-74f1-4760-88e9-2af760e6801d",
    "papermill": {
     "duration": 6.635141,
     "end_time": "2025-04-01T14:53:29.288324",
     "exception": false,
     "start_time": "2025-04-01T14:53:22.653183",
     "status": "completed"
    },
    "tags": []
   },
   "outputs": [
    {
     "name": "stdout",
     "output_type": "stream",
     "text": [
      "Collecting tenseal\r\n",
      "  Downloading tenseal-0.3.16-cp310-cp310-manylinux_2_27_x86_64.manylinux_2_28_x86_64.whl.metadata (8.4 kB)\r\n",
      "Downloading tenseal-0.3.16-cp310-cp310-manylinux_2_27_x86_64.manylinux_2_28_x86_64.whl (4.8 MB)\r\n",
      "\u001b[2K   \u001b[90m━━━━━━━━━━━━━━━━━━━━━━━━━━━━━━━━━━━━━━━━\u001b[0m \u001b[32m4.8/4.8 MB\u001b[0m \u001b[31m47.3 MB/s\u001b[0m eta \u001b[36m0:00:00\u001b[0m\r\n",
      "\u001b[?25hInstalling collected packages: tenseal\r\n",
      "Successfully installed tenseal-0.3.16\r\n",
      "Note: you may need to restart the kernel to use updated packages.\n"
     ]
    }
   ],
   "source": [
    "pip install tenseal"
   ]
  },
  {
   "cell_type": "code",
   "execution_count": 2,
   "id": "74d6fa24",
   "metadata": {
    "execution": {
     "iopub.execute_input": "2025-04-01T14:53:29.299457Z",
     "iopub.status.busy": "2025-04-01T14:53:29.299074Z",
     "iopub.status.idle": "2025-04-01T14:53:34.990252Z",
     "shell.execute_reply": "2025-04-01T14:53:34.988847Z"
    },
    "executionInfo": {
     "elapsed": 7696,
     "status": "ok",
     "timestamp": 1742798442252,
     "user": {
      "displayName": "Narasimha Murthy Panchangam",
      "userId": "15024520267351528624"
     },
     "user_tz": -330
    },
    "id": "1f47e986-014c-4ffd-94d1-631afde3099a",
    "papermill": {
     "duration": 5.698989,
     "end_time": "2025-04-01T14:53:34.992377",
     "exception": false,
     "start_time": "2025-04-01T14:53:29.293388",
     "status": "completed"
    },
    "tags": []
   },
   "outputs": [],
   "source": [
    "import torch\n",
    "import tenseal as ts\n",
    "import pandas as pd\n",
    "import random\n",
    "from time import time\n",
    "\n",
    "# those are optional and are not necessary for training\n",
    "import numpy as np\n",
    "import matplotlib.pyplot as plt"
   ]
  },
  {
   "cell_type": "code",
   "execution_count": 3,
   "id": "26660004",
   "metadata": {
    "execution": {
     "iopub.execute_input": "2025-04-01T14:53:35.007954Z",
     "iopub.status.busy": "2025-04-01T14:53:35.006998Z",
     "iopub.status.idle": "2025-04-01T14:53:35.148316Z",
     "shell.execute_reply": "2025-04-01T14:53:35.146888Z"
    },
    "executionInfo": {
     "elapsed": 404,
     "status": "ok",
     "timestamp": 1742798461263,
     "user": {
      "displayName": "Narasimha Murthy Panchangam",
      "userId": "15024520267351528624"
     },
     "user_tz": -330
    },
    "id": "b5c04e07-ee8c-49e8-a8ab-b30b06efeba7",
    "outputId": "4852cd9a-6e06-4d6c-c09e-240dd3a9044e",
    "papermill": {
     "duration": 0.152531,
     "end_time": "2025-04-01T14:53:35.150358",
     "exception": false,
     "start_time": "2025-04-01T14:53:34.997827",
     "status": "completed"
    },
    "tags": []
   },
   "outputs": [
    {
     "name": "stdout",
     "output_type": "stream",
     "text": [
      "############# Data summary #############\n",
      "x_train has shape: torch.Size([780, 10])\n",
      "y_train has shape: torch.Size([780, 1])\n",
      "x_test has shape: torch.Size([334, 10])\n",
      "y_test has shape: torch.Size([334, 1])\n",
      "#######################################\n"
     ]
    },
    {
     "name": "stderr",
     "output_type": "stream",
     "text": [
      "<ipython-input-3-c85f04021ea0>:22: DeprecationWarning: DataFrameGroupBy.apply operated on the grouping columns. This behavior is deprecated, and in a future version of pandas the grouping columns will be excluded from the operation. Either pass `include_groups=False` to exclude the groupings or explicitly select the grouping columns after groupby to silence this warning.\n",
      "  data = grouped.apply(lambda x: x.sample(grouped.size().min(), random_state=73).reset_index(drop=True))\n"
     ]
    }
   ],
   "source": [
    "torch.random.manual_seed(73)\n",
    "random.seed(73)\n",
    "\n",
    "\n",
    "def split_train_test(x, y, test_ratio=0.3):\n",
    "    idxs = [i for i in range(len(x))]\n",
    "    random.shuffle(idxs)\n",
    "    # delimiter between test and train data\n",
    "    delim = int(len(x) * test_ratio)\n",
    "    test_idxs, train_idxs = idxs[:delim], idxs[delim:]\n",
    "    return x[train_idxs], y[train_idxs], x[test_idxs], y[test_idxs]\n",
    "\n",
    "\n",
    "def heart_disease_data():\n",
    "    data = pd.read_csv(\"/kaggle/input/trydata/framingham.csv\")\n",
    "    # drop rows with missing values\n",
    "    data = data.dropna()\n",
    "    # drop some features\n",
    "    data = data.drop(columns=[\"education\", \"currentSmoker\", \"BPMeds\", \"diabetes\", \"diaBP\", \"BMI\"])\n",
    "    # balance data\n",
    "    grouped = data.groupby('TenYearCHD')\n",
    "    data = grouped.apply(lambda x: x.sample(grouped.size().min(), random_state=73).reset_index(drop=True))\n",
    "    # extract labels\n",
    "    y = torch.tensor(data[\"TenYearCHD\"].values).float().unsqueeze(1)\n",
    "    #data = data.drop(\"TenYearCHD\",'columns')\n",
    "    # standardize data\n",
    "    data = (data - data.mean()) / data.std()\n",
    "    x = torch.tensor(data.values).float()\n",
    "    return split_train_test(x, y)\n",
    "\n",
    "\n",
    "def random_data(m=1024, n=2):\n",
    "    # data separable by the line `y = x`\n",
    "    x_train = torch.randn(m, n)\n",
    "    x_test = torch.randn(m // 2, n)\n",
    "    y_train = (x_train[:, 0] >= x_train[:, 1]).float().unsqueeze(0).t()\n",
    "    y_test = (x_test[:, 0] >= x_test[:, 1]).float().unsqueeze(0).t()\n",
    "    return x_train, y_train, x_test, y_test\n",
    "\n",
    "\n",
    "# You can use whatever data you want without modification to the tutorial\n",
    "# x_train, y_train, x_test, y_test = random_data()\n",
    "x_train, y_train, x_test, y_test = heart_disease_data()\n",
    "\n",
    "print(\"############# Data summary #############\")\n",
    "print(f\"x_train has shape: {x_train.shape}\")\n",
    "print(f\"y_train has shape: {y_train.shape}\")\n",
    "print(f\"x_test has shape: {x_test.shape}\")\n",
    "print(f\"y_test has shape: {y_test.shape}\")\n",
    "print(\"#######################################\")"
   ]
  },
  {
   "cell_type": "code",
   "execution_count": 4,
   "id": "f12f482b",
   "metadata": {
    "execution": {
     "iopub.execute_input": "2025-04-01T14:53:35.161917Z",
     "iopub.status.busy": "2025-04-01T14:53:35.161521Z",
     "iopub.status.idle": "2025-04-01T14:53:36.618984Z",
     "shell.execute_reply": "2025-04-01T14:53:36.618169Z"
    },
    "executionInfo": {
     "elapsed": 1347,
     "status": "ok",
     "timestamp": 1742798466748,
     "user": {
      "displayName": "Narasimha Murthy Panchangam",
      "userId": "15024520267351528624"
     },
     "user_tz": -330
    },
    "id": "7d29335d-0550-47cc-a59f-ac72fe2ea0e3",
    "papermill": {
     "duration": 1.465284,
     "end_time": "2025-04-01T14:53:36.620975",
     "exception": false,
     "start_time": "2025-04-01T14:53:35.155691",
     "status": "completed"
    },
    "tags": []
   },
   "outputs": [],
   "source": [
    "# parameters\n",
    "poly_mod_degree = 8192\n",
    "coeff_mod_bit_sizes = [40, 21, 21, 21, 21, 21, 21, 40]\n",
    "# create TenSEALContext\n",
    "ctx_training = ts.context(ts.SCHEME_TYPE.CKKS, poly_mod_degree, -1, coeff_mod_bit_sizes)\n",
    "ctx_training.global_scale = 2 ** 21\n",
    "ctx_training.generate_galois_keys()"
   ]
  },
  {
   "cell_type": "code",
   "execution_count": 5,
   "id": "8bc95541",
   "metadata": {
    "execution": {
     "iopub.execute_input": "2025-04-01T14:53:36.631832Z",
     "iopub.status.busy": "2025-04-01T14:53:36.631454Z",
     "iopub.status.idle": "2025-04-01T14:53:36.635451Z",
     "shell.execute_reply": "2025-04-01T14:53:36.634388Z"
    },
    "executionInfo": {
     "elapsed": 27042,
     "status": "ok",
     "timestamp": 1742798845589,
     "user": {
      "displayName": "Narasimha Murthy Panchangam",
      "userId": "15024520267351528624"
     },
     "user_tz": -330
    },
    "id": "fca037ed-0491-4249-8032-e567ff666951",
    "outputId": "1cc5433b-df31-4bba-8614-9d9a4864e8ec",
    "papermill": {
     "duration": 0.011775,
     "end_time": "2025-04-01T14:53:36.637595",
     "exception": false,
     "start_time": "2025-04-01T14:53:36.625820",
     "status": "completed"
    },
    "tags": []
   },
   "outputs": [],
   "source": [
    "#t_start = time()\n",
    "#enc_x_train = ts.ckks_tensor(ctx_training, x_train[0:300])\n",
    "#enc_y_train = ts.ckks_tensor(ctx_training, y_train[0:300])\n",
    "#t_end = time()\n",
    "#print(f\"Encryption of the training_set took {int(t_end - t_start)} seconds\")"
   ]
  },
  {
   "cell_type": "code",
   "execution_count": 6,
   "id": "b234f687",
   "metadata": {
    "execution": {
     "iopub.execute_input": "2025-04-01T14:53:36.648487Z",
     "iopub.status.busy": "2025-04-01T14:53:36.647986Z",
     "iopub.status.idle": "2025-04-01T14:53:36.662756Z",
     "shell.execute_reply": "2025-04-01T14:53:36.661589Z"
    },
    "executionInfo": {
     "elapsed": 402,
     "status": "ok",
     "timestamp": 1742798869375,
     "user": {
      "displayName": "Narasimha Murthy Panchangam",
      "userId": "15024520267351528624"
     },
     "user_tz": -330
    },
    "id": "LocrA1zn57Ep",
    "papermill": {
     "duration": 0.022231,
     "end_time": "2025-04-01T14:53:36.664657",
     "exception": false,
     "start_time": "2025-04-01T14:53:36.642426",
     "status": "completed"
    },
    "tags": []
   },
   "outputs": [],
   "source": [
    "class EncryptedDL1layer() :\n",
    "  def __init__(self) -> None:\n",
    "      self.weight1=np.random.rand(10,3)*0.01\n",
    "      self.bias1=np.random.rand(3)*0.01\n",
    "      self.weight2=np.random.rand(3, 1)*0.01\n",
    "      self.bias2=np.random.rand(1)*0.01\n",
    "      self.dw1=0\n",
    "      self.db1=0\n",
    "      self.dw2=0\n",
    "      self.db2=0\n",
    "  def bootstrapping(enc,ctx_training) :\n",
    "    return ts.ckks_tensor(ctx_training,enc.decrypt())\n",
    "  def swiss(enc_x):\n",
    "    return enc_x.polyval([0.6931,0.5,0.125,0])\n",
    "  def swiss_derv(enc_x):\n",
    "    return enc_x.polyval([0.5, 0.197, 0, -0.004])\n",
    "  def forward(self,enc_x_train,ctx_training) :\n",
    "    z11=enc_x_train.mm(self.weight1)\n",
    "    z1=z11.add(self.bias1)\n",
    "    a1=EncryptedDL1layer.swiss(z1)\n",
    "    y=EncryptedDL1layer.bootstrapping(a1,ctx_training)\n",
    "    z21=y.mm(self.weight2)\n",
    "    z2=z21.add(self.bias2)\n",
    "    a2=EncryptedDL1layer.swiss(z2)\n",
    "    return a2,z2,a1,z1\n",
    "  def backward(self,a2,z2,a1,z1,enc_y_train,ctx_training) :\n",
    "    #calculating the output at the layer 2\n",
    "    error=a2-enc_y_train\n",
    "    der=EncryptedDL1layer.swiss_derv(z2)\n",
    "    #finding delta2\n",
    "    delta2=error.mul(der)\n",
    "    #using bootstrapping\n",
    "    delta2=EncryptedDL1layer.bootstrapping(delta2,ctx_training)\n",
    "    #finding delta1\n",
    "    del1=delta2.mm(self.weight2.transpose())\n",
    "    del1=EncryptedDL1layer.bootstrapping(del1,ctx_training)\n",
    "    #finding der1\n",
    "    der1=EncryptedDL1layer.swiss_derv(z1)\n",
    "    #using bootstrapping\n",
    "    der1=EncryptedDL1layer.bootstrapping(der1,ctx_training)\n",
    "    #finding delta1\n",
    "    delta1=del1.mul(der1)\n",
    "    #finding the gradients\n",
    "    #for weight2 and bias2\n",
    "    self.dw2=a1.transpose().mm(delta2)\n",
    "    self.db2=delta2.sum()\n",
    "    #for weight1 and bias1\n",
    "    self.dw1=enc_x_train.transpose().mm(delta1)\n",
    "    self.db1=delta1.sum()\n",
    "  def update_params(self):\n",
    "    self.weight2=self.weight2-0.01*self.dw2\n",
    "    self.bias2=self.bias2-0.01*self.db2\n",
    "    self.weight1=self.weight1-0.01*self.dw1\n",
    "    self.bias1=self.bias1-0.01*self.db1\n",
    "  def encrypt(self, context):\n",
    "    self.weight1 = ts.ckks_tensor(context, self.weight1)\n",
    "    self.bias1 = ts.ckks_tensor(context, self.bias1)\n",
    "    self.weight2 = ts.ckks_tensor(context, self.weight2)\n",
    "    self.bias2 = ts.ckks_tensor(context, self.bias2)\n",
    "  def decrypt(self):\n",
    "    self.weight1 = self.weight1.decrypt()\n",
    "    self.bias1 = self.bias1.decrypt()\n",
    "    self.weight2 = self.weight2.decrypt()\n",
    "    self.bias2 = self.bias2.decrypt()\n",
    "  def accuracy(self,x_test,y_test):\n",
    "    #self.decrypt()\n",
    "    w1 = torch.tensor(self.weight1)\n",
    "    b1 = torch.tensor(self.bias1)\n",
    "    out1 = torch.swiss(x_test.matmul(w1) + b1).reshape(-1, 1)\n",
    "    w2 = torch.tensor(self.weight2)\n",
    "    b2 = torch.tensor(self.bias2)\n",
    "    out2 = torch.swiss(out1.matmul(w2) + b2).reshape(-1, 1)\n",
    "    correct = torch.abs(y_test - out2) < 0.5\n",
    "    return correct.float().mean()"
   ]
  },
  {
   "cell_type": "code",
   "execution_count": 7,
   "id": "e1902bd3",
   "metadata": {
    "execution": {
     "iopub.execute_input": "2025-04-01T14:53:36.675552Z",
     "iopub.status.busy": "2025-04-01T14:53:36.675213Z",
     "iopub.status.idle": "2025-04-01T15:59:33.551457Z",
     "shell.execute_reply": "2025-04-01T15:59:33.550274Z"
    },
    "executionInfo": {
     "elapsed": 424,
     "status": "error",
     "timestamp": 1742798872001,
     "user": {
      "displayName": "Narasimha Murthy Panchangam",
      "userId": "15024520267351528624"
     },
     "user_tz": -330
    },
    "id": "vj7f2Rt3BTsJ",
    "outputId": "8a0f6c19-8d47-4bb6-c90a-2509b6cf5d03",
    "papermill": {
     "duration": 3956.884294,
     "end_time": "2025-04-01T15:59:33.553816",
     "exception": false,
     "start_time": "2025-04-01T14:53:36.669522",
     "status": "completed"
    },
    "tags": []
   },
   "outputs": [
    {
     "name": "stdout",
     "output_type": "stream",
     "text": [
      "Epoch :  0\n",
      "Batch :  0.0\n",
      "Encryption of the training_batch took 4 seconds\n",
      "Time taken for this batch is :  63.97819137573242\n",
      "Batch :  1.0\n",
      "Encryption of the training_batch took 3 seconds\n",
      "Time taken for this batch is :  60.62110376358032\n",
      "Batch :  2.0\n",
      "Encryption of the training_batch took 3 seconds\n",
      "Time taken for this batch is :  60.57720637321472\n",
      "Batch :  3.0\n",
      "Encryption of the training_batch took 3 seconds\n",
      "Time taken for this batch is :  59.54231023788452\n",
      "Batch :  4.0\n",
      "Encryption of the training_batch took 3 seconds\n",
      "Time taken for this batch is :  60.58647680282593\n",
      "Batch :  5.0\n",
      "Encryption of the training_batch took 3 seconds\n",
      "Time taken for this batch is :  59.54318118095398\n",
      "Batch :  6.0\n",
      "Encryption of the training_batch took 3 seconds\n",
      "Time taken for this batch is :  59.39877128601074\n",
      "Batch :  7.0\n",
      "Encryption of the training_batch took 3 seconds\n",
      "Time taken for this batch is :  59.91908288002014\n",
      "Batch :  8.0\n",
      "Encryption of the training_batch took 3 seconds\n",
      "Time taken for this batch is :  59.982091665267944\n",
      "Batch :  9.0\n",
      "Encryption of the training_batch took 3 seconds\n",
      "Time taken for this batch is :  60.16649389266968\n",
      "Batch :  10.0\n",
      "Encryption of the training_batch took 3 seconds\n",
      "Time taken for this batch is :  59.52535390853882\n",
      "Batch :  11.0\n",
      "Encryption of the training_batch took 3 seconds\n",
      "Time taken for this batch is :  58.60379076004028\n",
      "Batch :  12.0\n",
      "Encryption of the training_batch took 3 seconds\n",
      "Time taken for this batch is :  59.492106914520264\n",
      "Loss at epoch  0 tensor(0.6805)\n",
      "Accuracy at epoch  0 tensor(0.8500)\n",
      "Epoch :  1\n",
      "Batch :  0.0\n",
      "Encryption of the training_batch took 3 seconds\n",
      "Time taken for this batch is :  58.622973680496216\n",
      "Batch :  1.0\n",
      "Encryption of the training_batch took 3 seconds\n",
      "Time taken for this batch is :  59.489704847335815\n",
      "Batch :  2.0\n",
      "Encryption of the training_batch took 3 seconds\n",
      "Time taken for this batch is :  59.972158432006836\n",
      "Batch :  3.0\n",
      "Encryption of the training_batch took 3 seconds\n",
      "Time taken for this batch is :  59.51444745063782\n",
      "Batch :  4.0\n",
      "Encryption of the training_batch took 3 seconds\n",
      "Time taken for this batch is :  60.27552652359009\n",
      "Batch :  5.0\n",
      "Encryption of the training_batch took 3 seconds\n",
      "Time taken for this batch is :  60.00959062576294\n",
      "Batch :  6.0\n",
      "Encryption of the training_batch took 3 seconds\n",
      "Time taken for this batch is :  59.16426157951355\n",
      "Batch :  7.0\n",
      "Encryption of the training_batch took 3 seconds\n",
      "Time taken for this batch is :  59.85990238189697\n",
      "Batch :  8.0\n",
      "Encryption of the training_batch took 3 seconds\n",
      "Time taken for this batch is :  59.66216588020325\n",
      "Batch :  9.0\n",
      "Encryption of the training_batch took 3 seconds\n",
      "Time taken for this batch is :  60.720235109329224\n",
      "Batch :  10.0\n",
      "Encryption of the training_batch took 3 seconds\n",
      "Time taken for this batch is :  60.67899990081787\n",
      "Batch :  11.0\n",
      "Encryption of the training_batch took 3 seconds\n",
      "Time taken for this batch is :  59.30868935585022\n",
      "Batch :  12.0\n",
      "Encryption of the training_batch took 3 seconds\n",
      "Time taken for this batch is :  59.1185359954834\n",
      "Loss at epoch  1 tensor(0.5987)\n",
      "Accuracy at epoch  1 tensor(1.)\n",
      "Epoch :  2\n",
      "Batch :  0.0\n",
      "Encryption of the training_batch took 3 seconds\n",
      "Time taken for this batch is :  58.72099709510803\n",
      "Batch :  1.0\n",
      "Encryption of the training_batch took 3 seconds\n",
      "Time taken for this batch is :  58.85620665550232\n",
      "Batch :  2.0\n",
      "Encryption of the training_batch took 3 seconds\n",
      "Time taken for this batch is :  58.6627938747406\n",
      "Batch :  3.0\n",
      "Encryption of the training_batch took 3 seconds\n",
      "Time taken for this batch is :  59.13251519203186\n",
      "Batch :  4.0\n",
      "Encryption of the training_batch took 3 seconds\n",
      "Time taken for this batch is :  59.69873666763306\n",
      "Batch :  5.0\n",
      "Encryption of the training_batch took 3 seconds\n",
      "Time taken for this batch is :  59.957195520401\n",
      "Batch :  6.0\n",
      "Encryption of the training_batch took 3 seconds\n",
      "Time taken for this batch is :  59.46131992340088\n",
      "Batch :  7.0\n",
      "Encryption of the training_batch took 3 seconds\n",
      "Time taken for this batch is :  58.65166521072388\n",
      "Batch :  8.0\n",
      "Encryption of the training_batch took 4 seconds\n",
      "Time taken for this batch is :  59.750344038009644\n",
      "Batch :  9.0\n",
      "Encryption of the training_batch took 3 seconds\n",
      "Time taken for this batch is :  59.82085680961609\n",
      "Batch :  10.0\n",
      "Encryption of the training_batch took 3 seconds\n",
      "Time taken for this batch is :  60.07219648361206\n",
      "Batch :  11.0\n",
      "Encryption of the training_batch took 3 seconds\n",
      "Time taken for this batch is :  60.03294134140015\n",
      "Batch :  12.0\n",
      "Encryption of the training_batch took 3 seconds\n",
      "Time taken for this batch is :  60.15621471405029\n",
      "Loss at epoch  2 tensor(0.5827)\n",
      "Accuracy at epoch  2 tensor(0.9667)\n",
      "Epoch :  3\n",
      "Batch :  0.0\n",
      "Encryption of the training_batch took 3 seconds\n",
      "Time taken for this batch is :  60.72184777259827\n",
      "Batch :  1.0\n",
      "Encryption of the training_batch took 3 seconds\n",
      "Time taken for this batch is :  59.83842658996582\n",
      "Batch :  2.0\n",
      "Encryption of the training_batch took 3 seconds\n",
      "Time taken for this batch is :  60.22133946418762\n",
      "Batch :  3.0\n",
      "Encryption of the training_batch took 3 seconds\n",
      "Time taken for this batch is :  59.12803506851196\n",
      "Batch :  4.0\n",
      "Encryption of the training_batch took 3 seconds\n",
      "Time taken for this batch is :  60.11569905281067\n",
      "Batch :  5.0\n",
      "Encryption of the training_batch took 3 seconds\n",
      "Time taken for this batch is :  61.719756841659546\n",
      "Batch :  6.0\n",
      "Encryption of the training_batch took 3 seconds\n",
      "Time taken for this batch is :  60.762017011642456\n",
      "Batch :  7.0\n",
      "Encryption of the training_batch took 3 seconds\n",
      "Time taken for this batch is :  60.478681325912476\n",
      "Batch :  8.0\n",
      "Encryption of the training_batch took 3 seconds\n",
      "Time taken for this batch is :  60.054797887802124\n",
      "Batch :  9.0\n",
      "Encryption of the training_batch took 3 seconds\n",
      "Time taken for this batch is :  59.993083000183105\n",
      "Batch :  10.0\n",
      "Encryption of the training_batch took 3 seconds\n",
      "Time taken for this batch is :  59.25934457778931\n",
      "Batch :  11.0\n",
      "Encryption of the training_batch took 3 seconds\n",
      "Time taken for this batch is :  59.38631057739258\n",
      "Batch :  12.0\n",
      "Encryption of the training_batch took 3 seconds\n",
      "Time taken for this batch is :  59.819607734680176\n",
      "Loss at epoch  3 tensor(0.6002)\n",
      "Accuracy at epoch  3 tensor(0.9333)\n",
      "Epoch :  4\n",
      "Batch :  0.0\n",
      "Encryption of the training_batch took 3 seconds\n",
      "Time taken for this batch is :  59.673035860061646\n",
      "Batch :  1.0\n",
      "Encryption of the training_batch took 3 seconds\n",
      "Time taken for this batch is :  60.10685753822327\n",
      "Batch :  2.0\n",
      "Encryption of the training_batch took 3 seconds\n",
      "Time taken for this batch is :  59.5489604473114\n",
      "Batch :  3.0\n",
      "Encryption of the training_batch took 3 seconds\n",
      "Time taken for this batch is :  60.352309465408325\n",
      "Batch :  4.0\n",
      "Encryption of the training_batch took 3 seconds\n",
      "Time taken for this batch is :  60.38658285140991\n",
      "Batch :  5.0\n",
      "Encryption of the training_batch took 3 seconds\n",
      "Time taken for this batch is :  60.465102434158325\n",
      "Batch :  6.0\n",
      "Encryption of the training_batch took 3 seconds\n",
      "Time taken for this batch is :  59.754433393478394\n",
      "Batch :  7.0\n",
      "Encryption of the training_batch took 3 seconds\n",
      "Time taken for this batch is :  59.370946645736694\n",
      "Batch :  8.0\n",
      "Encryption of the training_batch took 3 seconds\n",
      "Time taken for this batch is :  59.82236647605896\n",
      "Batch :  9.0\n",
      "Encryption of the training_batch took 3 seconds\n",
      "Time taken for this batch is :  60.14940094947815\n",
      "Batch :  10.0\n",
      "Encryption of the training_batch took 3 seconds\n",
      "Time taken for this batch is :  59.73686337471008\n",
      "Batch :  11.0\n",
      "Encryption of the training_batch took 3 seconds\n",
      "Time taken for this batch is :  59.72727990150452\n",
      "Batch :  12.0\n",
      "Encryption of the training_batch took 3 seconds\n",
      "Time taken for this batch is :  58.940611362457275\n",
      "Loss at epoch  4 tensor(0.6078)\n",
      "Accuracy at epoch  4 tensor(0.9667)\n",
      "\n",
      "Average time per epoch: 59 seconds\n",
      "Final weight1  [[-0.02081750547133021, -0.00851766698507525, -0.01198278938121648], [-0.042176172798178764, -0.017159201676972012, -0.03640257398383718], [-0.02781442178455996, -0.03562267621039395, -0.03500366692283629], [-0.029281824133379666, -0.046940154220380406, -0.022850978430587362], [-0.020930514683105767, 0.008517967469845351, -0.014979531098377545], [-0.01100627960764918, 0.0041938996667726805, -0.011478339588827727], [-0.027811852282189024, -0.0007295507502657222, -0.028132718022306456], [0.007905395843734717, 0.013269862884882154, 0.002825968476961186], [-0.022994115092046234, -0.019072238346625366, -0.02565364963417598], [-0.8440836331771362, -1.142284408148481, -0.8716818315298286]]\n",
      "Final bias 1 [-0.044545717222215384, -0.003935418951592256, -0.041912290696808484]\n",
      "Final weight 2 [[-0.5080100378257686], [-0.868941396228713], [-0.5451707076530682]]\n",
      "Final bias 2 [0.9958792335136679]\n"
     ]
    }
   ],
   "source": [
    "EPOCHS = 5\n",
    "eelr = EncryptedDL1layer()\n",
    "times = []\n",
    "for epoch in range(EPOCHS):\n",
    "    print(\"Epoch : \",epoch)\n",
    "    t_start = time()\n",
    "    for i in range(0,780,60):\n",
    "        print(\"Batch : \",i/60)\n",
    "        t_start = time()\n",
    "        enc_x_train = ts.ckks_tensor(ctx_training, x_train[i:i+60])\n",
    "        enc_y_train = ts.ckks_tensor(ctx_training, y_train[i:i+60])\n",
    "        t_end = time()\n",
    "        print(f\"Encryption of the training_batch took {int(t_end - t_start)} seconds\")\n",
    "        eelr.encrypt(ctx_training)\n",
    "        a2,z2,a1,z1 = eelr.forward(enc_x_train,ctx_training)\n",
    "        eelr.backward(a2,z2,a1,z1,enc_y_train,ctx_training)\n",
    "        eelr.update_params()\n",
    "        t_end = time()\n",
    "        eelr.decrypt()\n",
    "        print(\"Time taken for this batch is : \",t_end - t_start)\n",
    "    times.append(t_end - t_start)\n",
    "    a2,z2,a1,z1 = eelr.forward(enc_x_train,ctx_training)\n",
    "    data=torch.tensor(a2.decrypt().tolist())\n",
    "    loss_fn = torch.nn.BCEWithLogitsLoss()\n",
    "    loss = loss_fn(data, y_train[i:i+60])\n",
    "    print(\"Loss at epoch \",epoch,loss.data)\n",
    "    out=torch.tensor(enc_y_train.sub(a2).decrypt().tolist())\n",
    "    correct=torch.abs(out)<0.5\n",
    "    print(\"Accuracy at epoch \",epoch,correct.float().mean())\n",
    "print(f\"\\nAverage time per epoch: {int(sum(times) / len(times))} seconds\")\n",
    "print(\"Final weight1 \",eelr.weight1.tolist())\n",
    "print(\"Final bias 1\",eelr.bias1.tolist())\n",
    "print(\"Final weight 2\",eelr.weight2.tolist())\n",
    "print(\"Final bias 2\",eelr.bias2.tolist())"
   ]
  },
  {
   "cell_type": "code",
   "execution_count": 8,
   "id": "231a081f",
   "metadata": {
    "execution": {
     "iopub.execute_input": "2025-04-01T15:59:33.578936Z",
     "iopub.status.busy": "2025-04-01T15:59:33.578557Z",
     "iopub.status.idle": "2025-04-01T15:59:44.972629Z",
     "shell.execute_reply": "2025-04-01T15:59:44.971206Z"
    },
    "executionInfo": {
     "elapsed": 92271,
     "status": "ok",
     "timestamp": 1742745772755,
     "user": {
      "displayName": "Narasimha Murthy",
      "userId": "00427524539684510099"
     },
     "user_tz": -330
    },
    "id": "KLgUVLDRjFUR",
    "outputId": "0516727f-29d4-430d-df09-8d40fa237b83",
    "papermill": {
     "duration": 11.408586,
     "end_time": "2025-04-01T15:59:44.974665",
     "exception": false,
     "start_time": "2025-04-01T15:59:33.566079",
     "status": "completed"
    },
    "tags": []
   },
   "outputs": [],
   "source": [
    "#eelr.encrypt(ctx_training)\n",
    "j,k,l,r=eelr.forward(enc_x_train,ctx_training)\n",
    "#enc_y_train.sub(j).decrypt().tolist()"
   ]
  },
  {
   "cell_type": "code",
   "execution_count": 9,
   "id": "429ad4a4",
   "metadata": {
    "execution": {
     "iopub.execute_input": "2025-04-01T15:59:44.999612Z",
     "iopub.status.busy": "2025-04-01T15:59:44.999040Z",
     "iopub.status.idle": "2025-04-01T15:59:45.208600Z",
     "shell.execute_reply": "2025-04-01T15:59:45.207246Z"
    },
    "executionInfo": {
     "elapsed": 12,
     "status": "ok",
     "timestamp": 1742746346136,
     "user": {
      "displayName": "Narasimha Murthy",
      "userId": "00427524539684510099"
     },
     "user_tz": -330
    },
    "id": "_UaJ3vhlvLCX",
    "outputId": "8854fc07-8857-4b2b-b1b1-07b7a048fa53",
    "papermill": {
     "duration": 0.22404,
     "end_time": "2025-04-01T15:59:45.210510",
     "exception": false,
     "start_time": "2025-04-01T15:59:44.986470",
     "status": "completed"
    },
    "tags": []
   },
   "outputs": [
    {
     "name": "stdout",
     "output_type": "stream",
     "text": [
      "Train Accuracy :  tensor(0.9667)\n"
     ]
    }
   ],
   "source": [
    "out=torch.tensor(enc_y_train.sub(j).decrypt().tolist())\n",
    "correct=torch.abs(out)<0.5\n",
    "print(\"Train Accuracy : \",correct.float().mean())"
   ]
  },
  {
   "cell_type": "code",
   "execution_count": 10,
   "id": "8b6b203b",
   "metadata": {
    "execution": {
     "iopub.execute_input": "2025-04-01T15:59:45.236919Z",
     "iopub.status.busy": "2025-04-01T15:59:45.236507Z",
     "iopub.status.idle": "2025-04-01T16:00:07.598639Z",
     "shell.execute_reply": "2025-04-01T16:00:07.597444Z"
    },
    "id": "WiNUecEKxti0",
    "papermill": {
     "duration": 22.3775,
     "end_time": "2025-04-01T16:00:07.600516",
     "exception": false,
     "start_time": "2025-04-01T15:59:45.223016",
     "status": "completed"
    },
    "tags": []
   },
   "outputs": [],
   "source": [
    "enc_x_test = ts.ckks_tensor(ctx_training, x_test)\n",
    "enc_y_test = ts.ckks_tensor(ctx_training, y_test)"
   ]
  },
  {
   "cell_type": "code",
   "execution_count": 11,
   "id": "98dde12b",
   "metadata": {
    "execution": {
     "iopub.execute_input": "2025-04-01T16:00:07.628544Z",
     "iopub.status.busy": "2025-04-01T16:00:07.628177Z",
     "iopub.status.idle": "2025-04-01T16:01:23.122193Z",
     "shell.execute_reply": "2025-04-01T16:01:23.121054Z"
    },
    "papermill": {
     "duration": 75.50914,
     "end_time": "2025-04-01T16:01:23.124158",
     "exception": false,
     "start_time": "2025-04-01T16:00:07.615018",
     "status": "completed"
    },
    "tags": []
   },
   "outputs": [
    {
     "name": "stdout",
     "output_type": "stream",
     "text": [
      "Test Accuracy :  tensor(0.9820)\n"
     ]
    }
   ],
   "source": [
    "m,n,j,k=eelr.forward(enc_x_test,ctx_training)\n",
    "out=torch.tensor(enc_y_test.sub(m).decrypt().tolist())\n",
    "correct=torch.abs(out)<0.5\n",
    "print(\"Test Accuracy : \",correct.float().mean())"
   ]
  },
  {
   "cell_type": "code",
   "execution_count": null,
   "id": "8416b1fb",
   "metadata": {
    "papermill": {
     "duration": 0.01177,
     "end_time": "2025-04-01T16:01:23.147982",
     "exception": false,
     "start_time": "2025-04-01T16:01:23.136212",
     "status": "completed"
    },
    "tags": []
   },
   "outputs": [],
   "source": []
  }
 ],
 "metadata": {
  "accelerator": "TPU",
  "colab": {
   "gpuType": "V28",
   "provenance": []
  },
  "kaggle": {
   "accelerator": "none",
   "dataSources": [
    {
     "datasetId": 6961199,
     "sourceId": 11156928,
     "sourceType": "datasetVersion"
    },
    {
     "datasetId": 7023656,
     "sourceId": 11241740,
     "sourceType": "datasetVersion"
    }
   ],
   "dockerImageVersionId": 30918,
   "isGpuEnabled": false,
   "isInternetEnabled": true,
   "language": "python",
   "sourceType": "notebook"
  },
  "kernelspec": {
   "display_name": "Python 3",
   "language": "python",
   "name": "python3"
  },
  "language_info": {
   "codemirror_mode": {
    "name": "ipython",
    "version": 3
   },
   "file_extension": ".py",
   "mimetype": "text/x-python",
   "name": "python",
   "nbconvert_exporter": "python",
   "pygments_lexer": "ipython3",
   "version": "3.10.12"
  },
  "papermill": {
   "default_parameters": {},
   "duration": 4087.272121,
   "end_time": "2025-04-01T16:01:26.964229",
   "environment_variables": {},
   "exception": null,
   "input_path": "__notebook__.ipynb",
   "output_path": "__notebook__.ipynb",
   "parameters": {},
   "start_time": "2025-04-01T14:53:19.692108",
   "version": "2.6.0"
  }
 },
 "nbformat": 4,
 "nbformat_minor": 5
}
