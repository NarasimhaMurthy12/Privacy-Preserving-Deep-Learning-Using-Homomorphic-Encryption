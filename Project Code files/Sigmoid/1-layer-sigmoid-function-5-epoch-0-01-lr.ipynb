{
 "cells": [
  {
   "cell_type": "markdown",
   "id": "eed6e98a",
   "metadata": {
    "id": "9DMr9rhddlYt",
    "papermill": {
     "duration": 0.004484,
     "end_time": "2025-04-01T15:42:06.180477",
     "exception": false,
     "start_time": "2025-04-01T15:42:06.175993",
     "status": "completed"
    },
    "tags": []
   },
   "source": [
    "Implementation of Deep Net with 1 hidden layer"
   ]
  },
  {
   "cell_type": "code",
   "execution_count": 1,
   "id": "feac8093",
   "metadata": {
    "execution": {
     "iopub.execute_input": "2025-04-01T15:42:06.189457Z",
     "iopub.status.busy": "2025-04-01T15:42:06.189126Z",
     "iopub.status.idle": "2025-04-01T15:42:12.013916Z",
     "shell.execute_reply": "2025-04-01T15:42:12.012687Z"
    },
    "executionInfo": {
     "elapsed": 2835,
     "status": "ok",
     "timestamp": 1742798433014,
     "user": {
      "displayName": "Narasimha Murthy Panchangam",
      "userId": "15024520267351528624"
     },
     "user_tz": -330
    },
    "id": "Ygi2n_WBRT_q",
    "outputId": "b76a21e2-74f1-4760-88e9-2af760e6801d",
    "papermill": {
     "duration": 5.830911,
     "end_time": "2025-04-01T15:42:12.015405",
     "exception": false,
     "start_time": "2025-04-01T15:42:06.184494",
     "status": "completed"
    },
    "tags": []
   },
   "outputs": [
    {
     "name": "stdout",
     "output_type": "stream",
     "text": [
      "Collecting tenseal\r\n",
      "  Downloading tenseal-0.3.16-cp310-cp310-manylinux_2_27_x86_64.manylinux_2_28_x86_64.whl.metadata (8.4 kB)\r\n",
      "Downloading tenseal-0.3.16-cp310-cp310-manylinux_2_27_x86_64.manylinux_2_28_x86_64.whl (4.8 MB)\r\n",
      "\u001b[2K   \u001b[90m━━━━━━━━━━━━━━━━━━━━━━━━━━━━━━━━━━━━━━━━\u001b[0m \u001b[32m4.8/4.8 MB\u001b[0m \u001b[31m66.1 MB/s\u001b[0m eta \u001b[36m0:00:00\u001b[0m\r\n",
      "\u001b[?25hInstalling collected packages: tenseal\r\n",
      "Successfully installed tenseal-0.3.16\r\n",
      "Note: you may need to restart the kernel to use updated packages.\n"
     ]
    }
   ],
   "source": [
    "pip install tenseal"
   ]
  },
  {
   "cell_type": "code",
   "execution_count": 2,
   "id": "556f30a2",
   "metadata": {
    "execution": {
     "iopub.execute_input": "2025-04-01T15:42:12.025424Z",
     "iopub.status.busy": "2025-04-01T15:42:12.025125Z",
     "iopub.status.idle": "2025-04-01T15:42:16.249937Z",
     "shell.execute_reply": "2025-04-01T15:42:16.248997Z"
    },
    "executionInfo": {
     "elapsed": 7696,
     "status": "ok",
     "timestamp": 1742798442252,
     "user": {
      "displayName": "Narasimha Murthy Panchangam",
      "userId": "15024520267351528624"
     },
     "user_tz": -330
    },
    "id": "1f47e986-014c-4ffd-94d1-631afde3099a",
    "papermill": {
     "duration": 4.231705,
     "end_time": "2025-04-01T15:42:16.251753",
     "exception": false,
     "start_time": "2025-04-01T15:42:12.020048",
     "status": "completed"
    },
    "tags": []
   },
   "outputs": [],
   "source": [
    "import torch\n",
    "import tenseal as ts\n",
    "import pandas as pd\n",
    "import random\n",
    "from time import time\n",
    "\n",
    "# those are optional and are not necessary for training\n",
    "import numpy as np\n",
    "import matplotlib.pyplot as plt"
   ]
  },
  {
   "cell_type": "code",
   "execution_count": 3,
   "id": "e9431989",
   "metadata": {
    "execution": {
     "iopub.execute_input": "2025-04-01T15:42:16.262338Z",
     "iopub.status.busy": "2025-04-01T15:42:16.261847Z",
     "iopub.status.idle": "2025-04-01T15:42:16.358242Z",
     "shell.execute_reply": "2025-04-01T15:42:16.357060Z"
    },
    "executionInfo": {
     "elapsed": 404,
     "status": "ok",
     "timestamp": 1742798461263,
     "user": {
      "displayName": "Narasimha Murthy Panchangam",
      "userId": "15024520267351528624"
     },
     "user_tz": -330
    },
    "id": "b5c04e07-ee8c-49e8-a8ab-b30b06efeba7",
    "outputId": "4852cd9a-6e06-4d6c-c09e-240dd3a9044e",
    "papermill": {
     "duration": 0.103664,
     "end_time": "2025-04-01T15:42:16.360063",
     "exception": false,
     "start_time": "2025-04-01T15:42:16.256399",
     "status": "completed"
    },
    "tags": []
   },
   "outputs": [
    {
     "name": "stdout",
     "output_type": "stream",
     "text": [
      "############# Data summary #############\n",
      "x_train has shape: torch.Size([780, 10])\n",
      "y_train has shape: torch.Size([780, 1])\n",
      "x_test has shape: torch.Size([334, 10])\n",
      "y_test has shape: torch.Size([334, 1])\n",
      "#######################################\n"
     ]
    },
    {
     "name": "stderr",
     "output_type": "stream",
     "text": [
      "<ipython-input-3-9c1daa9f64ab>:22: DeprecationWarning: DataFrameGroupBy.apply operated on the grouping columns. This behavior is deprecated, and in a future version of pandas the grouping columns will be excluded from the operation. Either pass `include_groups=False` to exclude the groupings or explicitly select the grouping columns after groupby to silence this warning.\n",
      "  data = grouped.apply(lambda x: x.sample(grouped.size().min(), random_state=73).reset_index(drop=True))\n"
     ]
    }
   ],
   "source": [
    "torch.random.manual_seed(73)\n",
    "random.seed(73)\n",
    "\n",
    "\n",
    "def split_train_test(x, y, test_ratio=0.3):\n",
    "    idxs = [i for i in range(len(x))]\n",
    "    random.shuffle(idxs)\n",
    "    # delimiter between test and train data\n",
    "    delim = int(len(x) * test_ratio)\n",
    "    test_idxs, train_idxs = idxs[:delim], idxs[delim:]\n",
    "    return x[train_idxs], y[train_idxs], x[test_idxs], y[test_idxs]\n",
    "\n",
    "\n",
    "def heart_disease_data():\n",
    "    data = pd.read_csv(\"/kaggle/input/trydataset1/framingham.csv\")\n",
    "    # drop rows with missing values\n",
    "    data = data.dropna()\n",
    "    # drop some features\n",
    "    data = data.drop(columns=[\"education\", \"currentSmoker\", \"BPMeds\", \"diabetes\", \"diaBP\", \"BMI\"])\n",
    "    # balance data\n",
    "    grouped = data.groupby('TenYearCHD')\n",
    "    data = grouped.apply(lambda x: x.sample(grouped.size().min(), random_state=73).reset_index(drop=True))\n",
    "    # extract labels\n",
    "    y = torch.tensor(data[\"TenYearCHD\"].values).float().unsqueeze(1)\n",
    "    #data = data.drop(\"TenYearCHD\",'columns')\n",
    "    # standardize data\n",
    "    data = (data - data.mean()) / data.std()\n",
    "    x = torch.tensor(data.values).float()\n",
    "    return split_train_test(x, y)\n",
    "\n",
    "\n",
    "def random_data(m=1024, n=2):\n",
    "    # data separable by the line `y = x`\n",
    "    x_train = torch.randn(m, n)\n",
    "    x_test = torch.randn(m // 2, n)\n",
    "    y_train = (x_train[:, 0] >= x_train[:, 1]).float().unsqueeze(0).t()\n",
    "    y_test = (x_test[:, 0] >= x_test[:, 1]).float().unsqueeze(0).t()\n",
    "    return x_train, y_train, x_test, y_test\n",
    "\n",
    "\n",
    "# You can use whatever data you want without modification to the tutorial\n",
    "# x_train, y_train, x_test, y_test = random_data()\n",
    "x_train, y_train, x_test, y_test = heart_disease_data()\n",
    "\n",
    "print(\"############# Data summary #############\")\n",
    "print(f\"x_train has shape: {x_train.shape}\")\n",
    "print(f\"y_train has shape: {y_train.shape}\")\n",
    "print(f\"x_test has shape: {x_test.shape}\")\n",
    "print(f\"y_test has shape: {y_test.shape}\")\n",
    "print(\"#######################################\")"
   ]
  },
  {
   "cell_type": "code",
   "execution_count": 4,
   "id": "cdb1bcce",
   "metadata": {
    "execution": {
     "iopub.execute_input": "2025-04-01T15:42:16.370182Z",
     "iopub.status.busy": "2025-04-01T15:42:16.369879Z",
     "iopub.status.idle": "2025-04-01T15:42:17.674521Z",
     "shell.execute_reply": "2025-04-01T15:42:17.673572Z"
    },
    "executionInfo": {
     "elapsed": 1347,
     "status": "ok",
     "timestamp": 1742798466748,
     "user": {
      "displayName": "Narasimha Murthy Panchangam",
      "userId": "15024520267351528624"
     },
     "user_tz": -330
    },
    "id": "7d29335d-0550-47cc-a59f-ac72fe2ea0e3",
    "papermill": {
     "duration": 1.31137,
     "end_time": "2025-04-01T15:42:17.676172",
     "exception": false,
     "start_time": "2025-04-01T15:42:16.364802",
     "status": "completed"
    },
    "tags": []
   },
   "outputs": [],
   "source": [
    "# parameters\n",
    "poly_mod_degree = 8192\n",
    "coeff_mod_bit_sizes = [40, 21, 21, 21, 21, 21, 21, 40]\n",
    "# create TenSEALContext\n",
    "ctx_training = ts.context(ts.SCHEME_TYPE.CKKS, poly_mod_degree, -1, coeff_mod_bit_sizes)\n",
    "ctx_training.global_scale = 2 ** 21\n",
    "ctx_training.generate_galois_keys()"
   ]
  },
  {
   "cell_type": "code",
   "execution_count": 5,
   "id": "7b974010",
   "metadata": {
    "execution": {
     "iopub.execute_input": "2025-04-01T15:42:17.686973Z",
     "iopub.status.busy": "2025-04-01T15:42:17.686668Z",
     "iopub.status.idle": "2025-04-01T15:42:17.690019Z",
     "shell.execute_reply": "2025-04-01T15:42:17.689149Z"
    },
    "executionInfo": {
     "elapsed": 27042,
     "status": "ok",
     "timestamp": 1742798845589,
     "user": {
      "displayName": "Narasimha Murthy Panchangam",
      "userId": "15024520267351528624"
     },
     "user_tz": -330
    },
    "id": "fca037ed-0491-4249-8032-e567ff666951",
    "outputId": "1cc5433b-df31-4bba-8614-9d9a4864e8ec",
    "papermill": {
     "duration": 0.010395,
     "end_time": "2025-04-01T15:42:17.691505",
     "exception": false,
     "start_time": "2025-04-01T15:42:17.681110",
     "status": "completed"
    },
    "tags": []
   },
   "outputs": [],
   "source": [
    "#t_start = time()\n",
    "#enc_x_train = ts.ckks_tensor(ctx_training, x_train[0:300])\n",
    "#enc_y_train = ts.ckks_tensor(ctx_training, y_train[0:300])\n",
    "#t_end = time()\n",
    "#print(f\"Encryption of the training_set took {int(t_end - t_start)} seconds\")"
   ]
  },
  {
   "cell_type": "code",
   "execution_count": 6,
   "id": "a6883cf6",
   "metadata": {
    "execution": {
     "iopub.execute_input": "2025-04-01T15:42:17.701354Z",
     "iopub.status.busy": "2025-04-01T15:42:17.701086Z",
     "iopub.status.idle": "2025-04-01T15:42:17.714006Z",
     "shell.execute_reply": "2025-04-01T15:42:17.713222Z"
    },
    "executionInfo": {
     "elapsed": 402,
     "status": "ok",
     "timestamp": 1742798869375,
     "user": {
      "displayName": "Narasimha Murthy Panchangam",
      "userId": "15024520267351528624"
     },
     "user_tz": -330
    },
    "id": "LocrA1zn57Ep",
    "papermill": {
     "duration": 0.019447,
     "end_time": "2025-04-01T15:42:17.715467",
     "exception": false,
     "start_time": "2025-04-01T15:42:17.696020",
     "status": "completed"
    },
    "tags": []
   },
   "outputs": [],
   "source": [
    "class EncryptedDL1layer() :\n",
    "  def __init__(self) -> None:\n",
    "      self.weight1=np.random.rand(10,3)*0.01\n",
    "      self.bias1=np.random.rand(3)*0.01\n",
    "      self.weight2=np.random.rand(3, 1)*0.01\n",
    "      self.bias2=np.random.rand(1)*0.01\n",
    "      self.dw1=0\n",
    "      self.db1=0\n",
    "      self.dw2=0\n",
    "      self.db2=0\n",
    "  def bootstrapping(enc,ctx_training) :\n",
    "    return ts.ckks_tensor(ctx_training,enc.decrypt())\n",
    "  def sigmoid(enc_x):\n",
    "    return enc_x.polyval([0.5, 0.197, 0, -0.004])\n",
    "  def sigmoid_derv(enc_x):\n",
    "    return enc_x.polyval([0.197,0,-0.012,0])\n",
    "  def forward(self,enc_x_train,ctx_training) :\n",
    "    z11=enc_x_train.mm(self.weight1)\n",
    "    z1=z11.add(self.bias1)\n",
    "    a1=EncryptedDL1layer.sigmoid(z1)\n",
    "    y=EncryptedDL1layer.bootstrapping(a1,ctx_training)\n",
    "    z21=y.mm(self.weight2)\n",
    "    z2=z21.add(self.bias2)\n",
    "    a2=EncryptedDL1layer.sigmoid(z2)\n",
    "    return a2,z2,a1,z1\n",
    "  def backward(self,a2,z2,a1,z1,enc_y_train,ctx_training) :\n",
    "    #calculating the output at the layer 2\n",
    "    error=a2-enc_y_train\n",
    "    der=EncryptedDL1layer.sigmoid_derv(z2)\n",
    "    #finding delta2\n",
    "    delta2=error.mul(der)\n",
    "    #using bootstrapping\n",
    "    delta2=EncryptedDL1layer.bootstrapping(delta2,ctx_training)\n",
    "    #finding delta1\n",
    "    del1=delta2.mm(self.weight2.transpose())\n",
    "    del1=EncryptedDL1layer.bootstrapping(del1,ctx_training)\n",
    "    #finding der1\n",
    "    der1=EncryptedDL1layer.sigmoid_derv(z1)\n",
    "    #using bootstrapping\n",
    "    der1=EncryptedDL1layer.bootstrapping(der1,ctx_training)\n",
    "    #finding delta1\n",
    "    delta1=del1.mul(der1)\n",
    "    #finding the gradients\n",
    "    #for weight2 and bias2\n",
    "    self.dw2=a1.transpose().mm(delta2)\n",
    "    self.db2=delta2.sum()\n",
    "    #for weight1 and bias1\n",
    "    self.dw1=enc_x_train.transpose().mm(delta1)\n",
    "    self.db1=delta1.sum()\n",
    "  def update_params(self):\n",
    "    self.weight2=self.weight2-0.01*self.dw2\n",
    "    self.bias2=self.bias2-0.01*self.db2\n",
    "    self.weight1=self.weight1-0.01*self.dw1\n",
    "    self.bias1=self.bias1-0.01*self.db1\n",
    "  def encrypt(self, context):\n",
    "    self.weight1 = ts.ckks_tensor(context, self.weight1)\n",
    "    self.bias1 = ts.ckks_tensor(context, self.bias1)\n",
    "    self.weight2 = ts.ckks_tensor(context, self.weight2)\n",
    "    self.bias2 = ts.ckks_tensor(context, self.bias2)\n",
    "  def decrypt(self):\n",
    "    self.weight1 = self.weight1.decrypt()\n",
    "    self.bias1 = self.bias1.decrypt()\n",
    "    self.weight2 = self.weight2.decrypt()\n",
    "    self.bias2 = self.bias2.decrypt()\n",
    "  def accuracy(self,x_test,y_test):\n",
    "    #self.decrypt()\n",
    "    w1 = torch.tensor(self.weight1)\n",
    "    b1 = torch.tensor(self.bias1)\n",
    "    out1 = torch.sigmoid(x_test.matmul(w1) + b1).reshape(-1, 1)\n",
    "    w2 = torch.tensor(self.weight2)\n",
    "    b2 = torch.tensor(self.bias2)\n",
    "    out2 = torch.sigmoid(out1.matmul(w2) + b2).reshape(-1, 1)\n",
    "    correct = torch.abs(y_test - out2) < 0.5\n",
    "    return correct.float().mean()"
   ]
  },
  {
   "cell_type": "code",
   "execution_count": 7,
   "id": "70581c5e",
   "metadata": {
    "execution": {
     "iopub.execute_input": "2025-04-01T15:42:17.725307Z",
     "iopub.status.busy": "2025-04-01T15:42:17.725047Z",
     "iopub.status.idle": "2025-04-01T16:45:07.917979Z",
     "shell.execute_reply": "2025-04-01T16:45:07.916961Z"
    },
    "executionInfo": {
     "elapsed": 424,
     "status": "error",
     "timestamp": 1742798872001,
     "user": {
      "displayName": "Narasimha Murthy Panchangam",
      "userId": "15024520267351528624"
     },
     "user_tz": -330
    },
    "id": "vj7f2Rt3BTsJ",
    "outputId": "8a0f6c19-8d47-4bb6-c90a-2509b6cf5d03",
    "papermill": {
     "duration": 3770.199506,
     "end_time": "2025-04-01T16:45:07.919505",
     "exception": false,
     "start_time": "2025-04-01T15:42:17.719999",
     "status": "completed"
    },
    "tags": []
   },
   "outputs": [
    {
     "name": "stdout",
     "output_type": "stream",
     "text": [
      "Epoch :  0\n",
      "Encryption of the training_set took 3 seconds\n",
      "Batch :  0.0\n",
      "\n",
      "\n",
      "Time taken for this batch :  56.09182143211365\n",
      "Encryption of the training_set took 3 seconds\n",
      "Batch :  1.0\n",
      "\n",
      "\n",
      "Time taken for this batch :  54.438403606414795\n",
      "Encryption of the training_set took 3 seconds\n",
      "Batch :  2.0\n",
      "\n",
      "\n",
      "Time taken for this batch :  54.02538061141968\n",
      "Encryption of the training_set took 3 seconds\n",
      "Batch :  3.0\n",
      "\n",
      "\n",
      "Time taken for this batch :  53.273284912109375\n",
      "Encryption of the training_set took 3 seconds\n",
      "Batch :  4.0\n",
      "\n",
      "\n",
      "Time taken for this batch :  53.99934005737305\n",
      "Encryption of the training_set took 3 seconds\n",
      "Batch :  5.0\n",
      "\n",
      "\n",
      "Time taken for this batch :  54.059733390808105\n",
      "Encryption of the training_set took 3 seconds\n",
      "Batch :  6.0\n",
      "\n",
      "\n",
      "Time taken for this batch :  53.22111248970032\n",
      "Encryption of the training_set took 3 seconds\n",
      "Batch :  7.0\n",
      "\n",
      "\n",
      "Time taken for this batch :  52.79145646095276\n",
      "Encryption of the training_set took 3 seconds\n",
      "Batch :  8.0\n",
      "\n",
      "\n",
      "Time taken for this batch :  53.48868680000305\n",
      "Encryption of the training_set took 3 seconds\n",
      "Batch :  9.0\n",
      "\n",
      "\n",
      "Time taken for this batch :  53.93199396133423\n",
      "Encryption of the training_set took 3 seconds\n",
      "Batch :  10.0\n",
      "\n",
      "\n",
      "Time taken for this batch :  53.21033573150635\n",
      "Encryption of the training_set took 3 seconds\n",
      "Batch :  11.0\n",
      "\n",
      "\n",
      "Time taken for this batch :  52.84924650192261\n",
      "Encryption of the training_set took 3 seconds\n",
      "Batch :  12.0\n",
      "\n",
      "\n",
      "Time taken for this batch :  53.52063298225403\n",
      "Loss at epoch  0 tensor(0.7158)\n",
      "Accuracy at epoch  0 tensor(0.5167)\n",
      "Epoch :  1\n",
      "Encryption of the training_set took 3 seconds\n",
      "Batch :  0.0\n",
      "\n",
      "\n",
      "Time taken for this batch :  53.14373326301575\n",
      "Encryption of the training_set took 3 seconds\n",
      "Batch :  1.0\n",
      "\n",
      "\n",
      "Time taken for this batch :  53.9616596698761\n",
      "Encryption of the training_set took 3 seconds\n",
      "Batch :  2.0\n",
      "\n",
      "\n",
      "Time taken for this batch :  54.08519530296326\n",
      "Encryption of the training_set took 3 seconds\n",
      "Batch :  3.0\n",
      "\n",
      "\n",
      "Time taken for this batch :  52.97956657409668\n",
      "Encryption of the training_set took 3 seconds\n",
      "Batch :  4.0\n",
      "\n",
      "\n",
      "Time taken for this batch :  52.768925189971924\n",
      "Encryption of the training_set took 3 seconds\n",
      "Batch :  5.0\n",
      "\n",
      "\n",
      "Time taken for this batch :  53.83119988441467\n",
      "Encryption of the training_set took 3 seconds\n",
      "Batch :  6.0\n",
      "\n",
      "\n",
      "Time taken for this batch :  53.840033769607544\n",
      "Encryption of the training_set took 3 seconds\n",
      "Batch :  7.0\n",
      "\n",
      "\n",
      "Time taken for this batch :  53.36105275154114\n",
      "Encryption of the training_set took 3 seconds\n",
      "Batch :  8.0\n",
      "\n",
      "\n",
      "Time taken for this batch :  52.894516706466675\n",
      "Encryption of the training_set took 3 seconds\n",
      "Batch :  9.0\n",
      "\n",
      "\n",
      "Time taken for this batch :  53.4730224609375\n",
      "Encryption of the training_set took 3 seconds\n",
      "Batch :  10.0\n",
      "\n",
      "\n",
      "Time taken for this batch :  53.88729524612427\n",
      "Encryption of the training_set took 3 seconds\n",
      "Batch :  11.0\n",
      "\n",
      "\n",
      "Time taken for this batch :  53.25751304626465\n",
      "Encryption of the training_set took 3 seconds\n",
      "Batch :  12.0\n",
      "\n",
      "\n",
      "Time taken for this batch :  52.86913180351257\n",
      "Loss at epoch  1 tensor(0.7158)\n",
      "Accuracy at epoch  1 tensor(0.5000)\n",
      "Epoch :  2\n",
      "Encryption of the training_set took 3 seconds\n",
      "Batch :  0.0\n",
      "\n",
      "\n",
      "Time taken for this batch :  52.8088321685791\n",
      "Encryption of the training_set took 3 seconds\n",
      "Batch :  1.0\n",
      "\n",
      "\n",
      "Time taken for this batch :  53.57594323158264\n",
      "Encryption of the training_set took 3 seconds\n",
      "Batch :  2.0\n",
      "\n",
      "\n",
      "Time taken for this batch :  53.881587982177734\n",
      "Encryption of the training_set took 3 seconds\n",
      "Batch :  3.0\n",
      "\n",
      "\n",
      "Time taken for this batch :  53.49321484565735\n",
      "Encryption of the training_set took 3 seconds\n",
      "Batch :  4.0\n",
      "\n",
      "\n",
      "Time taken for this batch :  53.16694760322571\n",
      "Encryption of the training_set took 3 seconds\n",
      "Batch :  5.0\n",
      "\n",
      "\n",
      "Time taken for this batch :  53.64941883087158\n",
      "Encryption of the training_set took 3 seconds\n",
      "Batch :  6.0\n",
      "\n",
      "\n",
      "Time taken for this batch :  53.78125333786011\n",
      "Encryption of the training_set took 3 seconds\n",
      "Batch :  7.0\n",
      "\n",
      "\n",
      "Time taken for this batch :  53.70215892791748\n",
      "Encryption of the training_set took 3 seconds\n",
      "Batch :  8.0\n",
      "\n",
      "\n",
      "Time taken for this batch :  52.94996929168701\n",
      "Encryption of the training_set took 3 seconds\n",
      "Batch :  9.0\n",
      "\n",
      "\n",
      "Time taken for this batch :  53.6488037109375\n",
      "Encryption of the training_set took 3 seconds\n",
      "Batch :  10.0\n",
      "\n",
      "\n",
      "Time taken for this batch :  53.92855095863342\n",
      "Encryption of the training_set took 3 seconds\n",
      "Batch :  11.0\n",
      "\n",
      "\n",
      "Time taken for this batch :  53.38970971107483\n",
      "Encryption of the training_set took 3 seconds\n",
      "Batch :  12.0\n",
      "\n",
      "\n",
      "Time taken for this batch :  53.196380376815796\n",
      "Loss at epoch  2 tensor(0.7159)\n",
      "Accuracy at epoch  2 tensor(0.5167)\n",
      "Epoch :  3\n",
      "Encryption of the training_set took 3 seconds\n",
      "Batch :  0.0\n",
      "\n",
      "\n",
      "Time taken for this batch :  53.093101978302\n",
      "Encryption of the training_set took 3 seconds\n",
      "Batch :  1.0\n",
      "\n",
      "\n",
      "Time taken for this batch :  52.776193380355835\n",
      "Encryption of the training_set took 3 seconds\n",
      "Batch :  2.0\n",
      "\n",
      "\n",
      "Time taken for this batch :  53.15458297729492\n",
      "Encryption of the training_set took 3 seconds\n",
      "Batch :  3.0\n",
      "\n",
      "\n",
      "Time taken for this batch :  52.45699214935303\n",
      "Encryption of the training_set took 3 seconds\n",
      "Batch :  4.0\n",
      "\n",
      "\n",
      "Time taken for this batch :  52.69160008430481\n",
      "Encryption of the training_set took 3 seconds\n",
      "Batch :  5.0\n",
      "\n",
      "\n",
      "Time taken for this batch :  52.75912952423096\n",
      "Encryption of the training_set took 3 seconds\n",
      "Batch :  6.0\n",
      "\n",
      "\n",
      "Time taken for this batch :  52.52179670333862\n",
      "Encryption of the training_set took 3 seconds\n",
      "Batch :  7.0\n",
      "\n",
      "\n",
      "Time taken for this batch :  52.9933443069458\n",
      "Encryption of the training_set took 3 seconds\n",
      "Batch :  8.0\n",
      "\n",
      "\n",
      "Time taken for this batch :  53.98635292053223\n",
      "Encryption of the training_set took 3 seconds\n",
      "Batch :  9.0\n",
      "\n",
      "\n",
      "Time taken for this batch :  53.26684594154358\n",
      "Encryption of the training_set took 3 seconds\n",
      "Batch :  10.0\n",
      "\n",
      "\n",
      "Time taken for this batch :  52.82874393463135\n",
      "Encryption of the training_set took 3 seconds\n",
      "Batch :  11.0\n",
      "\n",
      "\n",
      "Time taken for this batch :  53.50653529167175\n",
      "Encryption of the training_set took 3 seconds\n",
      "Batch :  12.0\n",
      "\n",
      "\n",
      "Time taken for this batch :  53.89593744277954\n",
      "Loss at epoch  3 tensor(0.7159)\n",
      "Accuracy at epoch  3 tensor(0.5167)\n",
      "Epoch :  4\n",
      "Encryption of the training_set took 3 seconds\n",
      "Batch :  0.0\n",
      "\n",
      "\n",
      "Time taken for this batch :  53.832319498062134\n",
      "Encryption of the training_set took 3 seconds\n",
      "Batch :  1.0\n",
      "\n",
      "\n",
      "Time taken for this batch :  53.75828003883362\n",
      "Encryption of the training_set took 3 seconds\n",
      "Batch :  2.0\n",
      "\n",
      "\n",
      "Time taken for this batch :  53.08889722824097\n",
      "Encryption of the training_set took 3 seconds\n",
      "Batch :  3.0\n",
      "\n",
      "\n",
      "Time taken for this batch :  52.98183274269104\n",
      "Encryption of the training_set took 3 seconds\n",
      "Batch :  4.0\n",
      "\n",
      "\n",
      "Time taken for this batch :  53.88168716430664\n",
      "Encryption of the training_set took 3 seconds\n",
      "Batch :  5.0\n",
      "\n",
      "\n",
      "Time taken for this batch :  53.999688148498535\n",
      "Encryption of the training_set took 3 seconds\n",
      "Batch :  6.0\n",
      "\n",
      "\n",
      "Time taken for this batch :  53.16199445724487\n",
      "Encryption of the training_set took 3 seconds\n",
      "Batch :  7.0\n",
      "\n",
      "\n",
      "Time taken for this batch :  52.762269258499146\n",
      "Encryption of the training_set took 3 seconds\n",
      "Batch :  8.0\n",
      "\n",
      "\n",
      "Time taken for this batch :  53.7133264541626\n",
      "Encryption of the training_set took 3 seconds\n",
      "Batch :  9.0\n",
      "\n",
      "\n",
      "Time taken for this batch :  53.97363567352295\n",
      "Encryption of the training_set took 3 seconds\n",
      "Batch :  10.0\n",
      "\n",
      "\n",
      "Time taken for this batch :  52.89569425582886\n",
      "Encryption of the training_set took 3 seconds\n",
      "Batch :  11.0\n",
      "\n",
      "\n",
      "Time taken for this batch :  52.77769422531128\n",
      "Encryption of the training_set took 3 seconds\n",
      "Batch :  12.0\n",
      "\n",
      "\n",
      "Time taken for this batch :  53.64938926696777\n",
      "Loss at epoch  4 tensor(0.7161)\n",
      "Accuracy at epoch  4 tensor(0.5167)\n",
      "\n",
      "Average time per epoch: 53 seconds\n",
      "Final weight1  [[0.01267412548708387, 0.0036407414002542627, 0.0058107479211700844], [0.012645015489047754, 0.012424970895332592, 0.008054933440717504], [0.006528248213251793, 0.005915600993410596, 0.012758901302708799], [0.011979766536005408, 0.006761968569595049, 0.007388822396442286], [0.013571680023089918, 0.004339926638573561, 0.005905008964184225], [0.014557733481489388, 0.00714001598078178, 0.00973475794884884], [0.01685345153877173, 0.006517254357636639, 0.0016399304298652078], [0.002080558587520019, 0.0030807965128071264, 0.0049228990750145385], [0.0032053106569764032, 0.007987812330338604, 0.005332338713438613], [0.05071060804324435, 0.01808361868289911, 0.021676448814886798]]\n",
      "Final bias 1 [0.007437526692695529, 0.007088934555222942, -0.003428844783293678]\n",
      "Final weight 2 [[0.052434820612724274], [0.010894065972395995], [0.01596880716018025]]\n",
      "Final bias 2 [-0.02822556391952444]\n"
     ]
    }
   ],
   "source": [
    "EPOCHS = 5\n",
    "eelr = EncryptedDL1layer()\n",
    "times = []\n",
    "for epoch in range(EPOCHS):\n",
    "    print(\"Epoch : \",epoch)\n",
    "    for i in range(0,780,60):\n",
    "        t_start = time()\n",
    "        enc_x_train = ts.ckks_tensor(ctx_training, x_train[i:i+60])\n",
    "        enc_y_train = ts.ckks_tensor(ctx_training, y_train[i:i+60])\n",
    "        t_end = time()\n",
    "        print(f\"Encryption of the training_set took {int(t_end - t_start)} seconds\")\n",
    "        print(\"Batch : \",i/60)\n",
    "        eelr.encrypt(ctx_training)\n",
    "        t_start = time()\n",
    "        a2,z2,a1,z1 = eelr.forward(enc_x_train,ctx_training)\n",
    "        eelr.backward(a2,z2,a1,z1,enc_y_train,ctx_training)\n",
    "        eelr.update_params()\n",
    "        t_end = time()    \n",
    "        eelr.decrypt()\n",
    "        print(\"\\n\")\n",
    "        print(\"Time taken for this batch : \",t_end - t_start)\n",
    "    times.append(t_end - t_start)\n",
    "    a2,z2,a1,z1 = eelr.forward(enc_x_train,ctx_training)\n",
    "    data=torch.tensor(a2.decrypt().tolist())\n",
    "    loss_fn = torch.nn.BCEWithLogitsLoss()\n",
    "    loss = loss_fn(data, y_train[i:i+60])\n",
    "    print(\"Loss at epoch \",epoch,loss.data)\n",
    "    out=torch.tensor(enc_y_train.sub(a2).decrypt().tolist())\n",
    "    correct=torch.abs(out)<0.5\n",
    "    print(\"Accuracy at epoch \",epoch,correct.float().mean())\n",
    "print(f\"\\nAverage time per epoch: {int(sum(times) / len(times))} seconds\")\n",
    "print(\"Final weight1 \",eelr.weight1.tolist())\n",
    "print(\"Final bias 1\",eelr.bias1.tolist())\n",
    "print(\"Final weight 2\",eelr.weight2.tolist())\n",
    "print(\"Final bias 2\",eelr.bias2.tolist())"
   ]
  },
  {
   "cell_type": "code",
   "execution_count": 8,
   "id": "1d241465",
   "metadata": {
    "execution": {
     "iopub.execute_input": "2025-04-01T16:45:07.943696Z",
     "iopub.status.busy": "2025-04-01T16:45:07.943312Z",
     "iopub.status.idle": "2025-04-01T16:45:07.948760Z",
     "shell.execute_reply": "2025-04-01T16:45:07.947958Z"
    },
    "executionInfo": {
     "elapsed": 3,
     "status": "ok",
     "timestamp": 1742742509928,
     "user": {
      "displayName": "Narasimha Murthy",
      "userId": "00427524539684510099"
     },
     "user_tz": -330
    },
    "id": "5G7lXa-Qd5Dn",
    "outputId": "b4fe4b74-19d9-43fd-9e78-626740813bef",
    "papermill": {
     "duration": 0.019068,
     "end_time": "2025-04-01T16:45:07.950147",
     "exception": false,
     "start_time": "2025-04-01T16:45:07.931079",
     "status": "completed"
    },
    "tags": []
   },
   "outputs": [
    {
     "name": "stdout",
     "output_type": "stream",
     "text": [
      "[[0.01267412548708387, 0.0036407414002542627, 0.0058107479211700844], [0.012645015489047754, 0.012424970895332592, 0.008054933440717504], [0.006528248213251793, 0.005915600993410596, 0.012758901302708799], [0.011979766536005408, 0.006761968569595049, 0.007388822396442286], [0.013571680023089918, 0.004339926638573561, 0.005905008964184225], [0.014557733481489388, 0.00714001598078178, 0.00973475794884884], [0.01685345153877173, 0.006517254357636639, 0.0016399304298652078], [0.002080558587520019, 0.0030807965128071264, 0.0049228990750145385], [0.0032053106569764032, 0.007987812330338604, 0.005332338713438613], [0.05071060804324435, 0.01808361868289911, 0.021676448814886798]]\n",
      "[0.007437526692695529, 0.007088934555222942, -0.003428844783293678]\n",
      "[[0.052434820612724274], [0.010894065972395995], [0.01596880716018025]]\n",
      "[-0.02822556391952444]\n"
     ]
    }
   ],
   "source": [
    "print(eelr.weight1.tolist())\n",
    "print(eelr.bias1.tolist())\n",
    "print(eelr.weight2.tolist())\n",
    "print(eelr.bias2.tolist())"
   ]
  },
  {
   "cell_type": "code",
   "execution_count": 9,
   "id": "5d1d58c9",
   "metadata": {
    "execution": {
     "iopub.execute_input": "2025-04-01T16:45:07.973957Z",
     "iopub.status.busy": "2025-04-01T16:45:07.973672Z",
     "iopub.status.idle": "2025-04-01T16:45:20.250440Z",
     "shell.execute_reply": "2025-04-01T16:45:20.249390Z"
    },
    "executionInfo": {
     "elapsed": 92271,
     "status": "ok",
     "timestamp": 1742745772755,
     "user": {
      "displayName": "Narasimha Murthy",
      "userId": "00427524539684510099"
     },
     "user_tz": -330
    },
    "id": "KLgUVLDRjFUR",
    "outputId": "0516727f-29d4-430d-df09-8d40fa237b83",
    "papermill": {
     "duration": 12.290592,
     "end_time": "2025-04-01T16:45:20.252184",
     "exception": false,
     "start_time": "2025-04-01T16:45:07.961592",
     "status": "completed"
    },
    "tags": []
   },
   "outputs": [],
   "source": [
    "#eelr.encrypt(ctx_training)\n",
    "j,k,l,r=eelr.forward(enc_x_train,ctx_training)\n",
    "#enc_y_train.sub(j).decrypt().tolist()"
   ]
  },
  {
   "cell_type": "code",
   "execution_count": 10,
   "id": "50362598",
   "metadata": {
    "execution": {
     "iopub.execute_input": "2025-04-01T16:45:20.277260Z",
     "iopub.status.busy": "2025-04-01T16:45:20.276956Z",
     "iopub.status.idle": "2025-04-01T16:45:20.471371Z",
     "shell.execute_reply": "2025-04-01T16:45:20.470469Z"
    },
    "executionInfo": {
     "elapsed": 12,
     "status": "ok",
     "timestamp": 1742746346136,
     "user": {
      "displayName": "Narasimha Murthy",
      "userId": "00427524539684510099"
     },
     "user_tz": -330
    },
    "id": "_UaJ3vhlvLCX",
    "outputId": "8854fc07-8857-4b2b-b1b1-07b7a048fa53",
    "papermill": {
     "duration": 0.208571,
     "end_time": "2025-04-01T16:45:20.472920",
     "exception": false,
     "start_time": "2025-04-01T16:45:20.264349",
     "status": "completed"
    },
    "tags": []
   },
   "outputs": [
    {
     "name": "stdout",
     "output_type": "stream",
     "text": [
      "tensor(0.5167)\n"
     ]
    }
   ],
   "source": [
    "out=torch.tensor(enc_y_train.sub(j).decrypt().tolist())\n",
    "correct=torch.abs(out)<0.5\n",
    "print(correct.float().mean())"
   ]
  },
  {
   "cell_type": "code",
   "execution_count": 11,
   "id": "110e57d5",
   "metadata": {
    "execution": {
     "iopub.execute_input": "2025-04-01T16:45:20.555279Z",
     "iopub.status.busy": "2025-04-01T16:45:20.554939Z",
     "iopub.status.idle": "2025-04-01T16:45:40.776396Z",
     "shell.execute_reply": "2025-04-01T16:45:40.775528Z"
    },
    "id": "WiNUecEKxti0",
    "papermill": {
     "duration": 20.235632,
     "end_time": "2025-04-01T16:45:40.778059",
     "exception": false,
     "start_time": "2025-04-01T16:45:20.542427",
     "status": "completed"
    },
    "tags": []
   },
   "outputs": [],
   "source": [
    "enc_x_test = ts.ckks_tensor(ctx_training, x_test)\n",
    "enc_y_test = ts.ckks_tensor(ctx_training, y_test)"
   ]
  },
  {
   "cell_type": "code",
   "execution_count": 12,
   "id": "60025f1a",
   "metadata": {
    "execution": {
     "iopub.execute_input": "2025-04-01T16:45:40.802534Z",
     "iopub.status.busy": "2025-04-01T16:45:40.802213Z",
     "iopub.status.idle": "2025-04-01T16:46:58.640483Z",
     "shell.execute_reply": "2025-04-01T16:46:58.639240Z"
    },
    "papermill": {
     "duration": 77.852107,
     "end_time": "2025-04-01T16:46:58.642162",
     "exception": false,
     "start_time": "2025-04-01T16:45:40.790055",
     "status": "completed"
    },
    "tags": []
   },
   "outputs": [
    {
     "name": "stdout",
     "output_type": "stream",
     "text": [
      "tensor(0.4970)\n"
     ]
    }
   ],
   "source": [
    "m,n,j,k=eelr.forward(enc_x_test,ctx_training)\n",
    "out=torch.tensor(enc_y_test.sub(m).decrypt().tolist())\n",
    "correct=torch.abs(out)<0.5\n",
    "print(correct.float().mean())"
   ]
  },
  {
   "cell_type": "code",
   "execution_count": null,
   "id": "fdfa96bc",
   "metadata": {
    "papermill": {
     "duration": 0.011681,
     "end_time": "2025-04-01T16:46:58.665854",
     "exception": false,
     "start_time": "2025-04-01T16:46:58.654173",
     "status": "completed"
    },
    "tags": []
   },
   "outputs": [],
   "source": []
  }
 ],
 "metadata": {
  "accelerator": "TPU",
  "colab": {
   "gpuType": "V28",
   "provenance": []
  },
  "kaggle": {
   "accelerator": "none",
   "dataSources": [
    {
     "datasetId": 6961199,
     "sourceId": 11156928,
     "sourceType": "datasetVersion"
    }
   ],
   "dockerImageVersionId": 30918,
   "isGpuEnabled": false,
   "isInternetEnabled": true,
   "language": "python",
   "sourceType": "notebook"
  },
  "kernelspec": {
   "display_name": "Python 3",
   "language": "python",
   "name": "python3"
  },
  "language_info": {
   "codemirror_mode": {
    "name": "ipython",
    "version": 3
   },
   "file_extension": ".py",
   "mimetype": "text/x-python",
   "name": "python",
   "nbconvert_exporter": "python",
   "pygments_lexer": "ipython3",
   "version": "3.10.12"
  },
  "papermill": {
   "default_parameters": {},
   "duration": 3899.05281,
   "end_time": "2025-04-01T16:47:02.287790",
   "environment_variables": {},
   "exception": null,
   "input_path": "__notebook__.ipynb",
   "output_path": "__notebook__.ipynb",
   "parameters": {},
   "start_time": "2025-04-01T15:42:03.234980",
   "version": "2.6.0"
  }
 },
 "nbformat": 4,
 "nbformat_minor": 5
}
