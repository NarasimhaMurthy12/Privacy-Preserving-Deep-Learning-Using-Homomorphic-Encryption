{
 "cells": [
  {
   "cell_type": "markdown",
   "id": "51a1e9a3",
   "metadata": {
    "id": "9DMr9rhddlYt",
    "papermill": {
     "duration": 0.003328,
     "end_time": "2025-04-01T16:37:49.499408",
     "exception": false,
     "start_time": "2025-04-01T16:37:49.496080",
     "status": "completed"
    },
    "tags": []
   },
   "source": [
    "Implementation of Deep net with 2 hidden layers that learns with encrypted data"
   ]
  },
  {
   "cell_type": "code",
   "execution_count": 1,
   "id": "e550edf6",
   "metadata": {
    "execution": {
     "iopub.execute_input": "2025-04-01T16:37:49.506619Z",
     "iopub.status.busy": "2025-04-01T16:37:49.506306Z",
     "iopub.status.idle": "2025-04-01T16:37:54.742742Z",
     "shell.execute_reply": "2025-04-01T16:37:54.741370Z"
    },
    "id": "Ygi2n_WBRT_q",
    "outputId": "dde2d864-d512-45f1-c0c2-fe8eca774f53",
    "papermill": {
     "duration": 5.242428,
     "end_time": "2025-04-01T16:37:54.744668",
     "exception": false,
     "start_time": "2025-04-01T16:37:49.502240",
     "status": "completed"
    },
    "tags": []
   },
   "outputs": [
    {
     "name": "stdout",
     "output_type": "stream",
     "text": [
      "Collecting tenseal\r\n"
     ]
    },
    {
     "name": "stdout",
     "output_type": "stream",
     "text": [
      "  Downloading tenseal-0.3.16-cp310-cp310-manylinux_2_27_x86_64.manylinux_2_28_x86_64.whl (4.8 MB)\r\n",
      "\u001b[?25l     \u001b[90m━━━━━━━━━━━━━━━━━━━━━━━━━━━━━━━━━━━━━━━━\u001b[0m \u001b[32m0.0/4.8 MB\u001b[0m \u001b[31m?\u001b[0m eta \u001b[36m-:--:--\u001b[0m"
     ]
    },
    {
     "name": "stdout",
     "output_type": "stream",
     "text": [
      "\r",
      "\u001b[2K     \u001b[91m━━━━\u001b[0m\u001b[91m╸\u001b[0m\u001b[90m━━━━━━━━━━━━━━━━━━━━━━━━━━━━━━━━━━━\u001b[0m \u001b[32m0.6/4.8 MB\u001b[0m \u001b[31m17.1 MB/s\u001b[0m eta \u001b[36m0:00:01\u001b[0m"
     ]
    },
    {
     "name": "stdout",
     "output_type": "stream",
     "text": [
      "\r",
      "\u001b[2K     \u001b[91m━━━━━━━━━━━━\u001b[0m\u001b[91m╸\u001b[0m\u001b[90m━━━━━━━━━━━━━━━━━━━━━━━━━━━\u001b[0m \u001b[32m1.5/4.8 MB\u001b[0m \u001b[31m23.0 MB/s\u001b[0m eta \u001b[36m0:00:01\u001b[0m\r",
      "\u001b[2K     \u001b[91m━━━━━━━━━━━━━━━━━━━━━━━━\u001b[0m\u001b[91m╸\u001b[0m\u001b[90m━━━━━━━━━━━━━━━\u001b[0m \u001b[32m3.0/4.8 MB\u001b[0m \u001b[31m28.9 MB/s\u001b[0m eta \u001b[36m0:00:01\u001b[0m"
     ]
    },
    {
     "name": "stdout",
     "output_type": "stream",
     "text": [
      "\r",
      "\u001b[2K     \u001b[91m━━━━━━━━━━━━━━━━━━━━━━━━━━━━━━━━━━━━━━━\u001b[0m\u001b[91m╸\u001b[0m \u001b[32m4.8/4.8 MB\u001b[0m \u001b[31m35.7 MB/s\u001b[0m eta \u001b[36m0:00:01\u001b[0m"
     ]
    },
    {
     "name": "stdout",
     "output_type": "stream",
     "text": [
      "\r",
      "\u001b[2K     \u001b[90m━━━━━━━━━━━━━━━━━━━━━━━━━━━━━━━━━━━━━━━━\u001b[0m \u001b[32m4.8/4.8 MB\u001b[0m \u001b[31m28.1 MB/s\u001b[0m eta \u001b[36m0:00:00\u001b[0m\r\n",
      "\u001b[?25h"
     ]
    },
    {
     "name": "stdout",
     "output_type": "stream",
     "text": [
      "Installing collected packages: tenseal\r\n"
     ]
    },
    {
     "name": "stdout",
     "output_type": "stream",
     "text": [
      "Successfully installed tenseal-0.3.16\r\n",
      "\u001b[33mWARNING: Running pip as the 'root' user can result in broken permissions and conflicting behaviour with the system package manager. It is recommended to use a virtual environment instead: https://pip.pypa.io/warnings/venv\u001b[0m\u001b[33m\r\n",
      "\u001b[0m"
     ]
    },
    {
     "name": "stdout",
     "output_type": "stream",
     "text": [
      "\r\n",
      "\u001b[1m[\u001b[0m\u001b[34;49mnotice\u001b[0m\u001b[1;39;49m]\u001b[0m\u001b[39;49m A new release of pip is available: \u001b[0m\u001b[31;49m23.0.1\u001b[0m\u001b[39;49m -> \u001b[0m\u001b[32;49m25.0.1\u001b[0m\r\n",
      "\u001b[1m[\u001b[0m\u001b[34;49mnotice\u001b[0m\u001b[1;39;49m]\u001b[0m\u001b[39;49m To update, run: \u001b[0m\u001b[32;49mpip install --upgrade pip\u001b[0m\r\n"
     ]
    }
   ],
   "source": [
    "!pip install tenseal"
   ]
  },
  {
   "cell_type": "code",
   "execution_count": 2,
   "id": "febf7f0b",
   "metadata": {
    "execution": {
     "iopub.execute_input": "2025-04-01T16:37:54.753655Z",
     "iopub.status.busy": "2025-04-01T16:37:54.753378Z",
     "iopub.status.idle": "2025-04-01T16:38:20.264113Z",
     "shell.execute_reply": "2025-04-01T16:38:20.262595Z"
    },
    "id": "1f47e986-014c-4ffd-94d1-631afde3099a",
    "papermill": {
     "duration": 25.516997,
     "end_time": "2025-04-01T16:38:20.265429",
     "exception": false,
     "start_time": "2025-04-01T16:37:54.748432",
     "status": "completed"
    },
    "tags": []
   },
   "outputs": [],
   "source": [
    "import torch\n",
    "import tenseal as ts\n",
    "import pandas as pd\n",
    "import random\n",
    "from time import time\n",
    "\n",
    "# those are optional and are not necessary for training\n",
    "import numpy as np\n",
    "import matplotlib.pyplot as plt"
   ]
  },
  {
   "cell_type": "code",
   "execution_count": 3,
   "id": "cc46bbae",
   "metadata": {
    "execution": {
     "iopub.execute_input": "2025-04-01T16:38:20.273974Z",
     "iopub.status.busy": "2025-04-01T16:38:20.273589Z",
     "iopub.status.idle": "2025-04-01T16:38:20.318924Z",
     "shell.execute_reply": "2025-04-01T16:38:20.317384Z"
    },
    "id": "b5c04e07-ee8c-49e8-a8ab-b30b06efeba7",
    "outputId": "b691fe59-f269-4fad-ef0a-4dd688b86364",
    "papermill": {
     "duration": 0.052127,
     "end_time": "2025-04-01T16:38:20.320903",
     "exception": false,
     "start_time": "2025-04-01T16:38:20.268776",
     "status": "completed"
    },
    "tags": []
   },
   "outputs": [
    {
     "name": "stderr",
     "output_type": "stream",
     "text": [
      "/tmp/ipykernel_74/2663072693.py:22: DeprecationWarning: DataFrameGroupBy.apply operated on the grouping columns. This behavior is deprecated, and in a future version of pandas the grouping columns will be excluded from the operation. Either pass `include_groups=False` to exclude the groupings or explicitly select the grouping columns after groupby to silence this warning.\n",
      "  data = grouped.apply(lambda x: x.sample(grouped.size().min(), random_state=73).reset_index(drop=True))\n"
     ]
    },
    {
     "name": "stdout",
     "output_type": "stream",
     "text": [
      "############# Data summary #############\n",
      "x_train has shape: torch.Size([780, 10])\n",
      "y_train has shape: torch.Size([780, 1])\n",
      "x_test has shape: torch.Size([334, 10])\n",
      "y_test has shape: torch.Size([334, 1])\n",
      "#######################################\n"
     ]
    }
   ],
   "source": [
    "torch.random.manual_seed(73)\n",
    "random.seed(73)\n",
    "\n",
    "\n",
    "def split_train_test(x, y, test_ratio=0.3):\n",
    "    idxs = [i for i in range(len(x))]\n",
    "    random.shuffle(idxs)\n",
    "    # delimiter between test and train data\n",
    "    delim = int(len(x) * test_ratio)\n",
    "    test_idxs, train_idxs = idxs[:delim], idxs[delim:]\n",
    "    return x[train_idxs], y[train_idxs], x[test_idxs], y[test_idxs]\n",
    "\n",
    "\n",
    "def heart_disease_data():\n",
    "    data = pd.read_csv(\"/kaggle/input/trydataset/framingham.csv\")\n",
    "    # drop rows with missing values\n",
    "    data = data.dropna()\n",
    "    # drop some features\n",
    "    data = data.drop(columns=[\"education\", \"currentSmoker\", \"BPMeds\", \"diabetes\", \"diaBP\", \"BMI\"])\n",
    "    # balance data\n",
    "    grouped = data.groupby('TenYearCHD')\n",
    "    data = grouped.apply(lambda x: x.sample(grouped.size().min(), random_state=73).reset_index(drop=True))\n",
    "    # extract labels\n",
    "    y = torch.tensor(data[\"TenYearCHD\"].values).float().unsqueeze(1)\n",
    "    #data = data.drop(\"TenYearCHD\",'columns')\n",
    "    # standardize data\n",
    "    data = (data - data.mean()) / data.std()\n",
    "    x = torch.tensor(data.values).float()\n",
    "    return split_train_test(x, y)\n",
    "\n",
    "\n",
    "def random_data(m=1024, n=2):\n",
    "    # data separable by the line `y = x`\n",
    "    x_train = torch.randn(m, n)\n",
    "    x_test = torch.randn(m // 2, n)\n",
    "    y_train = (x_train[:, 0] >= x_train[:, 1]).float().unsqueeze(0).t()\n",
    "    y_test = (x_test[:, 0] >= x_test[:, 1]).float().unsqueeze(0).t()\n",
    "    return x_train, y_train, x_test, y_test\n",
    "\n",
    "\n",
    "# You can use whatever data you want without modification to the tutorial\n",
    "# x_train, y_train, x_test, y_test = random_data()\n",
    "x_train, y_train, x_test, y_test = heart_disease_data()\n",
    "\n",
    "print(\"############# Data summary #############\")\n",
    "print(f\"x_train has shape: {x_train.shape}\")\n",
    "print(f\"y_train has shape: {y_train.shape}\")\n",
    "print(f\"x_test has shape: {x_test.shape}\")\n",
    "print(f\"y_test has shape: {y_test.shape}\")\n",
    "print(\"#######################################\")"
   ]
  },
  {
   "cell_type": "code",
   "execution_count": 4,
   "id": "fe232f6b",
   "metadata": {
    "execution": {
     "iopub.execute_input": "2025-04-01T16:38:20.331582Z",
     "iopub.status.busy": "2025-04-01T16:38:20.331261Z",
     "iopub.status.idle": "2025-04-01T16:38:21.544881Z",
     "shell.execute_reply": "2025-04-01T16:38:21.543056Z"
    },
    "id": "7d29335d-0550-47cc-a59f-ac72fe2ea0e3",
    "papermill": {
     "duration": 1.22054,
     "end_time": "2025-04-01T16:38:21.545942",
     "exception": false,
     "start_time": "2025-04-01T16:38:20.325402",
     "status": "completed"
    },
    "tags": []
   },
   "outputs": [],
   "source": [
    "# parameters\n",
    "poly_mod_degree = 8192\n",
    "coeff_mod_bit_sizes = [40, 21, 21, 21, 21, 21, 21, 40]\n",
    "# create TenSEALContext\n",
    "ctx_training = ts.context(ts.SCHEME_TYPE.CKKS, poly_mod_degree, -1, coeff_mod_bit_sizes)\n",
    "ctx_training.global_scale = 2 ** 21\n",
    "ctx_training.generate_galois_keys()"
   ]
  },
  {
   "cell_type": "code",
   "execution_count": 5,
   "id": "8b71cec1",
   "metadata": {
    "execution": {
     "iopub.execute_input": "2025-04-01T16:38:21.554623Z",
     "iopub.status.busy": "2025-04-01T16:38:21.554320Z",
     "iopub.status.idle": "2025-04-01T16:38:21.557971Z",
     "shell.execute_reply": "2025-04-01T16:38:21.556930Z"
    },
    "id": "fca037ed-0491-4249-8032-e567ff666951",
    "outputId": "e5b4a1db-9f1a-4c0d-8c6a-74bc89074f12",
    "papermill": {
     "duration": 0.010045,
     "end_time": "2025-04-01T16:38:21.559674",
     "exception": false,
     "start_time": "2025-04-01T16:38:21.549629",
     "status": "completed"
    },
    "tags": []
   },
   "outputs": [],
   "source": [
    "#t_start = time()\n",
    "#enc_x_train = ts.ckks_tensor(ctx_training, x_train[0:200])\n",
    "#enc_y_train = ts.ckks_tensor(ctx_training, y_train[0:200])\n",
    "#t_end = time()\n",
    "#print(f\"Encryption of the training_set took {int(t_end - t_start)} seconds\")\n",
    "#print(enc_x_train[0])"
   ]
  },
  {
   "cell_type": "code",
   "execution_count": 6,
   "id": "25418451",
   "metadata": {
    "execution": {
     "iopub.execute_input": "2025-04-01T16:38:21.567933Z",
     "iopub.status.busy": "2025-04-01T16:38:21.567684Z",
     "iopub.status.idle": "2025-04-01T16:38:21.585342Z",
     "shell.execute_reply": "2025-04-01T16:38:21.583907Z"
    },
    "id": "LocrA1zn57Ep",
    "papermill": {
     "duration": 0.023197,
     "end_time": "2025-04-01T16:38:21.586345",
     "exception": false,
     "start_time": "2025-04-01T16:38:21.563148",
     "status": "completed"
    },
    "tags": []
   },
   "outputs": [],
   "source": [
    "class EncryptedDL2layer() :\n",
    "  def __init__(self) -> None:\n",
    "      self.weight1=np.random.rand(10,6)*0.01\n",
    "      self.bias1=np.random.rand(6)*0.01\n",
    "      self.weight2=np.random.rand(6, 3)*0.01\n",
    "      self.bias2=np.random.rand(3)*0.01\n",
    "      self.weight3=np.random.rand(3,1)*0.01\n",
    "      self.bias3=np.random.rand(1)*0.01\n",
    "      self.dw1=0\n",
    "      self.db1=0\n",
    "      self.dw2=0\n",
    "      self.db2=0\n",
    "      self.dw3=0\n",
    "      self.db3=0\n",
    "  def bootstrapping(enc,ctx_training) :\n",
    "    return ts.ckks_tensor(ctx_training,enc.decrypt())\n",
    "  def sigmoid(enc_x):\n",
    "    return enc_x.polyval([0.5, 0.197, 0, -0.004])\n",
    "  def sigmoid_derv(enc_x):\n",
    "    return enc_x.polyval([0.197,0,-0.012,0])\n",
    "  def forward(self,enc_x_train,ctx_training) :\n",
    "    z11=enc_x_train.mm(self.weight1)\n",
    "    z1=z11.add(self.bias1)\n",
    "    a1=EncryptedDL2layer.sigmoid(z1)\n",
    "    y=EncryptedDL2layer.bootstrapping(a1,ctx_training)\n",
    "    z21=y.mm(self.weight2)\n",
    "    z2=z21.add(self.bias2)\n",
    "    a2=EncryptedDL2layer.sigmoid(z2)\n",
    "    y1=EncryptedDL2layer.bootstrapping(a2,ctx_training)\n",
    "    z31=y1.mm(self.weight3)\n",
    "    z3=z31.add(self.bias3)\n",
    "    a3=EncryptedDL2layer.sigmoid(z3)\n",
    "    a3=EncryptedDL2layer.bootstrapping(a3,ctx_training)\n",
    "    return a3,z3,a2,z2,a1,z1\n",
    "  def backward(self,a3,z3,a2,z2,a1,z1,enc_y_train,ctx_training) :\n",
    "    #calculating the output at the layer 2\n",
    "    error=a3-enc_y_train\n",
    "    der=EncryptedDL2layer.sigmoid_derv(z3)\n",
    "    #finding delta3\n",
    "    delta3=error.mul(der)\n",
    "    #using bootstrapping\n",
    "    delta3=EncryptedDL2layer.bootstrapping(delta3,ctx_training)\n",
    "\n",
    "    del2=delta3.mm(self.weight3.transpose())\n",
    "    del2=EncryptedDL2layer.bootstrapping(del2,ctx_training)\n",
    "    #finding der2\n",
    "    der2=EncryptedDL2layer.sigmoid_derv(z2)\n",
    "    #using bootstrapping\n",
    "    der2=EncryptedDL2layer.bootstrapping(der2,ctx_training)\n",
    "    #finding delta2\n",
    "    delta2=del2.mul(der2)\n",
    "    del1=delta2.mm(self.weight2.transpose())\n",
    "    del1=EncryptedDL2layer.bootstrapping(del1,ctx_training)\n",
    "    #finding der1\n",
    "    der1=EncryptedDL2layer.sigmoid_derv(z1)\n",
    "    #using bootstrapping\n",
    "    der1=EncryptedDL2layer.bootstrapping(der1,ctx_training)\n",
    "    #finding delta1\n",
    "    delta1=del1.mul(der1)\n",
    "    #finding the gradients\n",
    "    #for weight3 and bias3\n",
    "    self.dw3=a2.transpose().mm(delta3)\n",
    "    self.db3=delta3.sum()\n",
    "    #for weight2 and bias2\n",
    "    self.dw2=a1.transpose().mm(delta2)\n",
    "    self.db2=delta2.sum()\n",
    "    #for weight1 and bias1\n",
    "    self.dw1=enc_x_train.transpose().mm(delta1)\n",
    "    self.db1=delta1.sum()\n",
    "  def update_params(self):\n",
    "    self.weight3=self.weight3-0.1*self.dw3\n",
    "    self.bias3=self.bias3-0.1*self.db3\n",
    "    self.weight2=self.weight2-0.1*self.dw2\n",
    "    self.bias2=self.bias2-0.1*self.db2\n",
    "    self.weight1=self.weight1-0.1*self.dw1\n",
    "    self.bias1=self.bias1-0.1*self.db1\n",
    "  def encrypt(self, context):\n",
    "    self.weight1 = ts.ckks_tensor(context, self.weight1)\n",
    "    self.bias1 = ts.ckks_tensor(context, self.bias1)\n",
    "    self.weight2 = ts.ckks_tensor(context, self.weight2)\n",
    "    self.bias2 = ts.ckks_tensor(context, self.bias2)\n",
    "    self.weight3 = ts.ckks_tensor(context, self.weight3)\n",
    "    self.bias3 = ts.ckks_tensor(context, self.bias3)\n",
    "  def decrypt(self):\n",
    "    self.weight1 = self.weight1.decrypt()\n",
    "    self.bias1 = self.bias1.decrypt()\n",
    "    self.weight2 = self.weight2.decrypt()\n",
    "    self.bias2 = self.bias2.decrypt()\n",
    "    self.weight3 = self.weight3.decrypt()\n",
    "    self.bias3 = self.bias3.decrypt()\n",
    "  def accuracy(self,x_test,y_test):\n",
    "    #self.decrypt()\n",
    "    w1 = torch.tensor(self.weight1)\n",
    "    b1 = torch.tensor(self.bias1)\n",
    "    out1 = torch.sigmoid(x_test.matmul(w1) + b1).reshape(-1, 1)\n",
    "    w2 = torch.tensor(self.weight2)\n",
    "    b2 = torch.tensor(self.bias2)\n",
    "    out2 = torch.sigmoid(out1.matmul(w2) + b2).reshape(-1, 1)\n",
    "    correct = torch.abs(y_test - out2) < 0.5\n",
    "    return correct.float().mean()\n",
    "\n",
    "  def __call__(self, *args, **kwargs):\n",
    "    return self.forward(*args, **kwargs)\n"
   ]
  },
  {
   "cell_type": "code",
   "execution_count": 7,
   "id": "f8963b30",
   "metadata": {
    "execution": {
     "iopub.execute_input": "2025-04-01T16:38:21.594886Z",
     "iopub.status.busy": "2025-04-01T16:38:21.594672Z",
     "iopub.status.idle": "2025-04-01T17:53:46.955229Z",
     "shell.execute_reply": "2025-04-01T17:53:46.953905Z"
    },
    "id": "vj7f2Rt3BTsJ",
    "papermill": {
     "duration": 4525.367246,
     "end_time": "2025-04-01T17:53:46.957212",
     "exception": false,
     "start_time": "2025-04-01T16:38:21.589966",
     "status": "completed"
    },
    "tags": []
   },
   "outputs": [
    {
     "name": "stdout",
     "output_type": "stream",
     "text": [
      "Epoch :  0\n",
      "Encryption of the training_set took 0 seconds\n",
      "Batch :  0.0\n"
     ]
    },
    {
     "name": "stdout",
     "output_type": "stream",
     "text": [
      "\n",
      "\n"
     ]
    },
    {
     "name": "stdout",
     "output_type": "stream",
     "text": [
      "Encryption of the training_set took 0 seconds\n",
      "Batch :  1.0\n"
     ]
    },
    {
     "name": "stdout",
     "output_type": "stream",
     "text": [
      "\n",
      "\n"
     ]
    },
    {
     "name": "stdout",
     "output_type": "stream",
     "text": [
      "Encryption of the training_set took 0 seconds\n",
      "Batch :  2.0\n"
     ]
    },
    {
     "name": "stdout",
     "output_type": "stream",
     "text": [
      "\n",
      "\n"
     ]
    },
    {
     "name": "stdout",
     "output_type": "stream",
     "text": [
      "Encryption of the training_set took 0 seconds\n",
      "Batch :  3.0\n"
     ]
    },
    {
     "name": "stdout",
     "output_type": "stream",
     "text": [
      "\n",
      "\n"
     ]
    },
    {
     "name": "stdout",
     "output_type": "stream",
     "text": [
      "Encryption of the training_set took 0 seconds\n",
      "Batch :  4.0\n"
     ]
    },
    {
     "name": "stdout",
     "output_type": "stream",
     "text": [
      "\n",
      "\n"
     ]
    },
    {
     "name": "stdout",
     "output_type": "stream",
     "text": [
      "Encryption of the training_set took 0 seconds\n",
      "Batch :  5.0\n"
     ]
    },
    {
     "name": "stdout",
     "output_type": "stream",
     "text": [
      "\n",
      "\n"
     ]
    },
    {
     "name": "stdout",
     "output_type": "stream",
     "text": [
      "Encryption of the training_set took 0 seconds\n",
      "Batch :  6.0\n"
     ]
    },
    {
     "name": "stdout",
     "output_type": "stream",
     "text": [
      "\n",
      "\n"
     ]
    },
    {
     "name": "stdout",
     "output_type": "stream",
     "text": [
      "Encryption of the training_set took 0 seconds\n",
      "Batch :  7.0\n"
     ]
    },
    {
     "name": "stdout",
     "output_type": "stream",
     "text": [
      "\n",
      "\n"
     ]
    },
    {
     "name": "stdout",
     "output_type": "stream",
     "text": [
      "Encryption of the training_set took 0 seconds\n",
      "Batch :  8.0\n"
     ]
    },
    {
     "name": "stdout",
     "output_type": "stream",
     "text": [
      "\n",
      "\n"
     ]
    },
    {
     "name": "stdout",
     "output_type": "stream",
     "text": [
      "Encryption of the training_set took 0 seconds\n",
      "Batch :  9.0\n"
     ]
    },
    {
     "name": "stdout",
     "output_type": "stream",
     "text": [
      "\n",
      "\n"
     ]
    },
    {
     "name": "stdout",
     "output_type": "stream",
     "text": [
      "Encryption of the training_set took 0 seconds\n",
      "Batch :  10.0\n"
     ]
    },
    {
     "name": "stdout",
     "output_type": "stream",
     "text": [
      "\n",
      "\n"
     ]
    },
    {
     "name": "stdout",
     "output_type": "stream",
     "text": [
      "Encryption of the training_set took 0 seconds"
     ]
    },
    {
     "name": "stdout",
     "output_type": "stream",
     "text": [
      "\n",
      "Batch :  11.0\n"
     ]
    },
    {
     "name": "stdout",
     "output_type": "stream",
     "text": [
      "\n",
      "\n"
     ]
    },
    {
     "name": "stdout",
     "output_type": "stream",
     "text": [
      "Encryption of the training_set took 0 seconds"
     ]
    },
    {
     "name": "stdout",
     "output_type": "stream",
     "text": [
      "\n",
      "Batch :  12.0\n"
     ]
    },
    {
     "name": "stdout",
     "output_type": "stream",
     "text": [
      "\n",
      "\n"
     ]
    },
    {
     "name": "stdout",
     "output_type": "stream",
     "text": [
      "Loss at epoch  0 "
     ]
    },
    {
     "name": "stdout",
     "output_type": "stream",
     "text": [
      "tensor(0.7176)\n"
     ]
    },
    {
     "name": "stdout",
     "output_type": "stream",
     "text": [
      "Accuracy at epoch  0 "
     ]
    },
    {
     "name": "stdout",
     "output_type": "stream",
     "text": [
      "tensor(0.5167)\n",
      "Epoch :  1\n"
     ]
    },
    {
     "name": "stdout",
     "output_type": "stream",
     "text": [
      "Encryption of the training_set took 0 seconds"
     ]
    },
    {
     "name": "stdout",
     "output_type": "stream",
     "text": [
      "\n",
      "Batch :  0.0\n"
     ]
    },
    {
     "name": "stdout",
     "output_type": "stream",
     "text": [
      "\n",
      "\n"
     ]
    },
    {
     "name": "stdout",
     "output_type": "stream",
     "text": [
      "Encryption of the training_set took 0 seconds\n",
      "Batch :  1.0\n"
     ]
    },
    {
     "name": "stdout",
     "output_type": "stream",
     "text": [
      "\n",
      "\n"
     ]
    },
    {
     "name": "stdout",
     "output_type": "stream",
     "text": [
      "Encryption of the training_set took 0 seconds\n",
      "Batch :  2.0\n"
     ]
    },
    {
     "name": "stdout",
     "output_type": "stream",
     "text": [
      "\n",
      "\n"
     ]
    },
    {
     "name": "stdout",
     "output_type": "stream",
     "text": [
      "Encryption of the training_set took 0 seconds\n",
      "Batch :  3.0\n"
     ]
    },
    {
     "name": "stdout",
     "output_type": "stream",
     "text": [
      "\n",
      "\n"
     ]
    },
    {
     "name": "stdout",
     "output_type": "stream",
     "text": [
      "Encryption of the training_set took 0 seconds\n",
      "Batch :  4.0\n"
     ]
    },
    {
     "name": "stdout",
     "output_type": "stream",
     "text": [
      "\n",
      "\n"
     ]
    },
    {
     "name": "stdout",
     "output_type": "stream",
     "text": [
      "Encryption of the training_set took 0 seconds"
     ]
    },
    {
     "name": "stdout",
     "output_type": "stream",
     "text": [
      "\n",
      "Batch :  5.0\n"
     ]
    },
    {
     "name": "stdout",
     "output_type": "stream",
     "text": [
      "\n",
      "\n"
     ]
    },
    {
     "name": "stdout",
     "output_type": "stream",
     "text": [
      "Encryption of the training_set took 0 seconds"
     ]
    },
    {
     "name": "stdout",
     "output_type": "stream",
     "text": [
      "\n",
      "Batch :  6.0\n"
     ]
    },
    {
     "name": "stdout",
     "output_type": "stream",
     "text": [
      "\n",
      "\n"
     ]
    },
    {
     "name": "stdout",
     "output_type": "stream",
     "text": [
      "Encryption of the training_set took 0 seconds\n",
      "Batch :  7.0\n"
     ]
    },
    {
     "name": "stdout",
     "output_type": "stream",
     "text": [
      "\n",
      "\n"
     ]
    },
    {
     "name": "stdout",
     "output_type": "stream",
     "text": [
      "Encryption of the training_set took 0 seconds"
     ]
    },
    {
     "name": "stdout",
     "output_type": "stream",
     "text": [
      "\n",
      "Batch :  8.0\n"
     ]
    },
    {
     "name": "stdout",
     "output_type": "stream",
     "text": [
      "\n",
      "\n"
     ]
    },
    {
     "name": "stdout",
     "output_type": "stream",
     "text": [
      "Encryption of the training_set took 0 seconds\n",
      "Batch :  9.0\n"
     ]
    },
    {
     "name": "stdout",
     "output_type": "stream",
     "text": [
      "\n",
      "\n"
     ]
    },
    {
     "name": "stdout",
     "output_type": "stream",
     "text": [
      "Encryption of the training_set took 0 seconds\n",
      "Batch :  10.0\n"
     ]
    },
    {
     "name": "stdout",
     "output_type": "stream",
     "text": [
      "\n",
      "\n"
     ]
    },
    {
     "name": "stdout",
     "output_type": "stream",
     "text": [
      "Encryption of the training_set took 0 seconds"
     ]
    },
    {
     "name": "stdout",
     "output_type": "stream",
     "text": [
      "\n",
      "Batch :  11.0\n"
     ]
    },
    {
     "name": "stdout",
     "output_type": "stream",
     "text": [
      "\n",
      "\n"
     ]
    },
    {
     "name": "stdout",
     "output_type": "stream",
     "text": [
      "Encryption of the training_set took 0 seconds"
     ]
    },
    {
     "name": "stdout",
     "output_type": "stream",
     "text": [
      "\n",
      "Batch :  12.0\n"
     ]
    },
    {
     "name": "stdout",
     "output_type": "stream",
     "text": [
      "\n",
      "\n"
     ]
    },
    {
     "name": "stdout",
     "output_type": "stream",
     "text": [
      "Loss at epoch  1 "
     ]
    },
    {
     "name": "stdout",
     "output_type": "stream",
     "text": [
      "tensor(0.7174)\n"
     ]
    },
    {
     "name": "stdout",
     "output_type": "stream",
     "text": [
      "Accuracy at epoch  1 "
     ]
    },
    {
     "name": "stdout",
     "output_type": "stream",
     "text": [
      "tensor(0.5167)\n",
      "Epoch :  2\n"
     ]
    },
    {
     "name": "stdout",
     "output_type": "stream",
     "text": [
      "Encryption of the training_set took 0 seconds\n",
      "Batch :  0.0\n"
     ]
    },
    {
     "name": "stdout",
     "output_type": "stream",
     "text": [
      "\n",
      "\n"
     ]
    },
    {
     "name": "stdout",
     "output_type": "stream",
     "text": [
      "Encryption of the training_set took 0 seconds"
     ]
    },
    {
     "name": "stdout",
     "output_type": "stream",
     "text": [
      "\n",
      "Batch :  1.0\n"
     ]
    },
    {
     "name": "stdout",
     "output_type": "stream",
     "text": [
      "\n",
      "\n"
     ]
    },
    {
     "name": "stdout",
     "output_type": "stream",
     "text": [
      "Encryption of the training_set took 0 seconds\n",
      "Batch :  2.0\n"
     ]
    },
    {
     "name": "stdout",
     "output_type": "stream",
     "text": [
      "\n",
      "\n"
     ]
    },
    {
     "name": "stdout",
     "output_type": "stream",
     "text": [
      "Encryption of the training_set took 0 seconds\n",
      "Batch :  3.0\n"
     ]
    },
    {
     "name": "stdout",
     "output_type": "stream",
     "text": [
      "\n",
      "\n"
     ]
    },
    {
     "name": "stdout",
     "output_type": "stream",
     "text": [
      "Encryption of the training_set took 0 seconds\n",
      "Batch :  4.0\n"
     ]
    },
    {
     "name": "stdout",
     "output_type": "stream",
     "text": [
      "\n",
      "\n"
     ]
    },
    {
     "name": "stdout",
     "output_type": "stream",
     "text": [
      "Encryption of the training_set took 0 seconds"
     ]
    },
    {
     "name": "stdout",
     "output_type": "stream",
     "text": [
      "\n",
      "Batch :  5.0\n"
     ]
    },
    {
     "name": "stdout",
     "output_type": "stream",
     "text": [
      "\n",
      "\n"
     ]
    },
    {
     "name": "stdout",
     "output_type": "stream",
     "text": [
      "Encryption of the training_set took 0 seconds\n",
      "Batch :  6.0\n"
     ]
    },
    {
     "name": "stdout",
     "output_type": "stream",
     "text": [
      "\n",
      "\n"
     ]
    },
    {
     "name": "stdout",
     "output_type": "stream",
     "text": [
      "Encryption of the training_set took 0 seconds\n",
      "Batch :  7.0\n"
     ]
    },
    {
     "name": "stdout",
     "output_type": "stream",
     "text": [
      "\n",
      "\n"
     ]
    },
    {
     "name": "stdout",
     "output_type": "stream",
     "text": [
      "Encryption of the training_set took 0 seconds\n",
      "Batch :  8.0\n"
     ]
    },
    {
     "name": "stdout",
     "output_type": "stream",
     "text": [
      "\n",
      "\n"
     ]
    },
    {
     "name": "stdout",
     "output_type": "stream",
     "text": [
      "Encryption of the training_set took 0 seconds\n",
      "Batch :  9.0\n"
     ]
    },
    {
     "name": "stdout",
     "output_type": "stream",
     "text": [
      "\n",
      "\n"
     ]
    },
    {
     "name": "stdout",
     "output_type": "stream",
     "text": [
      "Encryption of the training_set took 0 seconds\n",
      "Batch :  10.0\n"
     ]
    },
    {
     "name": "stdout",
     "output_type": "stream",
     "text": [
      "\n",
      "\n"
     ]
    },
    {
     "name": "stdout",
     "output_type": "stream",
     "text": [
      "Encryption of the training_set took 0 seconds\n",
      "Batch :  11.0\n"
     ]
    },
    {
     "name": "stdout",
     "output_type": "stream",
     "text": [
      "\n",
      "\n"
     ]
    },
    {
     "name": "stdout",
     "output_type": "stream",
     "text": [
      "Encryption of the training_set took 0 seconds\n",
      "Batch :  12.0\n"
     ]
    },
    {
     "name": "stdout",
     "output_type": "stream",
     "text": [
      "\n",
      "\n"
     ]
    },
    {
     "name": "stdout",
     "output_type": "stream",
     "text": [
      "Loss at epoch  2 "
     ]
    },
    {
     "name": "stdout",
     "output_type": "stream",
     "text": [
      "tensor(0.7176)\n"
     ]
    },
    {
     "name": "stdout",
     "output_type": "stream",
     "text": [
      "Accuracy at epoch  2 "
     ]
    },
    {
     "name": "stdout",
     "output_type": "stream",
     "text": [
      "tensor(0.5167)\n",
      "Epoch :  3\n"
     ]
    },
    {
     "name": "stdout",
     "output_type": "stream",
     "text": [
      "Encryption of the training_set took 0 seconds\n",
      "Batch :  0.0\n"
     ]
    },
    {
     "name": "stdout",
     "output_type": "stream",
     "text": [
      "\n",
      "\n"
     ]
    },
    {
     "name": "stdout",
     "output_type": "stream",
     "text": [
      "Encryption of the training_set took 0 seconds\n",
      "Batch :  1.0\n"
     ]
    },
    {
     "name": "stdout",
     "output_type": "stream",
     "text": [
      "\n",
      "\n"
     ]
    },
    {
     "name": "stdout",
     "output_type": "stream",
     "text": [
      "Encryption of the training_set took 0 seconds\n",
      "Batch :  2.0\n"
     ]
    },
    {
     "name": "stdout",
     "output_type": "stream",
     "text": [
      "\n",
      "\n"
     ]
    },
    {
     "name": "stdout",
     "output_type": "stream",
     "text": [
      "Encryption of the training_set took 0 seconds\n",
      "Batch :  3.0\n"
     ]
    },
    {
     "name": "stdout",
     "output_type": "stream",
     "text": [
      "\n",
      "\n"
     ]
    },
    {
     "name": "stdout",
     "output_type": "stream",
     "text": [
      "Encryption of the training_set took 0 seconds\n",
      "Batch :  4.0\n"
     ]
    },
    {
     "name": "stdout",
     "output_type": "stream",
     "text": [
      "\n",
      "\n"
     ]
    },
    {
     "name": "stdout",
     "output_type": "stream",
     "text": [
      "Encryption of the training_set took 0 seconds\n",
      "Batch :  5.0\n"
     ]
    },
    {
     "name": "stdout",
     "output_type": "stream",
     "text": [
      "\n",
      "\n"
     ]
    },
    {
     "name": "stdout",
     "output_type": "stream",
     "text": [
      "Encryption of the training_set took 0 seconds\n",
      "Batch :  6.0\n"
     ]
    },
    {
     "name": "stdout",
     "output_type": "stream",
     "text": [
      "\n",
      "\n"
     ]
    },
    {
     "name": "stdout",
     "output_type": "stream",
     "text": [
      "Encryption of the training_set took 0 seconds\n",
      "Batch :  7.0\n"
     ]
    },
    {
     "name": "stdout",
     "output_type": "stream",
     "text": [
      "\n",
      "\n"
     ]
    },
    {
     "name": "stdout",
     "output_type": "stream",
     "text": [
      "Encryption of the training_set took 0 seconds\n",
      "Batch :  8.0\n"
     ]
    },
    {
     "name": "stdout",
     "output_type": "stream",
     "text": [
      "\n",
      "\n"
     ]
    },
    {
     "name": "stdout",
     "output_type": "stream",
     "text": [
      "Encryption of the training_set took 0 seconds\n",
      "Batch :  9.0\n"
     ]
    },
    {
     "name": "stdout",
     "output_type": "stream",
     "text": [
      "\n",
      "\n"
     ]
    },
    {
     "name": "stdout",
     "output_type": "stream",
     "text": [
      "Encryption of the training_set took 0 seconds"
     ]
    },
    {
     "name": "stdout",
     "output_type": "stream",
     "text": [
      "\n",
      "Batch :  10.0\n"
     ]
    },
    {
     "name": "stdout",
     "output_type": "stream",
     "text": [
      "\n",
      "\n"
     ]
    },
    {
     "name": "stdout",
     "output_type": "stream",
     "text": [
      "Encryption of the training_set took 0 seconds\n",
      "Batch :  11.0\n"
     ]
    },
    {
     "name": "stdout",
     "output_type": "stream",
     "text": [
      "\n",
      "\n"
     ]
    },
    {
     "name": "stdout",
     "output_type": "stream",
     "text": [
      "Encryption of the training_set took 0 seconds\n",
      "Batch :  12.0\n"
     ]
    },
    {
     "name": "stdout",
     "output_type": "stream",
     "text": [
      "\n",
      "\n"
     ]
    },
    {
     "name": "stdout",
     "output_type": "stream",
     "text": [
      "Loss at epoch  3 "
     ]
    },
    {
     "name": "stdout",
     "output_type": "stream",
     "text": [
      "tensor(0.7169)\n"
     ]
    },
    {
     "name": "stdout",
     "output_type": "stream",
     "text": [
      "Accuracy at epoch  3 "
     ]
    },
    {
     "name": "stdout",
     "output_type": "stream",
     "text": [
      "tensor(0.5167)\n",
      "Epoch :  4\n"
     ]
    },
    {
     "name": "stdout",
     "output_type": "stream",
     "text": [
      "Encryption of the training_set took 0 seconds"
     ]
    },
    {
     "name": "stdout",
     "output_type": "stream",
     "text": [
      "\n",
      "Batch :  0.0\n"
     ]
    },
    {
     "name": "stdout",
     "output_type": "stream",
     "text": [
      "\n",
      "\n"
     ]
    },
    {
     "name": "stdout",
     "output_type": "stream",
     "text": [
      "Encryption of the training_set took 0 seconds\n",
      "Batch :  1.0\n"
     ]
    },
    {
     "name": "stdout",
     "output_type": "stream",
     "text": [
      "\n",
      "\n"
     ]
    },
    {
     "name": "stdout",
     "output_type": "stream",
     "text": [
      "Encryption of the training_set took 0 seconds\n",
      "Batch :  2.0\n"
     ]
    },
    {
     "name": "stdout",
     "output_type": "stream",
     "text": [
      "\n",
      "\n"
     ]
    },
    {
     "name": "stdout",
     "output_type": "stream",
     "text": [
      "Encryption of the training_set took 0 seconds"
     ]
    },
    {
     "name": "stdout",
     "output_type": "stream",
     "text": [
      "\n",
      "Batch :  3.0\n"
     ]
    },
    {
     "name": "stdout",
     "output_type": "stream",
     "text": [
      "\n",
      "\n"
     ]
    },
    {
     "name": "stdout",
     "output_type": "stream",
     "text": [
      "Encryption of the training_set took 0 seconds\n",
      "Batch :  4.0\n"
     ]
    },
    {
     "name": "stdout",
     "output_type": "stream",
     "text": [
      "\n",
      "\n"
     ]
    },
    {
     "name": "stdout",
     "output_type": "stream",
     "text": [
      "Encryption of the training_set took 0 seconds\n",
      "Batch :  5.0\n"
     ]
    },
    {
     "name": "stdout",
     "output_type": "stream",
     "text": [
      "\n",
      "\n"
     ]
    },
    {
     "name": "stdout",
     "output_type": "stream",
     "text": [
      "Encryption of the training_set took 0 seconds\n",
      "Batch :  6.0\n"
     ]
    },
    {
     "name": "stdout",
     "output_type": "stream",
     "text": [
      "\n",
      "\n"
     ]
    },
    {
     "name": "stdout",
     "output_type": "stream",
     "text": [
      "Encryption of the training_set took 0 seconds\n",
      "Batch :  7.0\n"
     ]
    },
    {
     "name": "stdout",
     "output_type": "stream",
     "text": [
      "\n",
      "\n"
     ]
    },
    {
     "name": "stdout",
     "output_type": "stream",
     "text": [
      "Encryption of the training_set took 0 seconds\n",
      "Batch :  8.0\n"
     ]
    },
    {
     "name": "stdout",
     "output_type": "stream",
     "text": [
      "\n",
      "\n"
     ]
    },
    {
     "name": "stdout",
     "output_type": "stream",
     "text": [
      "Encryption of the training_set took 0 seconds\n",
      "Batch :  9.0\n"
     ]
    },
    {
     "name": "stdout",
     "output_type": "stream",
     "text": [
      "\n",
      "\n"
     ]
    },
    {
     "name": "stdout",
     "output_type": "stream",
     "text": [
      "Encryption of the training_set took 0 seconds\n",
      "Batch :  10.0\n"
     ]
    },
    {
     "name": "stdout",
     "output_type": "stream",
     "text": [
      "\n",
      "\n"
     ]
    },
    {
     "name": "stdout",
     "output_type": "stream",
     "text": [
      "Encryption of the training_set took 0 seconds"
     ]
    },
    {
     "name": "stdout",
     "output_type": "stream",
     "text": [
      "\n",
      "Batch :  11.0\n"
     ]
    },
    {
     "name": "stdout",
     "output_type": "stream",
     "text": [
      "\n",
      "\n"
     ]
    },
    {
     "name": "stdout",
     "output_type": "stream",
     "text": [
      "Encryption of the training_set took 0 seconds\n",
      "Batch :  12.0\n"
     ]
    },
    {
     "name": "stdout",
     "output_type": "stream",
     "text": [
      "\n",
      "\n"
     ]
    },
    {
     "name": "stdout",
     "output_type": "stream",
     "text": [
      "Loss at epoch  4 "
     ]
    },
    {
     "name": "stdout",
     "output_type": "stream",
     "text": [
      "tensor(0.7169)\n"
     ]
    },
    {
     "name": "stdout",
     "output_type": "stream",
     "text": [
      "Accuracy at epoch  4 "
     ]
    },
    {
     "name": "stdout",
     "output_type": "stream",
     "text": [
      "tensor(0.5167)\n",
      "Epoch :  5\n"
     ]
    },
    {
     "name": "stdout",
     "output_type": "stream",
     "text": [
      "Encryption of the training_set took 0 seconds\n",
      "Batch :  0.0\n"
     ]
    },
    {
     "name": "stdout",
     "output_type": "stream",
     "text": [
      "\n",
      "\n"
     ]
    },
    {
     "name": "stdout",
     "output_type": "stream",
     "text": [
      "Encryption of the training_set took 0 seconds\n",
      "Batch :  1.0\n"
     ]
    },
    {
     "name": "stdout",
     "output_type": "stream",
     "text": [
      "\n",
      "\n"
     ]
    },
    {
     "name": "stdout",
     "output_type": "stream",
     "text": [
      "Encryption of the training_set took 0 seconds\n",
      "Batch :  2.0\n"
     ]
    },
    {
     "name": "stdout",
     "output_type": "stream",
     "text": [
      "\n",
      "\n"
     ]
    },
    {
     "name": "stdout",
     "output_type": "stream",
     "text": [
      "Encryption of the training_set took 0 seconds\n",
      "Batch :  3.0\n"
     ]
    },
    {
     "name": "stdout",
     "output_type": "stream",
     "text": [
      "\n",
      "\n"
     ]
    },
    {
     "name": "stdout",
     "output_type": "stream",
     "text": [
      "Encryption of the training_set took 0 seconds\n",
      "Batch :  4.0\n"
     ]
    },
    {
     "name": "stdout",
     "output_type": "stream",
     "text": [
      "\n",
      "\n"
     ]
    },
    {
     "name": "stdout",
     "output_type": "stream",
     "text": [
      "Encryption of the training_set took 0 seconds\n",
      "Batch :  5.0\n"
     ]
    },
    {
     "name": "stdout",
     "output_type": "stream",
     "text": [
      "\n",
      "\n"
     ]
    },
    {
     "name": "stdout",
     "output_type": "stream",
     "text": [
      "Encryption of the training_set took 0 seconds\n",
      "Batch :  6.0\n"
     ]
    },
    {
     "name": "stdout",
     "output_type": "stream",
     "text": [
      "\n",
      "\n"
     ]
    },
    {
     "name": "stdout",
     "output_type": "stream",
     "text": [
      "Encryption of the training_set took 0 seconds\n",
      "Batch :  7.0\n"
     ]
    },
    {
     "name": "stdout",
     "output_type": "stream",
     "text": [
      "\n",
      "\n"
     ]
    },
    {
     "name": "stdout",
     "output_type": "stream",
     "text": [
      "Encryption of the training_set took 0 seconds\n",
      "Batch :  8.0\n"
     ]
    },
    {
     "name": "stdout",
     "output_type": "stream",
     "text": [
      "\n",
      "\n"
     ]
    },
    {
     "name": "stdout",
     "output_type": "stream",
     "text": [
      "Encryption of the training_set took 0 seconds\n",
      "Batch :  9.0\n"
     ]
    },
    {
     "name": "stdout",
     "output_type": "stream",
     "text": [
      "\n",
      "\n"
     ]
    },
    {
     "name": "stdout",
     "output_type": "stream",
     "text": [
      "Encryption of the training_set took 0 seconds\n",
      "Batch :  10.0\n"
     ]
    },
    {
     "name": "stdout",
     "output_type": "stream",
     "text": [
      "\n",
      "\n"
     ]
    },
    {
     "name": "stdout",
     "output_type": "stream",
     "text": [
      "Encryption of the training_set took 0 seconds\n",
      "Batch :  11.0\n"
     ]
    },
    {
     "name": "stdout",
     "output_type": "stream",
     "text": [
      "\n",
      "\n"
     ]
    },
    {
     "name": "stdout",
     "output_type": "stream",
     "text": [
      "Encryption of the training_set took 0 seconds\n",
      "Batch :  12.0\n"
     ]
    },
    {
     "name": "stdout",
     "output_type": "stream",
     "text": [
      "\n",
      "\n"
     ]
    },
    {
     "name": "stdout",
     "output_type": "stream",
     "text": [
      "Loss at epoch  5 "
     ]
    },
    {
     "name": "stdout",
     "output_type": "stream",
     "text": [
      "tensor(0.7164)\n"
     ]
    },
    {
     "name": "stdout",
     "output_type": "stream",
     "text": [
      "Accuracy at epoch  5 "
     ]
    },
    {
     "name": "stdout",
     "output_type": "stream",
     "text": [
      "tensor(0.5167)\n",
      "Epoch :  6\n"
     ]
    },
    {
     "name": "stdout",
     "output_type": "stream",
     "text": [
      "Encryption of the training_set took 0 seconds\n",
      "Batch :  0.0\n"
     ]
    },
    {
     "name": "stdout",
     "output_type": "stream",
     "text": [
      "\n",
      "\n"
     ]
    },
    {
     "name": "stdout",
     "output_type": "stream",
     "text": [
      "Encryption of the training_set took 0 seconds\n",
      "Batch :  1.0\n"
     ]
    },
    {
     "name": "stdout",
     "output_type": "stream",
     "text": [
      "\n",
      "\n"
     ]
    },
    {
     "name": "stdout",
     "output_type": "stream",
     "text": [
      "Encryption of the training_set took 0 seconds\n",
      "Batch :  2.0\n"
     ]
    },
    {
     "name": "stdout",
     "output_type": "stream",
     "text": [
      "\n",
      "\n"
     ]
    },
    {
     "name": "stdout",
     "output_type": "stream",
     "text": [
      "Encryption of the training_set took 0 seconds\n",
      "Batch :  3.0\n"
     ]
    },
    {
     "name": "stdout",
     "output_type": "stream",
     "text": [
      "\n",
      "\n"
     ]
    },
    {
     "name": "stdout",
     "output_type": "stream",
     "text": [
      "Encryption of the training_set took 0 seconds\n",
      "Batch :  4.0\n"
     ]
    },
    {
     "name": "stdout",
     "output_type": "stream",
     "text": [
      "\n",
      "\n"
     ]
    },
    {
     "name": "stdout",
     "output_type": "stream",
     "text": [
      "Encryption of the training_set took 0 seconds\n",
      "Batch :  5.0\n"
     ]
    },
    {
     "name": "stdout",
     "output_type": "stream",
     "text": [
      "\n",
      "\n"
     ]
    },
    {
     "name": "stdout",
     "output_type": "stream",
     "text": [
      "Encryption of the training_set took 0 seconds\n",
      "Batch :  6.0\n"
     ]
    },
    {
     "name": "stdout",
     "output_type": "stream",
     "text": [
      "\n",
      "\n"
     ]
    },
    {
     "name": "stdout",
     "output_type": "stream",
     "text": [
      "Encryption of the training_set took 0 seconds"
     ]
    },
    {
     "name": "stdout",
     "output_type": "stream",
     "text": [
      "\n",
      "Batch :  7.0\n"
     ]
    },
    {
     "name": "stdout",
     "output_type": "stream",
     "text": [
      "\n",
      "\n"
     ]
    },
    {
     "name": "stdout",
     "output_type": "stream",
     "text": [
      "Encryption of the training_set took 0 seconds\n",
      "Batch :  8.0\n"
     ]
    },
    {
     "name": "stdout",
     "output_type": "stream",
     "text": [
      "\n",
      "\n"
     ]
    },
    {
     "name": "stdout",
     "output_type": "stream",
     "text": [
      "Encryption of the training_set took 0 seconds\n",
      "Batch :  9.0\n"
     ]
    },
    {
     "name": "stdout",
     "output_type": "stream",
     "text": [
      "\n",
      "\n"
     ]
    },
    {
     "name": "stdout",
     "output_type": "stream",
     "text": [
      "Encryption of the training_set took 0 seconds\n",
      "Batch :  10.0\n"
     ]
    },
    {
     "name": "stdout",
     "output_type": "stream",
     "text": [
      "\n",
      "\n"
     ]
    },
    {
     "name": "stdout",
     "output_type": "stream",
     "text": [
      "Encryption of the training_set took 0 seconds\n",
      "Batch :  11.0\n"
     ]
    },
    {
     "name": "stdout",
     "output_type": "stream",
     "text": [
      "\n",
      "\n"
     ]
    },
    {
     "name": "stdout",
     "output_type": "stream",
     "text": [
      "Encryption of the training_set took 0 seconds\n",
      "Batch :  12.0\n"
     ]
    },
    {
     "name": "stdout",
     "output_type": "stream",
     "text": [
      "\n",
      "\n"
     ]
    },
    {
     "name": "stdout",
     "output_type": "stream",
     "text": [
      "Loss at epoch  6 "
     ]
    },
    {
     "name": "stdout",
     "output_type": "stream",
     "text": [
      "tensor(0.7159)\n"
     ]
    },
    {
     "name": "stdout",
     "output_type": "stream",
     "text": [
      "Accuracy at epoch  6 "
     ]
    },
    {
     "name": "stdout",
     "output_type": "stream",
     "text": [
      "tensor(0.5167)\n",
      "Epoch :  7\n"
     ]
    },
    {
     "name": "stdout",
     "output_type": "stream",
     "text": [
      "Encryption of the training_set took 0 seconds\n",
      "Batch :  0.0\n"
     ]
    },
    {
     "name": "stdout",
     "output_type": "stream",
     "text": [
      "\n",
      "\n"
     ]
    },
    {
     "name": "stdout",
     "output_type": "stream",
     "text": [
      "Encryption of the training_set took 0 seconds\n",
      "Batch :  1.0\n"
     ]
    },
    {
     "name": "stdout",
     "output_type": "stream",
     "text": [
      "\n",
      "\n"
     ]
    },
    {
     "name": "stdout",
     "output_type": "stream",
     "text": [
      "Encryption of the training_set took 0 seconds\n",
      "Batch :  2.0\n"
     ]
    },
    {
     "name": "stdout",
     "output_type": "stream",
     "text": [
      "\n",
      "\n"
     ]
    },
    {
     "name": "stdout",
     "output_type": "stream",
     "text": [
      "Encryption of the training_set took 0 seconds"
     ]
    },
    {
     "name": "stdout",
     "output_type": "stream",
     "text": [
      "\n",
      "Batch :  3.0\n"
     ]
    },
    {
     "name": "stdout",
     "output_type": "stream",
     "text": [
      "\n",
      "\n"
     ]
    },
    {
     "name": "stdout",
     "output_type": "stream",
     "text": [
      "Encryption of the training_set took 0 seconds"
     ]
    },
    {
     "name": "stdout",
     "output_type": "stream",
     "text": [
      "\n",
      "Batch :  4.0\n"
     ]
    },
    {
     "name": "stdout",
     "output_type": "stream",
     "text": [
      "\n",
      "\n"
     ]
    },
    {
     "name": "stdout",
     "output_type": "stream",
     "text": [
      "Encryption of the training_set took 0 seconds\n",
      "Batch :  5.0\n"
     ]
    },
    {
     "name": "stdout",
     "output_type": "stream",
     "text": [
      "\n",
      "\n"
     ]
    },
    {
     "name": "stdout",
     "output_type": "stream",
     "text": [
      "Encryption of the training_set took 0 seconds"
     ]
    },
    {
     "name": "stdout",
     "output_type": "stream",
     "text": [
      "\n",
      "Batch :  6.0\n"
     ]
    },
    {
     "name": "stdout",
     "output_type": "stream",
     "text": [
      "\n",
      "\n"
     ]
    },
    {
     "name": "stdout",
     "output_type": "stream",
     "text": [
      "Encryption of the training_set took 0 seconds\n",
      "Batch :  7.0\n"
     ]
    },
    {
     "name": "stdout",
     "output_type": "stream",
     "text": [
      "\n",
      "\n"
     ]
    },
    {
     "name": "stdout",
     "output_type": "stream",
     "text": [
      "Encryption of the training_set took 0 seconds\n",
      "Batch :  8.0\n"
     ]
    },
    {
     "name": "stdout",
     "output_type": "stream",
     "text": [
      "\n",
      "\n"
     ]
    },
    {
     "name": "stdout",
     "output_type": "stream",
     "text": [
      "Encryption of the training_set took 0 seconds\n",
      "Batch :  9.0\n"
     ]
    },
    {
     "name": "stdout",
     "output_type": "stream",
     "text": [
      "\n",
      "\n"
     ]
    },
    {
     "name": "stdout",
     "output_type": "stream",
     "text": [
      "Encryption of the training_set took 0 seconds\n",
      "Batch :  10.0\n"
     ]
    },
    {
     "name": "stdout",
     "output_type": "stream",
     "text": [
      "\n",
      "\n"
     ]
    },
    {
     "name": "stdout",
     "output_type": "stream",
     "text": [
      "Encryption of the training_set took 0 seconds\n",
      "Batch :  11.0\n"
     ]
    },
    {
     "name": "stdout",
     "output_type": "stream",
     "text": [
      "\n",
      "\n"
     ]
    },
    {
     "name": "stdout",
     "output_type": "stream",
     "text": [
      "Encryption of the training_set took 0 seconds\n",
      "Batch :  12.0\n"
     ]
    },
    {
     "name": "stdout",
     "output_type": "stream",
     "text": [
      "\n",
      "\n"
     ]
    },
    {
     "name": "stdout",
     "output_type": "stream",
     "text": [
      "Loss at epoch  7 "
     ]
    },
    {
     "name": "stdout",
     "output_type": "stream",
     "text": [
      "tensor(0.7132)\n"
     ]
    },
    {
     "name": "stdout",
     "output_type": "stream",
     "text": [
      "Accuracy at epoch  7 "
     ]
    },
    {
     "name": "stdout",
     "output_type": "stream",
     "text": [
      "tensor(0.8833)\n",
      "Epoch :  8\n"
     ]
    },
    {
     "name": "stdout",
     "output_type": "stream",
     "text": [
      "Encryption of the training_set took 0 seconds\n",
      "Batch :  0.0\n"
     ]
    },
    {
     "name": "stdout",
     "output_type": "stream",
     "text": [
      "\n",
      "\n"
     ]
    },
    {
     "name": "stdout",
     "output_type": "stream",
     "text": [
      "Encryption of the training_set took 0 seconds\n",
      "Batch :  1.0\n"
     ]
    },
    {
     "name": "stdout",
     "output_type": "stream",
     "text": [
      "\n",
      "\n"
     ]
    },
    {
     "name": "stdout",
     "output_type": "stream",
     "text": [
      "Encryption of the training_set took 0 seconds\n",
      "Batch :  2.0\n"
     ]
    },
    {
     "name": "stdout",
     "output_type": "stream",
     "text": [
      "\n",
      "\n"
     ]
    },
    {
     "name": "stdout",
     "output_type": "stream",
     "text": [
      "Encryption of the training_set took 0 seconds\n",
      "Batch :  3.0\n"
     ]
    },
    {
     "name": "stdout",
     "output_type": "stream",
     "text": [
      "\n",
      "\n"
     ]
    },
    {
     "name": "stdout",
     "output_type": "stream",
     "text": [
      "Encryption of the training_set took 0 seconds\n",
      "Batch :  4.0\n"
     ]
    },
    {
     "name": "stdout",
     "output_type": "stream",
     "text": [
      "\n",
      "\n"
     ]
    },
    {
     "name": "stdout",
     "output_type": "stream",
     "text": [
      "Encryption of the training_set took 0 seconds\n",
      "Batch :  5.0\n"
     ]
    },
    {
     "name": "stdout",
     "output_type": "stream",
     "text": [
      "\n",
      "\n"
     ]
    },
    {
     "name": "stdout",
     "output_type": "stream",
     "text": [
      "Encryption of the training_set took 0 seconds\n",
      "Batch :  6.0\n"
     ]
    },
    {
     "name": "stdout",
     "output_type": "stream",
     "text": [
      "\n",
      "\n"
     ]
    },
    {
     "name": "stdout",
     "output_type": "stream",
     "text": [
      "Encryption of the training_set took 0 seconds\n",
      "Batch :  7.0\n"
     ]
    },
    {
     "name": "stdout",
     "output_type": "stream",
     "text": [
      "\n",
      "\n"
     ]
    },
    {
     "name": "stdout",
     "output_type": "stream",
     "text": [
      "Encryption of the training_set took 0 seconds\n",
      "Batch :  8.0\n"
     ]
    },
    {
     "name": "stdout",
     "output_type": "stream",
     "text": [
      "\n",
      "\n"
     ]
    },
    {
     "name": "stdout",
     "output_type": "stream",
     "text": [
      "Encryption of the training_set took 0 seconds\n",
      "Batch :  9.0\n"
     ]
    },
    {
     "name": "stdout",
     "output_type": "stream",
     "text": [
      "\n",
      "\n"
     ]
    },
    {
     "name": "stdout",
     "output_type": "stream",
     "text": [
      "Encryption of the training_set took 0 seconds\n",
      "Batch :  10.0\n"
     ]
    },
    {
     "name": "stdout",
     "output_type": "stream",
     "text": [
      "\n",
      "\n"
     ]
    },
    {
     "name": "stdout",
     "output_type": "stream",
     "text": [
      "Encryption of the training_set took 0 seconds\n",
      "Batch :  11.0\n"
     ]
    },
    {
     "name": "stdout",
     "output_type": "stream",
     "text": [
      "\n",
      "\n"
     ]
    },
    {
     "name": "stdout",
     "output_type": "stream",
     "text": [
      "Encryption of the training_set took 0 seconds\n",
      "Batch :  12.0\n"
     ]
    },
    {
     "name": "stdout",
     "output_type": "stream",
     "text": [
      "\n",
      "\n"
     ]
    },
    {
     "name": "stdout",
     "output_type": "stream",
     "text": [
      "Loss at epoch  8 "
     ]
    },
    {
     "name": "stdout",
     "output_type": "stream",
     "text": [
      "tensor(0.6754)\n"
     ]
    },
    {
     "name": "stdout",
     "output_type": "stream",
     "text": [
      "Accuracy at epoch  8 "
     ]
    },
    {
     "name": "stdout",
     "output_type": "stream",
     "text": [
      "tensor(1.)\n",
      "Epoch :  9\n"
     ]
    },
    {
     "name": "stdout",
     "output_type": "stream",
     "text": [
      "Encryption of the training_set took 0 seconds\n",
      "Batch :  0.0\n"
     ]
    },
    {
     "name": "stdout",
     "output_type": "stream",
     "text": [
      "\n",
      "\n"
     ]
    },
    {
     "name": "stdout",
     "output_type": "stream",
     "text": [
      "Encryption of the training_set took 0 seconds"
     ]
    },
    {
     "name": "stdout",
     "output_type": "stream",
     "text": [
      "\n",
      "Batch :  1.0\n"
     ]
    },
    {
     "name": "stdout",
     "output_type": "stream",
     "text": [
      "\n",
      "\n"
     ]
    },
    {
     "name": "stdout",
     "output_type": "stream",
     "text": [
      "Encryption of the training_set took 0 seconds\n",
      "Batch :  2.0\n"
     ]
    },
    {
     "name": "stdout",
     "output_type": "stream",
     "text": [
      "\n",
      "\n"
     ]
    },
    {
     "name": "stdout",
     "output_type": "stream",
     "text": [
      "Encryption of the training_set took 0 seconds\n",
      "Batch :  3.0\n"
     ]
    },
    {
     "name": "stdout",
     "output_type": "stream",
     "text": [
      "\n",
      "\n"
     ]
    },
    {
     "name": "stdout",
     "output_type": "stream",
     "text": [
      "Encryption of the training_set took 0 seconds\n",
      "Batch :  4.0\n"
     ]
    },
    {
     "name": "stdout",
     "output_type": "stream",
     "text": [
      "\n",
      "\n"
     ]
    },
    {
     "name": "stdout",
     "output_type": "stream",
     "text": [
      "Encryption of the training_set took 0 seconds\n",
      "Batch :  5.0\n"
     ]
    },
    {
     "name": "stdout",
     "output_type": "stream",
     "text": [
      "\n",
      "\n"
     ]
    },
    {
     "name": "stdout",
     "output_type": "stream",
     "text": [
      "Encryption of the training_set took 0 seconds"
     ]
    },
    {
     "name": "stdout",
     "output_type": "stream",
     "text": [
      "\n",
      "Batch :  6.0\n"
     ]
    },
    {
     "name": "stdout",
     "output_type": "stream",
     "text": [
      "\n",
      "\n"
     ]
    },
    {
     "name": "stdout",
     "output_type": "stream",
     "text": [
      "Encryption of the training_set took 0 seconds\n",
      "Batch :  7.0\n"
     ]
    },
    {
     "name": "stdout",
     "output_type": "stream",
     "text": [
      "\n",
      "\n"
     ]
    },
    {
     "name": "stdout",
     "output_type": "stream",
     "text": [
      "Encryption of the training_set took 0 seconds\n",
      "Batch :  8.0\n"
     ]
    },
    {
     "name": "stdout",
     "output_type": "stream",
     "text": [
      "\n",
      "\n"
     ]
    },
    {
     "name": "stdout",
     "output_type": "stream",
     "text": [
      "Encryption of the training_set took 0 seconds\n",
      "Batch :  9.0\n"
     ]
    },
    {
     "name": "stdout",
     "output_type": "stream",
     "text": [
      "\n",
      "\n"
     ]
    },
    {
     "name": "stdout",
     "output_type": "stream",
     "text": [
      "Encryption of the training_set took 0 seconds\n",
      "Batch :  10.0\n"
     ]
    },
    {
     "name": "stdout",
     "output_type": "stream",
     "text": [
      "\n",
      "\n"
     ]
    },
    {
     "name": "stdout",
     "output_type": "stream",
     "text": [
      "Encryption of the training_set took 0 seconds\n",
      "Batch :  11.0\n"
     ]
    },
    {
     "name": "stdout",
     "output_type": "stream",
     "text": [
      "\n",
      "\n"
     ]
    },
    {
     "name": "stdout",
     "output_type": "stream",
     "text": [
      "Encryption of the training_set took 0 seconds\n",
      "Batch :  12.0\n"
     ]
    },
    {
     "name": "stdout",
     "output_type": "stream",
     "text": [
      "\n",
      "\n"
     ]
    },
    {
     "name": "stdout",
     "output_type": "stream",
     "text": [
      "Loss at epoch  9 "
     ]
    },
    {
     "name": "stdout",
     "output_type": "stream",
     "text": [
      "tensor(0.5425)\n"
     ]
    },
    {
     "name": "stdout",
     "output_type": "stream",
     "text": [
      "Accuracy at epoch  9 "
     ]
    },
    {
     "name": "stdout",
     "output_type": "stream",
     "text": [
      "tensor(1.)\n",
      "\n",
      "Average time per epoch: 33 seconds\n",
      "Final weight1  [[0.09635900105348369, 0.08106810661398219, 0.08025965340451009, 0.09324417348771562, 0.05048871403367734, 0.04423454177342805], [0.1287784066196389, 0.08206535361462645, 0.10635632361518846, 0.1372515436442451, 0.09961748951736629, 0.11240632960030233], [0.07558412173118376, 0.07677009657295675, 0.06129029136567401, 0.10050685570837184, 0.085787470275764, 0.0696272671620557], [0.07667456288276853, 0.05542328256672671, 0.04369799560924848, 0.09407538354834112, 0.07478844358084184, 0.0721095389111601], [0.06478119642372437, 0.05478460265956432, 0.029692908599469322, 0.09285922210572856, 0.03208212898103649, 0.08007705535848719], [0.06122064070226025, 0.041900373267889236, 0.024283403261679704, 0.07042682094182483, 0.017229071186967156, 0.044040423057032645], [0.11027900240657638, 0.1282894610514163, 0.09720771074424248, 0.11410700279849192, 0.09644373600332641, 0.08719031002918438], [-0.014349540157513089, 0.0166288229929329, -0.013218286101059778, -0.015821468875002454, 0.03938019704933443, 0.03422357975216356], [0.05969895613279435, 0.048398885439417075, 0.07143209842743131, 0.08643647194314777, 0.09246538390913199, 0.061449834536157565], [1.1282259992030759, 1.2555986598626552, 1.2691790469563378, 1.3767112085818964, 1.114798395009515, 1.2309844440749231]]\n",
      "Final bias 1 [-0.12966134488230116, -0.1629589795074342, -0.14511917672400357, -0.17184520738675452, -0.1560133135122181, -0.2031252087108805]\n",
      "Final weight 2 [[-0.530094598042248, -0.5299278139256806, -0.533559664565336], [-0.6021952535512118, -0.6165021980355967, -0.6304332192191292], [-0.6165088652540833, -0.6071961365280801, -0.6539429311389854], [-0.7104794691941974, -0.709831446877303, -0.743085224436749], [-0.5205898377491857, -0.512694153321399, -0.5230782968522479], [-0.5895407186565322, -0.5894342553794821, -0.6323343363667953]]\n",
      "Final bias 2 [0.2821768005922363, 0.28912261867849515, 0.41144933159411257]\n"
     ]
    }
   ],
   "source": [
    "EPOCHS = 10\n",
    "eelr = EncryptedDL2layer()\n",
    "times = []\n",
    "for epoch in range(EPOCHS):\n",
    "    print(\"Epoch : \",epoch)\n",
    "    for i in range(0,780,60):\n",
    "        t_start = time()\n",
    "        enc_x_train = ts.ckks_tensor(ctx_training, x_train[i:i+60])\n",
    "        enc_y_train = ts.ckks_tensor(ctx_training, y_train[i:i+60])\n",
    "        t_end = time()\n",
    "        print(f\"Encryption of the training_set took {int(t_end - t_start)} seconds\")\n",
    "        print(\"Batch : \",i/60)\n",
    "        eelr.encrypt(ctx_training)\n",
    "        t_start = time()\n",
    "        a3,z3,a2,z2,a1,z1 = eelr.forward(enc_x_train,ctx_training)\n",
    "        eelr.backward(a3,z3,a2,z2,a1,z1,enc_y_train,ctx_training)\n",
    "        eelr.update_params()\n",
    "        t_end = time()\n",
    "        times.append(t_end - t_start)\n",
    "    \n",
    "        eelr.decrypt()\n",
    "        print(\"\\n\")\n",
    "    a3,z3,a2,z2,a1,z1 = eelr.forward(enc_x_train,ctx_training)\n",
    "    data=torch.tensor(a3.decrypt().tolist())\n",
    "    loss_fn = torch.nn.BCEWithLogitsLoss()\n",
    "    loss = loss_fn(data, y_train[i:i+60])\n",
    "    print(\"Loss at epoch \",epoch,loss.data)\n",
    "    out=torch.tensor(enc_y_train.sub(a3).decrypt().tolist())\n",
    "    correct=torch.abs(out)<0.5\n",
    "    print(\"Accuracy at epoch \",epoch,correct.float().mean())\n",
    "print(f\"\\nAverage time per epoch: {int(sum(times) / len(times))} seconds\")\n",
    "print(\"Final weight1 \",eelr.weight1.tolist())\n",
    "print(\"Final bias 1\",eelr.bias1.tolist())\n",
    "print(\"Final weight 2\",eelr.weight2.tolist())\n",
    "print(\"Final bias 2\",eelr.bias2.tolist())"
   ]
  },
  {
   "cell_type": "code",
   "execution_count": 8,
   "id": "578744f5",
   "metadata": {
    "execution": {
     "iopub.execute_input": "2025-04-01T17:53:46.996854Z",
     "iopub.status.busy": "2025-04-01T17:53:46.996557Z",
     "iopub.status.idle": "2025-04-01T17:54:00.557594Z",
     "shell.execute_reply": "2025-04-01T17:54:00.556082Z"
    },
    "id": "KLgUVLDRjFUR",
    "papermill": {
     "duration": 13.582511,
     "end_time": "2025-04-01T17:54:00.558794",
     "exception": false,
     "start_time": "2025-04-01T17:53:46.976283",
     "status": "completed"
    },
    "tags": []
   },
   "outputs": [
    {
     "data": {
      "text/plain": [
       "[[0.1732936429005739],\n",
       " [-0.16994255437403527],\n",
       " [0.15396130421728196],\n",
       " [0.1782582769529296],\n",
       " [-0.15838260693014808],\n",
       " [0.15908689147117847],\n",
       " [0.16774926456611064],\n",
       " [-0.011456603055851606],\n",
       " [0.15304274529243478],\n",
       " [0.19298878608463066],\n",
       " [0.13831062842681097],\n",
       " [-0.19579654654007717],\n",
       " [-0.09059897567860427],\n",
       " [-0.055760656947737526],\n",
       " [-0.07892495361168388],\n",
       " [-0.019005290963151133],\n",
       " [-0.11834653838941869],\n",
       " [0.16231978877766187],\n",
       " [-0.08206282556761994],\n",
       " [0.16412941082567942],\n",
       " [-0.15725576491485463],\n",
       " [-0.11731023924101316],\n",
       " [0.1849137519169841],\n",
       " [-0.0662370371804126],\n",
       " [-0.1692493661522894],\n",
       " [-0.07425472493041885],\n",
       " [0.0038509710331007655],\n",
       " [-0.08284964717619178],\n",
       " [0.17817172405141737],\n",
       " [0.16027625510642068],\n",
       " [0.14468629026470528],\n",
       " [-0.07673657326232644],\n",
       " [0.17495252851945572],\n",
       " [-0.07801085736512098],\n",
       " [-0.02725698988714836],\n",
       " [-0.13863915373586258],\n",
       " [0.13922284584745148],\n",
       " [0.15163002985716076],\n",
       " [0.18699453523211113],\n",
       " [0.165090707414751],\n",
       " [0.1578056767478586],\n",
       " [-0.08714770508972028],\n",
       " [0.1653320783410247],\n",
       " [-0.13492976874082993],\n",
       " [-0.038345362418533674],\n",
       " [-0.0772143729036756],\n",
       " [0.16532244720470327],\n",
       " [-0.023382326103971014],\n",
       " [0.16294567813708585],\n",
       " [0.19135471508226973],\n",
       " [0.1590146005725684],\n",
       " [0.1831871618180546],\n",
       " [-0.15843033658405392],\n",
       " [0.16159105143030525],\n",
       " [0.19709527370141358],\n",
       " [-0.0673251487883817],\n",
       " [0.17371810729092008],\n",
       " [0.21462158164690492],\n",
       " [-0.034381103483396985],\n",
       " [0.1567815389456337]]"
      ]
     },
     "execution_count": 8,
     "metadata": {},
     "output_type": "execute_result"
    }
   ],
   "source": [
    "#eelr.encrypt(ctx_training)\n",
    "m,n,j,k,l,r=eelr.forward(enc_x_train,ctx_training)\n",
    "enc_y_train.sub(m).decrypt().tolist()"
   ]
  },
  {
   "cell_type": "code",
   "execution_count": 9,
   "id": "1290dd08",
   "metadata": {
    "execution": {
     "iopub.execute_input": "2025-04-01T17:54:00.599159Z",
     "iopub.status.busy": "2025-04-01T17:54:00.598886Z",
     "iopub.status.idle": "2025-04-01T17:54:00.883880Z",
     "shell.execute_reply": "2025-04-01T17:54:00.882910Z"
    },
    "id": "_UaJ3vhlvLCX",
    "papermill": {
     "duration": 0.307308,
     "end_time": "2025-04-01T17:54:00.885727",
     "exception": false,
     "start_time": "2025-04-01T17:54:00.578419",
     "status": "completed"
    },
    "tags": []
   },
   "outputs": [
    {
     "name": "stdout",
     "output_type": "stream",
     "text": [
      "Train Accuracy :  "
     ]
    },
    {
     "name": "stdout",
     "output_type": "stream",
     "text": [
      "tensor(1.)\n"
     ]
    }
   ],
   "source": [
    "out=torch.tensor(enc_y_train.sub(m).decrypt().tolist())\n",
    "correct=torch.abs(out)<0.5\n",
    "print(\"Train Accuracy : \",correct.float().mean())"
   ]
  },
  {
   "cell_type": "code",
   "execution_count": 10,
   "id": "e8d91b79",
   "metadata": {
    "execution": {
     "iopub.execute_input": "2025-04-01T17:54:00.926840Z",
     "iopub.status.busy": "2025-04-01T17:54:00.926599Z",
     "iopub.status.idle": "2025-04-01T17:54:04.446893Z",
     "shell.execute_reply": "2025-04-01T17:54:04.445626Z"
    },
    "id": "WiNUecEKxti0",
    "papermill": {
     "duration": 3.54351,
     "end_time": "2025-04-01T17:54:04.448718",
     "exception": false,
     "start_time": "2025-04-01T17:54:00.905208",
     "status": "completed"
    },
    "tags": []
   },
   "outputs": [],
   "source": [
    "enc_x_test = ts.ckks_tensor(ctx_training, x_test)\n",
    "enc_y_test = ts.ckks_tensor(ctx_training, y_test)"
   ]
  },
  {
   "cell_type": "code",
   "execution_count": 11,
   "id": "80c5331f",
   "metadata": {
    "execution": {
     "iopub.execute_input": "2025-04-01T17:54:04.489372Z",
     "iopub.status.busy": "2025-04-01T17:54:04.489080Z",
     "iopub.status.idle": "2025-04-01T17:55:30.007714Z",
     "shell.execute_reply": "2025-04-01T17:55:30.006968Z"
    },
    "papermill": {
     "duration": 85.560503,
     "end_time": "2025-04-01T17:55:30.029334",
     "exception": false,
     "start_time": "2025-04-01T17:54:04.468831",
     "status": "completed"
    },
    "tags": []
   },
   "outputs": [
    {
     "name": "stdout",
     "output_type": "stream",
     "text": [
      "[[0.808731813564115], [0.7949938112555635], [0.047727019455301674], [0.8522438591689995], [0.09685565215561458], [0.8268828024422988], [0.1944659613103399], [0.007406371326718708], [0.045157328335107355], [0.022164636823519934], [0.8425800000858189], [0.06070938857621762], [0.13542695353270806], [0.8300188000783636], [0.8336799856008787], [0.8530786449621476], [0.8333006459642331], [0.8523806948278358], [0.8285968802438546], [0.04880179272889263], [0.8327144458919323], [0.04660690359487726], [0.12710610087965757], [0.12880641412282098], [0.14904444709383183], [0.02084838968000314], [0.8129034586832915], [0.2447737413116347], [0.8416506089390393], [0.8164962542674318], [0.8376104173406049], [0.026023129042736976], [0.8124875390510581], [0.08308225795299563], [0.11079430881809699], [0.062102451813180734], [0.08307237620147735], [0.050364262931103396], [0.811889149614654], [0.06828147203994345], [0.8320198332095303], [0.8547235927264776], [0.8369654670779184], [0.055936383808721], [0.07594171333638536], [0.841064673990706], [0.03516031424720223], [0.8191803158606283], [0.1951619912187316], [0.8249617992578518], [0.048713005528476225], [0.10648054906617727], [0.869830408683711], [0.11050065630260945], [0.01900468649106771], [0.8239805886594684], [0.029703449831782566], [0.1049536594158056], [0.07182211603927505], [0.18019279556572634], [-0.011005640527497855], [0.06689461820846834], [0.022968477379079297], [0.14966773261506677], [0.7859300973609138], [0.8521907592104214], [0.8268623719518867], [0.16960117231030958], [0.8498231102255032], [0.06859427056797086], [0.8337725809514334], [0.8270191537548159], [0.09548023434865621], [0.028804363868940756], [0.10864117216307961], [0.10307718987776755], [0.16675816803269242], [0.0838722259247955], [0.8338757550689654], [0.8551396513651459], [0.8008355882259626], [0.8675261379749378], [0.834665350569548], [0.1355196348534084], [0.09612835146240746], [0.24913952771626632], [0.839318487591193], [0.1760276916152961], [0.8577911963005918], [0.03354170828834869], [0.8456137417869637], [0.8038323482989386], [0.8262928301825513], [0.09640489669144055], [0.8064870707826335], [0.839323978850025], [0.8299228399456898], [0.05486276503080386], [0.094000378342232], [0.12630643844556308], [0.2451208934468357], [0.8341457148632347], [0.8097968608337316], [0.02531567697296879], [0.833545580260626], [0.8447741454092429], [0.8417302198736225], [0.08095939938801117], [0.8271493246151135], [0.8509871807494205], [0.8649840215336093], [0.8326001678692188], [0.040927808466571625], [0.8457372655475053], [0.06772990745036078], [0.06004373773890628], [0.8253759726169876], [0.8776019316453517], [0.09808223828806717], [0.8529612847535675], [0.009346713683873449], [0.8112840313111916], [0.019778469527472656], [0.8587898199196291], [0.82648502873105], [0.08318451891103411], [0.10068614327073969], [0.8474621918969211], [0.09353889522044057], [0.8287035663827251], [0.8235317088115971], [0.18589324381783073], [0.1510189425150992], [0.8407476188030348], [0.10829317689849416], [0.8328662533230076], [0.02778857283513058], [0.8608025954922119], [0.03136725788469367], [0.8363047885853601], [0.819553419724685], [0.039607722571568686], [0.05558637632386508], [0.17139233991013314], [0.03563907870038377], [0.7826377865321349], [0.09406388520898637], [0.8293806345847371], [0.02296224397195525], [0.7923279055782956], [0.8284294668300687], [0.0766389081177136], [0.056801880433568916], [0.0017724379077976116], [0.839611293210898], [0.8286374087728304], [0.05528221284019157], [0.8123185221769915], [0.12863800064853936], [0.843529920985931], [0.7982484685577164], [0.839932442485236], [0.04097074042800409], [0.07453483344559611], [0.03833259368690622], [0.8565831800110233], [0.02203638924575], [0.08380106463128123], [0.8658729264748753], [0.8490354352358951], [0.8482646856590892], [0.03907384811894106], [0.09327243508750134], [0.8542414099501424], [0.8470907549347708], [0.8543610066278274], [0.0739099950267509], [0.2694233456802416], [0.058091273772944915], [0.814507124725844], [0.15069199040023368], [0.8464332352005375], [0.07670425000814748], [0.8403237217335966], [0.13566878758400444], [0.8437219797334417], [0.8469172978673479], [0.0636515827492175], [0.8293120197823304], [0.822252220862014], [0.821672060397768], [0.08038602474667011], [0.82546461749769], [0.8002753837051723], [0.848111511093703], [0.08380574722037995], [0.8280148871200144], [0.8378790736222941], [0.8196806283535013], [0.1356693898164156], [0.03697045940068921], [0.05072389047409754], [0.05730046250991653], [0.8236908819292431], [0.03926018346242067], [0.06119008884595849], [0.8157087413213899], [0.23639537250809872], [0.011327832657534849], [0.8385838474498668], [0.8122558058375514], [0.00015031638001507524], [0.017309770235837473], [0.859719583798746], [0.07510691088412888], [0.04306165078420759], [0.07333462343746121], [0.8301481627616037], [0.06567347104984557], [0.8460068538204975], [0.07308644460421436], [0.023082180228688895], [0.821020332106028], [0.09962770297474133], [0.7864113726177455], [0.851963795029586], [0.8136494489095045], [0.8171362420039286], [0.8406563876571888], [0.8410124891092122], [0.7769618589691327], [0.83205364634236], [0.8414168487729357], [0.8290298819121589], [0.8660894935692651], [0.11454955160234334], [0.8380995820943246], [0.8372359208445156], [0.8475447286767989], [0.8256608158019735], [0.8283456547884349], [0.8353352716313375], [0.8380328790949193], [0.1630305193903798], [0.20663721344124766], [0.8411366485334452], [-0.01126749742878485], [0.7940181921593156], [0.13755999063502725], [0.7908259668969342], [0.08734944742404128], [0.038596890747074855], [0.8405433597719579], [0.8060250442945821], [0.820324441561663], [0.11889581237219349], [0.8308213422980917], [0.09377094057770909], [0.8295448669091987], [0.060841856689160256], [0.8326788430376463], [0.10135374730198221], [0.8423137540192323], [0.83822220783599], [0.8511347141697596], [0.05867828943128357], [0.10073270511935417], [0.8399300725717447], [0.0346553330422811], [0.8327228423768217], [0.8637474312483924], [0.08129851417132562], [0.010506656629298387], [0.084016645011498], [0.8118549841679069], [0.04625770839266374], [0.050282949915846], [0.8517149230350599], [0.793985315782247], [0.10090434008247036], [0.06461167097380706], [0.11157189402598605], [0.08307466288530119], [0.04425495998673088], [0.8317441192509731], [0.028810334065454666], [0.11289675650884361], [0.012256542271433187], [0.08338289061590437], [0.07420902528290502], [0.8224596387535407], [0.09421825638174508], [0.8327842512262627], [0.82182907232437], [0.05940519717566759], [0.8349606005925101], [0.08521636206793705], [0.8334831654035245], [0.08074030356793542], [0.8235912421843401], [0.06799850865906283], [0.8299931394997121], [0.09494308972122532], [0.09127458495809926], [0.0654194515293993], [0.09951848317978862], [0.8287432766203695], [0.10639405269106765], [0.11389921274086022], [0.8418401829998284], [0.8236309966475568], [0.8961997573689733], [0.0782669559974925], [0.8209816397992159], [0.8405967678247983], [0.05618276669171491], [0.07800079217749527], [0.8526527153913086], [0.10957308690080003], [0.14724453274643545], [0.10195642238438678], [0.027912153116797025], [0.0337296818606218], [0.10067267396857021], [0.857557102661], [0.8261846789148378], [0.8529184847363945], [0.1455042497192125], [0.7830158475482664], [0.8237221259695616], [0.0953577785453208], [0.8421784280790411], [0.8368565488376467], [0.0376713707322935]]\n"
     ]
    },
    {
     "name": "stdout",
     "output_type": "stream",
     "text": [
      "Test Accuracy :  "
     ]
    },
    {
     "name": "stdout",
     "output_type": "stream",
     "text": [
      "tensor(1.)\n"
     ]
    }
   ],
   "source": [
    "m,n,j,k,l,r=eelr.forward(enc_x_test,ctx_training)\n",
    "print(m.decrypt().tolist())\n",
    "out=torch.tensor(enc_y_test.sub(m).decrypt().tolist())\n",
    "correct=torch.abs(out)<0.5\n",
    "print(\"Test Accuracy : \",correct.float().mean())"
   ]
  },
  {
   "cell_type": "code",
   "execution_count": null,
   "id": "033c0693",
   "metadata": {
    "papermill": {
     "duration": 0.020952,
     "end_time": "2025-04-01T17:55:30.070725",
     "exception": false,
     "start_time": "2025-04-01T17:55:30.049773",
     "status": "completed"
    },
    "tags": []
   },
   "outputs": [],
   "source": []
  }
 ],
 "metadata": {
  "accelerator": "TPU",
  "colab": {
   "gpuType": "V28",
   "provenance": []
  },
  "kaggle": {
   "accelerator": "tpu1vmV38",
   "dataSources": [
    {
     "datasetId": 6955944,
     "sourceId": 11149505,
     "sourceType": "datasetVersion"
    }
   ],
   "dockerImageVersionId": 30918,
   "isGpuEnabled": false,
   "isInternetEnabled": true,
   "language": "python",
   "sourceType": "notebook"
  },
  "kernelspec": {
   "display_name": "Python 3",
   "language": "python",
   "name": "python3"
  },
  "language_info": {
   "codemirror_mode": {
    "name": "ipython",
    "version": 3
   },
   "file_extension": ".py",
   "mimetype": "text/x-python",
   "name": "python",
   "nbconvert_exporter": "python",
   "pygments_lexer": "ipython3",
   "version": "3.10.16"
  },
  "papermill": {
   "default_parameters": {},
   "duration": 4667.959882,
   "end_time": "2025-04-01T17:55:34.494949",
   "environment_variables": {},
   "exception": null,
   "input_path": "__notebook__.ipynb",
   "output_path": "__notebook__.ipynb",
   "parameters": {},
   "start_time": "2025-04-01T16:37:46.535067",
   "version": "2.6.0"
  }
 },
 "nbformat": 4,
 "nbformat_minor": 5
}
