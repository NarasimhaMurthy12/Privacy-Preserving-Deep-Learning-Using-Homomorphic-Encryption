{
 "cells": [
  {
   "cell_type": "markdown",
   "id": "64815316",
   "metadata": {
    "id": "9DMr9rhddlYt",
    "papermill": {
     "duration": 0.003843,
     "end_time": "2025-03-29T10:40:48.393585",
     "exception": false,
     "start_time": "2025-03-29T10:40:48.389742",
     "status": "completed"
    },
    "tags": []
   },
   "source": [
    "Implementation of Deep net with 2 hidden layers that learns with encrypted data"
   ]
  },
  {
   "cell_type": "code",
   "execution_count": 1,
   "id": "b535998e",
   "metadata": {
    "execution": {
     "iopub.execute_input": "2025-03-29T10:40:48.402217Z",
     "iopub.status.busy": "2025-03-29T10:40:48.401728Z",
     "iopub.status.idle": "2025-03-29T10:40:55.207360Z",
     "shell.execute_reply": "2025-03-29T10:40:55.205983Z"
    },
    "id": "Ygi2n_WBRT_q",
    "outputId": "dde2d864-d512-45f1-c0c2-fe8eca774f53",
    "papermill": {
     "duration": 6.812144,
     "end_time": "2025-03-29T10:40:55.209439",
     "exception": false,
     "start_time": "2025-03-29T10:40:48.397295",
     "status": "completed"
    },
    "tags": []
   },
   "outputs": [
    {
     "name": "stdout",
     "output_type": "stream",
     "text": [
      "Collecting tenseal\r\n",
      "  Downloading tenseal-0.3.16-cp310-cp310-manylinux_2_27_x86_64.manylinux_2_28_x86_64.whl.metadata (8.4 kB)\r\n",
      "Downloading tenseal-0.3.16-cp310-cp310-manylinux_2_27_x86_64.manylinux_2_28_x86_64.whl (4.8 MB)\r\n",
      "\u001b[2K   \u001b[90m━━━━━━━━━━━━━━━━━━━━━━━━━━━━━━━━━━━━━━━━\u001b[0m \u001b[32m4.8/4.8 MB\u001b[0m \u001b[31m46.0 MB/s\u001b[0m eta \u001b[36m0:00:00\u001b[0m\r\n",
      "\u001b[?25hInstalling collected packages: tenseal\r\n",
      "Successfully installed tenseal-0.3.16\r\n"
     ]
    }
   ],
   "source": [
    "!pip install tenseal"
   ]
  },
  {
   "cell_type": "code",
   "execution_count": 2,
   "id": "70b8accf",
   "metadata": {
    "execution": {
     "iopub.execute_input": "2025-03-29T10:40:55.218987Z",
     "iopub.status.busy": "2025-03-29T10:40:55.218617Z",
     "iopub.status.idle": "2025-03-29T10:41:00.670046Z",
     "shell.execute_reply": "2025-03-29T10:41:00.668996Z"
    },
    "id": "1f47e986-014c-4ffd-94d1-631afde3099a",
    "papermill": {
     "duration": 5.458652,
     "end_time": "2025-03-29T10:41:00.672167",
     "exception": false,
     "start_time": "2025-03-29T10:40:55.213515",
     "status": "completed"
    },
    "tags": []
   },
   "outputs": [],
   "source": [
    "import torch\n",
    "import tenseal as ts\n",
    "import pandas as pd\n",
    "import random\n",
    "from time import time\n",
    "\n",
    "# those are optional and are not necessary for training\n",
    "import numpy as np\n",
    "import matplotlib.pyplot as plt"
   ]
  },
  {
   "cell_type": "code",
   "execution_count": 3,
   "id": "08feeee7",
   "metadata": {
    "execution": {
     "iopub.execute_input": "2025-03-29T10:41:00.682856Z",
     "iopub.status.busy": "2025-03-29T10:41:00.682350Z",
     "iopub.status.idle": "2025-03-29T10:41:00.809977Z",
     "shell.execute_reply": "2025-03-29T10:41:00.808513Z"
    },
    "id": "b5c04e07-ee8c-49e8-a8ab-b30b06efeba7",
    "outputId": "b691fe59-f269-4fad-ef0a-4dd688b86364",
    "papermill": {
     "duration": 0.135017,
     "end_time": "2025-03-29T10:41:00.811852",
     "exception": false,
     "start_time": "2025-03-29T10:41:00.676835",
     "status": "completed"
    },
    "tags": []
   },
   "outputs": [
    {
     "name": "stdout",
     "output_type": "stream",
     "text": [
      "############# Data summary #############\n",
      "x_train has shape: torch.Size([780, 10])\n",
      "y_train has shape: torch.Size([780, 1])\n",
      "x_test has shape: torch.Size([334, 10])\n",
      "y_test has shape: torch.Size([334, 1])\n",
      "#######################################\n"
     ]
    },
    {
     "name": "stderr",
     "output_type": "stream",
     "text": [
      "<ipython-input-3-41c3993f6781>:22: DeprecationWarning: DataFrameGroupBy.apply operated on the grouping columns. This behavior is deprecated, and in a future version of pandas the grouping columns will be excluded from the operation. Either pass `include_groups=False` to exclude the groupings or explicitly select the grouping columns after groupby to silence this warning.\n",
      "  data = grouped.apply(lambda x: x.sample(grouped.size().min(), random_state=73).reset_index(drop=True))\n"
     ]
    }
   ],
   "source": [
    "torch.random.manual_seed(73)\n",
    "random.seed(73)\n",
    "\n",
    "\n",
    "def split_train_test(x, y, test_ratio=0.3):\n",
    "    idxs = [i for i in range(len(x))]\n",
    "    random.shuffle(idxs)\n",
    "    # delimiter between test and train data\n",
    "    delim = int(len(x) * test_ratio)\n",
    "    test_idxs, train_idxs = idxs[:delim], idxs[delim:]\n",
    "    return x[train_idxs], y[train_idxs], x[test_idxs], y[test_idxs]\n",
    "\n",
    "\n",
    "def heart_disease_data():\n",
    "    data = pd.read_csv(\"/kaggle/input/trydataset/framingham.csv\")\n",
    "    # drop rows with missing values\n",
    "    data = data.dropna()\n",
    "    # drop some features\n",
    "    data = data.drop(columns=[\"education\", \"currentSmoker\", \"BPMeds\", \"diabetes\", \"diaBP\", \"BMI\"])\n",
    "    # balance data\n",
    "    grouped = data.groupby('TenYearCHD')\n",
    "    data = grouped.apply(lambda x: x.sample(grouped.size().min(), random_state=73).reset_index(drop=True))\n",
    "    # extract labels\n",
    "    y = torch.tensor(data[\"TenYearCHD\"].values).float().unsqueeze(1)\n",
    "    #data = data.drop(\"TenYearCHD\",'columns')\n",
    "    # standardize data\n",
    "    data = (data - data.mean()) / data.std()\n",
    "    x = torch.tensor(data.values).float()\n",
    "    return split_train_test(x, y)\n",
    "\n",
    "\n",
    "def random_data(m=1024, n=2):\n",
    "    # data separable by the line `y = x`\n",
    "    x_train = torch.randn(m, n)\n",
    "    x_test = torch.randn(m // 2, n)\n",
    "    y_train = (x_train[:, 0] >= x_train[:, 1]).float().unsqueeze(0).t()\n",
    "    y_test = (x_test[:, 0] >= x_test[:, 1]).float().unsqueeze(0).t()\n",
    "    return x_train, y_train, x_test, y_test\n",
    "\n",
    "\n",
    "# You can use whatever data you want without modification to the tutorial\n",
    "# x_train, y_train, x_test, y_test = random_data()\n",
    "x_train, y_train, x_test, y_test = heart_disease_data()\n",
    "\n",
    "print(\"############# Data summary #############\")\n",
    "print(f\"x_train has shape: {x_train.shape}\")\n",
    "print(f\"y_train has shape: {y_train.shape}\")\n",
    "print(f\"x_test has shape: {x_test.shape}\")\n",
    "print(f\"y_test has shape: {y_test.shape}\")\n",
    "print(\"#######################################\")"
   ]
  },
  {
   "cell_type": "code",
   "execution_count": 4,
   "id": "27a3404f",
   "metadata": {
    "execution": {
     "iopub.execute_input": "2025-03-29T10:41:00.823650Z",
     "iopub.status.busy": "2025-03-29T10:41:00.823284Z",
     "iopub.status.idle": "2025-03-29T10:41:02.250161Z",
     "shell.execute_reply": "2025-03-29T10:41:02.249056Z"
    },
    "id": "7d29335d-0550-47cc-a59f-ac72fe2ea0e3",
    "papermill": {
     "duration": 1.434929,
     "end_time": "2025-03-29T10:41:02.252110",
     "exception": false,
     "start_time": "2025-03-29T10:41:00.817181",
     "status": "completed"
    },
    "tags": []
   },
   "outputs": [],
   "source": [
    "# parameters\n",
    "poly_mod_degree = 8192\n",
    "coeff_mod_bit_sizes = [40, 21, 21, 21, 21, 21, 21, 40]\n",
    "# create TenSEALContext\n",
    "ctx_training = ts.context(ts.SCHEME_TYPE.CKKS, poly_mod_degree, -1, coeff_mod_bit_sizes)\n",
    "ctx_training.global_scale = 2 ** 21\n",
    "ctx_training.generate_galois_keys()"
   ]
  },
  {
   "cell_type": "code",
   "execution_count": 5,
   "id": "ff6f7349",
   "metadata": {
    "execution": {
     "iopub.execute_input": "2025-03-29T10:41:02.262451Z",
     "iopub.status.busy": "2025-03-29T10:41:02.262033Z",
     "iopub.status.idle": "2025-03-29T10:41:02.266223Z",
     "shell.execute_reply": "2025-03-29T10:41:02.264991Z"
    },
    "id": "fca037ed-0491-4249-8032-e567ff666951",
    "outputId": "e5b4a1db-9f1a-4c0d-8c6a-74bc89074f12",
    "papermill": {
     "duration": 0.011311,
     "end_time": "2025-03-29T10:41:02.268031",
     "exception": false,
     "start_time": "2025-03-29T10:41:02.256720",
     "status": "completed"
    },
    "tags": []
   },
   "outputs": [],
   "source": [
    "#t_start = time()\n",
    "#enc_x_train = ts.ckks_tensor(ctx_training, x_train[0:200])\n",
    "#enc_y_train = ts.ckks_tensor(ctx_training, y_train[0:200])\n",
    "#t_end = time()\n",
    "#print(f\"Encryption of the training_set took {int(t_end - t_start)} seconds\")\n",
    "#print(enc_x_train[0])"
   ]
  },
  {
   "cell_type": "code",
   "execution_count": 6,
   "id": "e18c3907",
   "metadata": {
    "execution": {
     "iopub.execute_input": "2025-03-29T10:41:02.278529Z",
     "iopub.status.busy": "2025-03-29T10:41:02.278108Z",
     "iopub.status.idle": "2025-03-29T10:41:02.297638Z",
     "shell.execute_reply": "2025-03-29T10:41:02.296511Z"
    },
    "id": "LocrA1zn57Ep",
    "papermill": {
     "duration": 0.027076,
     "end_time": "2025-03-29T10:41:02.299699",
     "exception": false,
     "start_time": "2025-03-29T10:41:02.272623",
     "status": "completed"
    },
    "tags": []
   },
   "outputs": [],
   "source": [
    "class EncryptedDL2layer() :\n",
    "  def __init__(self) -> None:\n",
    "      self.weight1=np.random.rand(10,6)*0.01\n",
    "      self.bias1=np.random.rand(6)*0.01\n",
    "      self.weight2=np.random.rand(6, 3)*0.01\n",
    "      self.bias2=np.random.rand(3)*0.01\n",
    "      self.weight3=np.random.rand(3,1)*0.01\n",
    "      self.bias3=np.random.rand(1)*0.01\n",
    "      self.dw1=0\n",
    "      self.db1=0\n",
    "      self.dw2=0\n",
    "      self.db2=0\n",
    "      self.dw3=0\n",
    "      self.db3=0\n",
    "  def bootstrapping(enc,ctx_training) :\n",
    "    return ts.ckks_tensor(ctx_training,enc.decrypt())\n",
    "  def swiss(enc_x):\n",
    "    return enc_x.polyval([0.6931,0.5,0.125,0])\n",
    "  def swiss_derv(enc_x):\n",
    "    return enc_x.polyval([0.5, 0.197, 0, -0.004])\n",
    "  def forward(self,enc_x_train,ctx_training) :\n",
    "    z11=enc_x_train.mm(self.weight1)\n",
    "    z1=z11.add(self.bias1)\n",
    "    a1=EncryptedDL2layer.swiss(z1)\n",
    "    y=EncryptedDL2layer.bootstrapping(a1,ctx_training)\n",
    "    z21=y.mm(self.weight2)\n",
    "    z2=z21.add(self.bias2)\n",
    "    a2=EncryptedDL2layer.swiss(z2)\n",
    "    y1=EncryptedDL2layer.bootstrapping(a2,ctx_training)\n",
    "    z31=y1.mm(self.weight3)\n",
    "    z3=z31.add(self.bias3)\n",
    "    a3=EncryptedDL2layer.swiss(z3)\n",
    "    a3=EncryptedDL2layer.bootstrapping(a3,ctx_training)\n",
    "    return a3,z3,a2,z2,a1,z1\n",
    "  def backward(self,a3,z3,a2,z2,a1,z1,enc_y_train,ctx_training) :\n",
    "    #calculating the output at the layer 2\n",
    "    error=a3-enc_y_train\n",
    "    der=EncryptedDL2layer.swiss_derv(z3)\n",
    "    #finding delta3\n",
    "    delta3=error.mul(der)\n",
    "    #using bootstrapping\n",
    "    delta3=EncryptedDL2layer.bootstrapping(delta3,ctx_training)\n",
    "\n",
    "    del2=delta3.mm(self.weight3.transpose())\n",
    "    del2=EncryptedDL2layer.bootstrapping(del2,ctx_training)\n",
    "    #finding der2\n",
    "    der2=EncryptedDL2layer.swiss_derv(z2)\n",
    "    #using bootstrapping\n",
    "    der2=EncryptedDL2layer.bootstrapping(der2,ctx_training)\n",
    "    #finding delta2\n",
    "    delta2=del2.mul(der2)\n",
    "    del1=delta2.mm(self.weight2.transpose())\n",
    "    del1=EncryptedDL2layer.bootstrapping(del1,ctx_training)\n",
    "    #finding der1\n",
    "    der1=EncryptedDL2layer.swiss_derv(z1)\n",
    "    #using bootstrapping\n",
    "    der1=EncryptedDL2layer.bootstrapping(der1,ctx_training)\n",
    "    #finding delta1\n",
    "    delta1=del1.mul(der1)\n",
    "    #finding the gradients\n",
    "    #for weight3 and bias3\n",
    "    self.dw3=a2.transpose().mm(delta3)\n",
    "    self.db3=delta3.sum()\n",
    "    #for weight2 and bias2\n",
    "    self.dw2=a1.transpose().mm(delta2)\n",
    "    self.db2=delta2.sum()\n",
    "    #for weight1 and bias1\n",
    "    self.dw1=enc_x_train.transpose().mm(delta1)\n",
    "    self.db1=delta1.sum()\n",
    "  def update_params(self):\n",
    "    self.weight3=self.weight3-0.01*self.dw3\n",
    "    self.bias3=self.bias3-0.01*self.db3\n",
    "    self.weight2=self.weight2-0.01*self.dw2\n",
    "    self.bias2=self.bias2-0.01*self.db2\n",
    "    self.weight1=self.weight1-0.01*self.dw1\n",
    "    self.bias1=self.bias1-0.01*self.db1\n",
    "  def encrypt(self, context):\n",
    "    self.weight1 = ts.ckks_tensor(context, self.weight1)\n",
    "    self.bias1 = ts.ckks_tensor(context, self.bias1)\n",
    "    self.weight2 = ts.ckks_tensor(context, self.weight2)\n",
    "    self.bias2 = ts.ckks_tensor(context, self.bias2)\n",
    "    self.weight3 = ts.ckks_tensor(context, self.weight3)\n",
    "    self.bias3 = ts.ckks_tensor(context, self.bias3)\n",
    "  def decrypt(self):\n",
    "    self.weight1 = self.weight1.decrypt()\n",
    "    self.bias1 = self.bias1.decrypt()\n",
    "    self.weight2 = self.weight2.decrypt()\n",
    "    self.bias2 = self.bias2.decrypt()\n",
    "    self.weight3 = self.weight3.decrypt()\n",
    "    self.bias3 = self.bias3.decrypt()\n",
    "  def accuracy(self,x_test,y_test):\n",
    "    #self.decrypt()\n",
    "    w1 = torch.tensor(self.weight1)\n",
    "    b1 = torch.tensor(self.bias1)\n",
    "    out1 = torch.swiss(x_test.matmul(w1) + b1).reshape(-1, 1)\n",
    "    w2 = torch.tensor(self.weight2)\n",
    "    b2 = torch.tensor(self.bias2)\n",
    "    out2 = torch.swiss(out1.matmul(w2) + b2).reshape(-1, 1)\n",
    "    correct = torch.abs(y_test - out2) < 0.5\n",
    "    return correct.float().mean()\n",
    "\n",
    "  def __call__(self, *args, **kwargs):\n",
    "    return self.forward(*args, **kwargs)\n"
   ]
  },
  {
   "cell_type": "code",
   "execution_count": 7,
   "id": "bd3ed2d0",
   "metadata": {
    "execution": {
     "iopub.execute_input": "2025-03-29T10:41:02.309795Z",
     "iopub.status.busy": "2025-03-29T10:41:02.309340Z",
     "iopub.status.idle": "2025-03-29T13:26:02.233488Z",
     "shell.execute_reply": "2025-03-29T13:26:02.232221Z"
    },
    "id": "vj7f2Rt3BTsJ",
    "papermill": {
     "duration": 9899.931775,
     "end_time": "2025-03-29T13:26:02.235764",
     "exception": false,
     "start_time": "2025-03-29T10:41:02.303989",
     "status": "completed"
    },
    "tags": []
   },
   "outputs": [
    {
     "name": "stdout",
     "output_type": "stream",
     "text": [
      "Epoch :  0\n",
      "Encryption of the training_set took 4 seconds\n",
      "\n",
      "\n",
      "Encryption of the training_set took 3 seconds\n",
      "\n",
      "\n",
      "Encryption of the training_set took 3 seconds\n",
      "\n",
      "\n",
      "Encryption of the training_set took 3 seconds\n",
      "\n",
      "\n",
      "Encryption of the training_set took 3 seconds\n",
      "\n",
      "\n",
      "Encryption of the training_set took 3 seconds\n",
      "\n",
      "\n",
      "Encryption of the training_set took 3 seconds\n",
      "\n",
      "\n",
      "Encryption of the training_set took 3 seconds\n",
      "\n",
      "\n",
      "Encryption of the training_set took 3 seconds\n",
      "\n",
      "\n",
      "Encryption of the training_set took 3 seconds\n",
      "\n",
      "\n",
      "Encryption of the training_set took 3 seconds\n",
      "\n",
      "\n",
      "Encryption of the training_set took 3 seconds\n",
      "\n",
      "\n",
      "Encryption of the training_set took 3 seconds\n",
      "\n",
      "\n",
      "Loss at epoch  0 tensor(0.7164)\n",
      "Epoch :  1\n",
      "Encryption of the training_set took 3 seconds\n",
      "\n",
      "\n",
      "Encryption of the training_set took 3 seconds\n",
      "\n",
      "\n",
      "Encryption of the training_set took 3 seconds\n",
      "\n",
      "\n",
      "Encryption of the training_set took 3 seconds\n",
      "\n",
      "\n",
      "Encryption of the training_set took 3 seconds\n",
      "\n",
      "\n",
      "Encryption of the training_set took 3 seconds\n",
      "\n",
      "\n",
      "Encryption of the training_set took 3 seconds\n",
      "\n",
      "\n",
      "Encryption of the training_set took 3 seconds\n",
      "\n",
      "\n",
      "Encryption of the training_set took 3 seconds\n",
      "\n",
      "\n",
      "Encryption of the training_set took 3 seconds\n",
      "\n",
      "\n",
      "Encryption of the training_set took 4 seconds\n",
      "\n",
      "\n",
      "Encryption of the training_set took 3 seconds\n",
      "\n",
      "\n",
      "Encryption of the training_set took 3 seconds\n",
      "\n",
      "\n",
      "Loss at epoch  1 tensor(0.7162)\n",
      "Epoch :  2\n",
      "Encryption of the training_set took 3 seconds\n",
      "\n",
      "\n",
      "Encryption of the training_set took 3 seconds\n",
      "\n",
      "\n",
      "Encryption of the training_set took 4 seconds\n",
      "\n",
      "\n",
      "Encryption of the training_set took 3 seconds\n",
      "\n",
      "\n",
      "Encryption of the training_set took 3 seconds\n",
      "\n",
      "\n",
      "Encryption of the training_set took 3 seconds\n",
      "\n",
      "\n",
      "Encryption of the training_set took 3 seconds\n",
      "\n",
      "\n",
      "Encryption of the training_set took 3 seconds\n",
      "\n",
      "\n",
      "Encryption of the training_set took 3 seconds\n",
      "\n",
      "\n",
      "Encryption of the training_set took 3 seconds\n",
      "\n",
      "\n",
      "Encryption of the training_set took 4 seconds\n",
      "\n",
      "\n",
      "Encryption of the training_set took 3 seconds\n",
      "\n",
      "\n",
      "Encryption of the training_set took 3 seconds\n",
      "\n",
      "\n",
      "Loss at epoch  2 tensor(0.7163)\n",
      "Epoch :  3\n",
      "Encryption of the training_set took 3 seconds\n",
      "\n",
      "\n",
      "Encryption of the training_set took 3 seconds\n",
      "\n",
      "\n",
      "Encryption of the training_set took 3 seconds\n",
      "\n",
      "\n",
      "Encryption of the training_set took 3 seconds\n",
      "\n",
      "\n",
      "Encryption of the training_set took 3 seconds\n",
      "\n",
      "\n",
      "Encryption of the training_set took 3 seconds\n",
      "\n",
      "\n",
      "Encryption of the training_set took 3 seconds\n",
      "\n",
      "\n",
      "Encryption of the training_set took 3 seconds\n",
      "\n",
      "\n",
      "Encryption of the training_set took 3 seconds\n",
      "\n",
      "\n",
      "Encryption of the training_set took 3 seconds\n",
      "\n",
      "\n",
      "Encryption of the training_set took 3 seconds\n",
      "\n",
      "\n",
      "Encryption of the training_set took 3 seconds\n",
      "\n",
      "\n",
      "Encryption of the training_set took 3 seconds\n",
      "\n",
      "\n",
      "Loss at epoch  3 tensor(0.7160)\n",
      "Epoch :  4\n",
      "Encryption of the training_set took 3 seconds\n",
      "\n",
      "\n",
      "Encryption of the training_set took 4 seconds\n",
      "\n",
      "\n",
      "Encryption of the training_set took 3 seconds\n",
      "\n",
      "\n",
      "Encryption of the training_set took 3 seconds\n",
      "\n",
      "\n",
      "Encryption of the training_set took 3 seconds\n",
      "\n",
      "\n",
      "Encryption of the training_set took 3 seconds\n",
      "\n",
      "\n",
      "Encryption of the training_set took 4 seconds\n",
      "\n",
      "\n",
      "Encryption of the training_set took 3 seconds\n",
      "\n",
      "\n",
      "Encryption of the training_set took 3 seconds\n",
      "\n",
      "\n",
      "Encryption of the training_set took 3 seconds\n",
      "\n",
      "\n",
      "Encryption of the training_set took 3 seconds\n",
      "\n",
      "\n",
      "Encryption of the training_set took 3 seconds\n",
      "\n",
      "\n",
      "Encryption of the training_set took 3 seconds\n",
      "\n",
      "\n",
      "Loss at epoch  4 tensor(0.7153)\n",
      "\n",
      "Average time per epoch: 145 seconds\n",
      "Final weight1  [[0.00866904974502912, 0.0058128056030496604, 0.01509141265774514, 0.004567935694724319, 0.008581298427404798, -0.0032258119361695285], [0.01526869855795501, 0.0010351806509357445, 0.01658866623963029, 0.013624423940122051, 0.011748986539000684, 0.02288935206585476], [0.0006319480919808415, 0.00024907116351570967, -0.002257101330830483, 0.0016974855789003308, 0.03131464623832283, 0.0021412557842152733], [0.01715973325877149, 0.010596317261289628, 0.0004900409879483169, 0.02977045288561186, 0.02346697429550517, -0.001684731781468911], [-0.011317650517885232, -0.004239811395445061, 0.002265688914255025, 0.009946119207852086, 0.01529691896672361, 0.01835014106671215], [0.006975143592191504, 0.00857034063386806, 0.001125673438614297, 0.011017381113085098, 0.018013488314708455, 0.006635632855699147], [0.00845632983263637, 0.007817132584063892, 0.023998079795068232, 0.0021019603269298074, 0.036189380754293, 0.007172862379111951], [0.004190361276311285, 0.015735454445040046, 0.010679489379708754, -0.0020106588921715383, 0.011703095297577551, 0.013095049849692968], [-0.008127677514273552, 0.02946028941859838, 0.011105687088479088, 0.009262829502410507, 0.021764386430459918, 0.0117889708561626], [0.03334210428505102, 0.015880115397703547, 0.023564984580759868, 0.02428409320680347, 0.08550407982667577, 0.05087733522509664]]\n",
      "Final bias 1 [0.004901998873338287, 0.006193318223912046, 0.0015318604651845616, 0.017923619965419392, 0.007806120731087319, 0.017365108862065326]\n",
      "Final weight 2 [[-0.029997729056961672, -0.033512183220153854, -0.04052270829404823], [-0.01481748670890253, -0.021056768216462424, -0.029942838328971485], [-0.036862040620328274, -0.02605124942836574, -0.03168903546373792], [-0.02766338379610638, -0.021145781414628466, -0.025552155607956942], [-0.08089274893154533, -0.0803848129580935, -0.046595740862651704], [-0.06398429768095808, -0.03412468011903328, -0.029703955421408565]]\n",
      "Final bias 2 [-0.009384758649990782, 0.0019100867571636008, -0.00041710898296536434]\n"
     ]
    }
   ],
   "source": [
    "EPOCHS = 5\n",
    "eelr = EncryptedDL2layer()\n",
    "#accuracy = eelr.accuracy(x_test, y_test)\n",
    "#print(f\"Accuracy at epoch #0 is {accuracy}\")\n",
    "times = []\n",
    "for epoch in range(EPOCHS):\n",
    "    print(\"Epoch : \",epoch)\n",
    "#print(enc_x_train[0])\n",
    "    for i in range(0,780,60):\n",
    "        t_start = time()\n",
    "        enc_x_train = ts.ckks_tensor(ctx_training, x_train[i:i+60])\n",
    "        enc_y_train = ts.ckks_tensor(ctx_training, y_train[i:i+60])\n",
    "        t_end = time()\n",
    "        print(f\"Encryption of the training_set took {int(t_end - t_start)} seconds\")\n",
    "        eelr.encrypt(ctx_training)\n",
    "    \n",
    "        # if you want to keep an eye on the distribution to make sure\n",
    "        # the function approximation is still working fine\n",
    "        # WARNING: this operation is time consuming\n",
    "        # encrypted_out_distribution(eelr, enc_x_train)\n",
    "    \n",
    "        t_start = time()\n",
    "        #for enc_x, enc_y in zip(enc_x_train, enc_y_train):\n",
    "        a3,z3,a2,z2,a1,z1 = eelr.forward(enc_x_train,ctx_training)\n",
    "        eelr.backward(a3,z3,a2,z2,a1,z1,enc_y_train,ctx_training)\n",
    "        eelr.update_params()\n",
    "        t_end = time()\n",
    "        \n",
    "        times.append(t_end - t_start)\n",
    "    \n",
    "        eelr.decrypt()\n",
    "        print(\"\\n\")\n",
    "        #accuracy = eelr.accuracy(x_test, y_test)\n",
    "        #print(f\"Accuracy at epoch #{epoch + 1} is {accuracy}\")\n",
    "    \n",
    "    a3,z3,a2,z2,a1,z1 = eelr.forward(enc_x_train,ctx_training)\n",
    "    data=torch.tensor(a3.decrypt().tolist())\n",
    "    loss_fn = torch.nn.BCEWithLogitsLoss()\n",
    "    loss = loss_fn(data, y_train[i:i+60])\n",
    "    print(\"Loss at epoch \",epoch,loss.data)\n",
    "print(f\"\\nAverage time per epoch: {int(sum(times) / len(times))} seconds\")\n",
    "    #print(f\"Final accuracy is {accuracy}\")\n",
    "print(\"Final weight1 \",eelr.weight1.tolist())\n",
    "print(\"Final bias 1\",eelr.bias1.tolist())\n",
    "print(\"Final weight 2\",eelr.weight2.tolist())\n",
    "print(\"Final bias 2\",eelr.bias2.tolist())"
   ]
  },
  {
   "cell_type": "code",
   "execution_count": 8,
   "id": "c979a27b",
   "metadata": {
    "execution": {
     "iopub.execute_input": "2025-03-29T13:26:02.259966Z",
     "iopub.status.busy": "2025-03-29T13:26:02.259543Z",
     "iopub.status.idle": "2025-03-29T13:26:32.652055Z",
     "shell.execute_reply": "2025-03-29T13:26:32.650459Z"
    },
    "id": "KLgUVLDRjFUR",
    "papermill": {
     "duration": 30.41801,
     "end_time": "2025-03-29T13:26:32.665107",
     "exception": false,
     "start_time": "2025-03-29T13:26:02.247097",
     "status": "completed"
    },
    "tags": []
   },
   "outputs": [
    {
     "data": {
      "text/plain": [
       "[[0.49765461144326867],\n",
       " [-0.5012574513138099],\n",
       " [0.49457448449772085],\n",
       " [0.5000566180718824],\n",
       " [-0.49891315898969585],\n",
       " [0.49653265037187116],\n",
       " [0.49637387046043935],\n",
       " [-0.5000167228326923],\n",
       " [0.4951859849630046],\n",
       " [0.4996706969471751],\n",
       " [0.49510404001480296],\n",
       " [-0.5008814106707833],\n",
       " [-0.5015868742355932],\n",
       " [-0.5002692464943138],\n",
       " [-0.4995073880782557],\n",
       " [-0.49648289020544406],\n",
       " [-0.5002457083530673],\n",
       " [0.4983637544371586],\n",
       " [-0.4983984536667237],\n",
       " [0.49987677861992535],\n",
       " [-0.49864785617955404],\n",
       " [-0.5009571340602285],\n",
       " [0.4955348840536473],\n",
       " [-0.4995605438429126],\n",
       " [-0.5012994088510192],\n",
       " [-0.4989360371872128],\n",
       " [-0.49803725254636055],\n",
       " [-0.5024458051223881],\n",
       " [0.49904252654399583],\n",
       " [0.4971678388544877],\n",
       " [0.4950213357322076],\n",
       " [-0.5026423389102296],\n",
       " [0.4958060341902231],\n",
       " [-0.5007496081183153],\n",
       " [-0.500365334927794],\n",
       " [-0.5001437499325808],\n",
       " [0.49422598372630094],\n",
       " [0.49644081619978103],\n",
       " [0.49935173392364046],\n",
       " [0.4978335273925357],\n",
       " [0.4958331658055589],\n",
       " [-0.5008853787960602],\n",
       " [0.49618419394639507],\n",
       " [-0.5022327501525111],\n",
       " [-0.5016964528981385],\n",
       " [-0.49955278240646567],\n",
       " [0.5008083035253889],\n",
       " [-0.49932740235483436],\n",
       " [0.49598235661905793],\n",
       " [0.4963601913560168],\n",
       " [0.4965049007489055],\n",
       " [0.4968933911867591],\n",
       " [-0.49901024332186134],\n",
       " [0.49564027563101354],\n",
       " [0.4974624489406461],\n",
       " [-0.49926880088542525],\n",
       " [0.49667930360955764],\n",
       " [0.498210537813706],\n",
       " [-0.5013751488560091],\n",
       " [0.49059909732216994]]"
      ]
     },
     "execution_count": 8,
     "metadata": {},
     "output_type": "execute_result"
    }
   ],
   "source": [
    "#eelr.encrypt(ctx_training)\n",
    "m,n,j,k,l,r=eelr.forward(enc_x_train,ctx_training)\n",
    "enc_y_train.sub(m).decrypt().tolist()"
   ]
  },
  {
   "cell_type": "code",
   "execution_count": 9,
   "id": "419b3d06",
   "metadata": {
    "execution": {
     "iopub.execute_input": "2025-03-29T13:26:32.697767Z",
     "iopub.status.busy": "2025-03-29T13:26:32.697187Z",
     "iopub.status.idle": "2025-03-29T13:26:33.142384Z",
     "shell.execute_reply": "2025-03-29T13:26:33.141181Z"
    },
    "id": "_UaJ3vhlvLCX",
    "papermill": {
     "duration": 0.46787,
     "end_time": "2025-03-29T13:26:33.144650",
     "exception": false,
     "start_time": "2025-03-29T13:26:32.676780",
     "status": "completed"
    },
    "tags": []
   },
   "outputs": [
    {
     "name": "stdout",
     "output_type": "stream",
     "text": [
      "tensor(0.6833)\n"
     ]
    }
   ],
   "source": [
    "out=torch.tensor(enc_y_train.sub(m).decrypt().tolist())\n",
    "correct=torch.abs(out)<0.5\n",
    "print(correct.float().mean())"
   ]
  },
  {
   "cell_type": "code",
   "execution_count": 10,
   "id": "d318f867",
   "metadata": {
    "execution": {
     "iopub.execute_input": "2025-03-29T13:26:33.176172Z",
     "iopub.status.busy": "2025-03-29T13:26:33.175708Z",
     "iopub.status.idle": "2025-03-29T13:26:54.977623Z",
     "shell.execute_reply": "2025-03-29T13:26:54.976371Z"
    },
    "id": "WiNUecEKxti0",
    "papermill": {
     "duration": 21.816245,
     "end_time": "2025-03-29T13:26:54.979695",
     "exception": false,
     "start_time": "2025-03-29T13:26:33.163450",
     "status": "completed"
    },
    "tags": []
   },
   "outputs": [],
   "source": [
    "enc_x_test = ts.ckks_tensor(ctx_training, x_test)\n",
    "enc_y_test = ts.ckks_tensor(ctx_training, y_test)"
   ]
  },
  {
   "cell_type": "code",
   "execution_count": 11,
   "id": "102c7331",
   "metadata": {
    "execution": {
     "iopub.execute_input": "2025-03-29T13:26:55.005047Z",
     "iopub.status.busy": "2025-03-29T13:26:55.004677Z",
     "iopub.status.idle": "2025-03-29T13:30:20.505615Z",
     "shell.execute_reply": "2025-03-29T13:30:20.504410Z"
    },
    "papermill": {
     "duration": 205.517039,
     "end_time": "2025-03-29T13:30:20.508558",
     "exception": false,
     "start_time": "2025-03-29T13:26:54.991519",
     "status": "completed"
    },
    "tags": []
   },
   "outputs": [
    {
     "name": "stdout",
     "output_type": "stream",
     "text": [
      "[[0.4997688139868569], [0.5017065939646869], [0.5026236379084004], [0.5023130323581544], [0.5026679155911686], [0.5050289039915008], [0.502952826413671], [0.49946688874103407], [0.49952414995939626], [0.4977790022641204], [0.5024343003172412], [0.4994973518754163], [0.5040135379551463], [0.5044453540692885], [0.5022320102343802], [0.5034052815018412], [0.5048025495885101], [0.5035138173772442], [0.5049154370634495], [0.49800514744913854], [0.5038196821597637], [0.5000562043157648], [0.5005343080312649], [0.5005230133447297], [0.49945005243083324], [0.5003003893893944], [0.5016561328748383], [0.5045889128924305], [0.5034977317307896], [0.5064453760326468], [0.5035213846543506], [0.5019949795481553], [0.5039442553769202], [0.500967297027289], [0.49987151929355417], [0.5019362649744885], [0.49968773479983136], [0.4981951755493187], [0.5035798932668486], [0.4996639254529071], [0.5069167518295357], [0.5054405567779101], [0.5017353463680044], [0.49855723305558103], [0.5005596851266139], [0.5038109555792326], [0.502626634741357], [0.5018562481718902], [0.501670807558132], [0.5026920667938278], [0.5016179118272867], [0.5017545380212145], [0.503985441149905], [0.5005908201078353], [0.49612341245959446], [0.5098994014386466], [0.4974844046880602], [0.5025000957137207], [0.5010527730820472], [0.5018532094302736], [0.4968336739447044], [0.4978779523904979], [0.5011500297094037], [0.4996314792423613], [0.49925991796448665], [0.5084274383431613], [0.5034046804867321], [0.4999605689596481], [0.5031386964905283], [0.49594531580283696], [0.504558721190929], [0.5031051364934996], [0.5029689733587634], [0.5006042475049021], [0.4990511618175626], [0.5013746796185602], [0.5008471273716844], [0.500652043730812], [0.5014724526341662], [0.5039391308866391], [0.5025004163212035], [0.5065047165758486], [0.5030561747809711], [0.5007595856077016], [0.4995663533235038], [0.5046474250146533], [0.5035545853533632], [0.49958605139103035], [0.5013507756099557], [0.5002905514599448], [0.5073093333604131], [0.5013652236402019], [0.502614196306719], [0.5004358361822899], [0.5039212214082089], [0.504539762228604], [0.5039823010161499], [0.5025523475825341], [0.5011760117601373], [0.4989259681631207], [0.5036653906930135], [0.5071219300505203], [0.5050206401423785], [0.49913323298113715], [0.5011950628161104], [0.502118395552005], [0.5016319534345651], [0.5018979048373089], [0.5019488668407308], [0.5005212473827185], [0.5011131524594836], [0.504888229831068], [0.5022169095764533], [0.502231093580628], [0.5044340866269407], [0.5032365871095572], [0.5039097924395385], [0.5079057349273609], [0.5002188048110527], [0.5026599697873764], [0.5014353797487112], [0.4991777700303508], [0.5002119407209048], [0.5021885492054659], [0.5026059689598834], [0.4974172967110645], [0.4959915881062568], [0.5061056888792225], [0.4992692092545925], [0.5013115225419099], [0.5002577793746475], [0.4995638992441371], [0.5001522128666145], [0.5055230578976148], [0.500203796754421], [0.5016810784848941], [0.501251101466885], [0.5046956023251487], [0.4968822290805524], [0.5033521678916991], [0.5025509753276703], [0.4978396719803505], [0.5010205998689732], [0.5024546884430419], [0.5000839085468985], [0.5018134949682449], [0.5012437788870626], [0.500767397323976], [0.49847867783802424], [0.5022595627505734], [0.5049340833423237], [0.4994676444718603], [0.5002250430465787], [0.49832403728453517], [0.5051661950490121], [0.5045210544893425], [0.5012922479846169], [0.5013982779559732], [0.4996927499066736], [0.5022075576645257], [0.5031192819521859], [0.5057924203931023], [0.49935917140033925], [0.49987265034590644], [0.49971342315722156], [0.5053733811446122], [0.49797626459141225], [0.4980635613118516], [0.5031103648873636], [0.5059378268132044], [0.5056975590826556], [0.4987587922317174], [0.5033326729135277], [0.5050614247249744], [0.5066612573054987], [0.503948937203918], [0.4998857133028516], [0.49991511992761806], [0.49943355340079404], [0.5046250826323635], [0.4996544018171558], [0.5044030464922987], [0.5007243478464226], [0.5025920264824185], [0.5032214679498546], [0.5048332769467686], [0.5042003143138725], [0.49915466117957286], [0.5055339267392068], [0.5030655462810002], [0.501123331267614], [0.49968610401625796], [0.5031864972322296], [0.5054540652578697], [0.5030635024908313], [0.49950338193995214], [0.5050975247694257], [0.5017617468171515], [0.5018095909632302], [0.5005057405731724], [0.500784952071134], [0.5005397190596588], [0.5001495677438299], [0.5040459778384021], [0.5000402455911319], [0.49967622872923784], [0.5059535309193742], [0.5041820347161708], [0.4974461855236715], [0.502224264006286], [0.5041784523465173], [0.4999185552619031], [0.5025546452534201], [0.5019988447634942], [0.5034853101267991], [0.4991417835724695], [0.49941865454124845], [0.5052722707930033], [0.5037299049019428], [0.5032123271384848], [0.5009500251594201], [0.49982448720956923], [0.5015888294388748], [0.4985480977146575], [0.5007623424817997], [0.5059413125820794], [0.49988751637772594], [0.503478126184295], [0.5038807157217146], [0.5030275597994994], [0.5010281391765162], [0.5019751625487113], [0.5021051481995426], [0.5014621573157484], [0.5055174047954407], [0.5006215111463108], [0.5030265442435033], [0.5032295055440416], [0.5088026027319493], [0.50284427120714], [0.5048162849094454], [0.5026321306385033], [0.5009086831861308], [0.5001679983963344], [0.5012549323401903], [0.5040428188314638], [0.49711613359646806], [0.5026142909891406], [0.502788798999101], [0.5080057431704479], [0.5028069426030584], [0.4995271067248669], [0.5011264852301792], [0.5008233131569727], [0.5059084800184666], [0.5010998997650634], [0.50501758762869], [0.5017503287780207], [0.5033203069153404], [0.5000859513448933], [0.5042354423341163], [0.5043030702468577], [0.5065652152742643], [0.5081286064732499], [0.503987871299999], [0.4987166586656749], [0.5021449692955486], [0.5039318913942948], [0.49866874477397877], [0.5036312185957599], [0.5030416092857932], [0.5003995036824316], [0.4987467621464968], [0.5017389613625152], [0.501380830781309], [0.5007038411587873], [0.5004799170454085], [0.5051043248203683], [0.5016841090397748], [0.5007514466943795], [0.5019951491121133], [0.5031305058140022], [0.4992415733270329], [0.5002762833476015], [0.5057073355270497], [0.4977327947567143], [0.5015942301257184], [0.4987321503341104], [0.5037725032444768], [0.5016943103139201], [0.5007433579581845], [0.4995721831527816], [0.5056157452785538], [0.5010533960621446], [0.5004553671529869], [0.5025074578258262], [0.5026376811507282], [0.5037323232952305], [0.5001721761903668], [0.5026275985139537], [0.5024275225854397], [0.5046568806458316], [0.5000971713951801], [0.5000613791514895], [0.500778615999678], [0.5003843048078176], [0.502509065623403], [0.5014813582677771], [0.5044789717009172], [0.5053311483765801], [0.5042567585866689], [0.5026695936196364], [0.5010569528809798], [0.5019553631352802], [0.501699480124227], [0.5025061216569809], [0.5015667416835689], [0.5056363721596651], [0.5019281622193228], [0.503691301691434], [0.503401100467554], [0.4983942796880824], [0.5004347609423431], [0.4998194169923689], [0.5030301557658747], [0.5038648751840901], [0.5027769191175208], [0.504827986369233], [0.501034666965568], [0.5040599292387903], [0.49817754577342904], [0.5007931929772315], [0.5067710632777624], [0.5006729314106372]]\n",
      "tensor(0.6766)\n"
     ]
    }
   ],
   "source": [
    "m,n,j,k,l,r=eelr.forward(enc_x_test,ctx_training)\n",
    "print(m.decrypt().tolist())\n",
    "out=torch.tensor(enc_y_test.sub(m).decrypt().tolist())\n",
    "correct=torch.abs(out)<0.5\n",
    "print(correct.float().mean())"
   ]
  },
  {
   "cell_type": "code",
   "execution_count": null,
   "id": "c80f513c",
   "metadata": {
    "papermill": {
     "duration": 0.010822,
     "end_time": "2025-03-29T13:30:20.532449",
     "exception": false,
     "start_time": "2025-03-29T13:30:20.521627",
     "status": "completed"
    },
    "tags": []
   },
   "outputs": [],
   "source": []
  }
 ],
 "metadata": {
  "accelerator": "TPU",
  "colab": {
   "gpuType": "V28",
   "provenance": []
  },
  "kaggle": {
   "accelerator": "none",
   "dataSources": [
    {
     "datasetId": 6955944,
     "sourceId": 11149505,
     "sourceType": "datasetVersion"
    }
   ],
   "dockerImageVersionId": 30918,
   "isGpuEnabled": false,
   "isInternetEnabled": true,
   "language": "python",
   "sourceType": "notebook"
  },
  "kernelspec": {
   "display_name": "Python 3",
   "language": "python",
   "name": "python3"
  },
  "language_info": {
   "codemirror_mode": {
    "name": "ipython",
    "version": 3
   },
   "file_extension": ".py",
   "mimetype": "text/x-python",
   "name": "python",
   "nbconvert_exporter": "python",
   "pygments_lexer": "ipython3",
   "version": "3.10.12"
  },
  "papermill": {
   "default_parameters": {},
   "duration": 10180.580516,
   "end_time": "2025-03-29T13:30:26.037112",
   "environment_variables": {},
   "exception": null,
   "input_path": "__notebook__.ipynb",
   "output_path": "__notebook__.ipynb",
   "parameters": {},
   "start_time": "2025-03-29T10:40:45.456596",
   "version": "2.6.0"
  }
 },
 "nbformat": 4,
 "nbformat_minor": 5
}
