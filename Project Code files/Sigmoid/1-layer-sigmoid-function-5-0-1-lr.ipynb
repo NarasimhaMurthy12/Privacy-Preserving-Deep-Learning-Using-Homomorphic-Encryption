{
 "cells": [
  {
   "cell_type": "markdown",
   "id": "3b933e66",
   "metadata": {
    "id": "9DMr9rhddlYt",
    "papermill": {
     "duration": 0.004647,
     "end_time": "2025-04-01T15:41:38.540942",
     "exception": false,
     "start_time": "2025-04-01T15:41:38.536295",
     "status": "completed"
    },
    "tags": []
   },
   "source": [
    "Implementation of Deep Net with 1 hidden layer"
   ]
  },
  {
   "cell_type": "code",
   "execution_count": 1,
   "id": "221d202b",
   "metadata": {
    "execution": {
     "iopub.execute_input": "2025-04-01T15:41:38.550326Z",
     "iopub.status.busy": "2025-04-01T15:41:38.549959Z",
     "iopub.status.idle": "2025-04-01T15:41:44.577293Z",
     "shell.execute_reply": "2025-04-01T15:41:44.575957Z"
    },
    "executionInfo": {
     "elapsed": 2835,
     "status": "ok",
     "timestamp": 1742798433014,
     "user": {
      "displayName": "Narasimha Murthy Panchangam",
      "userId": "15024520267351528624"
     },
     "user_tz": -330
    },
    "id": "Ygi2n_WBRT_q",
    "outputId": "b76a21e2-74f1-4760-88e9-2af760e6801d",
    "papermill": {
     "duration": 6.033721,
     "end_time": "2025-04-01T15:41:44.578887",
     "exception": false,
     "start_time": "2025-04-01T15:41:38.545166",
     "status": "completed"
    },
    "tags": []
   },
   "outputs": [
    {
     "name": "stdout",
     "output_type": "stream",
     "text": [
      "Collecting tenseal\r\n",
      "  Downloading tenseal-0.3.16-cp310-cp310-manylinux_2_27_x86_64.manylinux_2_28_x86_64.whl.metadata (8.4 kB)\r\n",
      "Downloading tenseal-0.3.16-cp310-cp310-manylinux_2_27_x86_64.manylinux_2_28_x86_64.whl (4.8 MB)\r\n",
      "\u001b[2K   \u001b[90m━━━━━━━━━━━━━━━━━━━━━━━━━━━━━━━━━━━━━━━━\u001b[0m \u001b[32m4.8/4.8 MB\u001b[0m \u001b[31m38.6 MB/s\u001b[0m eta \u001b[36m0:00:00\u001b[0m\r\n",
      "\u001b[?25hInstalling collected packages: tenseal\r\n",
      "Successfully installed tenseal-0.3.16\r\n",
      "Note: you may need to restart the kernel to use updated packages.\n"
     ]
    }
   ],
   "source": [
    "pip install tenseal"
   ]
  },
  {
   "cell_type": "code",
   "execution_count": 2,
   "id": "b4b75873",
   "metadata": {
    "execution": {
     "iopub.execute_input": "2025-04-01T15:41:44.589500Z",
     "iopub.status.busy": "2025-04-01T15:41:44.589182Z",
     "iopub.status.idle": "2025-04-01T15:41:49.495345Z",
     "shell.execute_reply": "2025-04-01T15:41:49.494548Z"
    },
    "executionInfo": {
     "elapsed": 7696,
     "status": "ok",
     "timestamp": 1742798442252,
     "user": {
      "displayName": "Narasimha Murthy Panchangam",
      "userId": "15024520267351528624"
     },
     "user_tz": -330
    },
    "id": "1f47e986-014c-4ffd-94d1-631afde3099a",
    "papermill": {
     "duration": 4.9134,
     "end_time": "2025-04-01T15:41:49.497037",
     "exception": false,
     "start_time": "2025-04-01T15:41:44.583637",
     "status": "completed"
    },
    "tags": []
   },
   "outputs": [],
   "source": [
    "import torch\n",
    "import tenseal as ts\n",
    "import pandas as pd\n",
    "import random\n",
    "from time import time\n",
    "\n",
    "# those are optional and are not necessary for training\n",
    "import numpy as np\n",
    "import matplotlib.pyplot as plt"
   ]
  },
  {
   "cell_type": "code",
   "execution_count": 3,
   "id": "23c3906d",
   "metadata": {
    "execution": {
     "iopub.execute_input": "2025-04-01T15:41:49.507473Z",
     "iopub.status.busy": "2025-04-01T15:41:49.507000Z",
     "iopub.status.idle": "2025-04-01T15:41:49.630959Z",
     "shell.execute_reply": "2025-04-01T15:41:49.630190Z"
    },
    "executionInfo": {
     "elapsed": 404,
     "status": "ok",
     "timestamp": 1742798461263,
     "user": {
      "displayName": "Narasimha Murthy Panchangam",
      "userId": "15024520267351528624"
     },
     "user_tz": -330
    },
    "id": "b5c04e07-ee8c-49e8-a8ab-b30b06efeba7",
    "outputId": "4852cd9a-6e06-4d6c-c09e-240dd3a9044e",
    "papermill": {
     "duration": 0.130943,
     "end_time": "2025-04-01T15:41:49.632804",
     "exception": false,
     "start_time": "2025-04-01T15:41:49.501861",
     "status": "completed"
    },
    "tags": []
   },
   "outputs": [
    {
     "name": "stdout",
     "output_type": "stream",
     "text": [
      "############# Data summary #############\n",
      "x_train has shape: torch.Size([780, 10])\n",
      "y_train has shape: torch.Size([780, 1])\n",
      "x_test has shape: torch.Size([334, 10])\n",
      "y_test has shape: torch.Size([334, 1])\n",
      "#######################################\n"
     ]
    },
    {
     "name": "stderr",
     "output_type": "stream",
     "text": [
      "<ipython-input-3-9c1daa9f64ab>:22: DeprecationWarning: DataFrameGroupBy.apply operated on the grouping columns. This behavior is deprecated, and in a future version of pandas the grouping columns will be excluded from the operation. Either pass `include_groups=False` to exclude the groupings or explicitly select the grouping columns after groupby to silence this warning.\n",
      "  data = grouped.apply(lambda x: x.sample(grouped.size().min(), random_state=73).reset_index(drop=True))\n"
     ]
    }
   ],
   "source": [
    "torch.random.manual_seed(73)\n",
    "random.seed(73)\n",
    "\n",
    "\n",
    "def split_train_test(x, y, test_ratio=0.3):\n",
    "    idxs = [i for i in range(len(x))]\n",
    "    random.shuffle(idxs)\n",
    "    # delimiter between test and train data\n",
    "    delim = int(len(x) * test_ratio)\n",
    "    test_idxs, train_idxs = idxs[:delim], idxs[delim:]\n",
    "    return x[train_idxs], y[train_idxs], x[test_idxs], y[test_idxs]\n",
    "\n",
    "\n",
    "def heart_disease_data():\n",
    "    data = pd.read_csv(\"/kaggle/input/trydataset1/framingham.csv\")\n",
    "    # drop rows with missing values\n",
    "    data = data.dropna()\n",
    "    # drop some features\n",
    "    data = data.drop(columns=[\"education\", \"currentSmoker\", \"BPMeds\", \"diabetes\", \"diaBP\", \"BMI\"])\n",
    "    # balance data\n",
    "    grouped = data.groupby('TenYearCHD')\n",
    "    data = grouped.apply(lambda x: x.sample(grouped.size().min(), random_state=73).reset_index(drop=True))\n",
    "    # extract labels\n",
    "    y = torch.tensor(data[\"TenYearCHD\"].values).float().unsqueeze(1)\n",
    "    #data = data.drop(\"TenYearCHD\",'columns')\n",
    "    # standardize data\n",
    "    data = (data - data.mean()) / data.std()\n",
    "    x = torch.tensor(data.values).float()\n",
    "    return split_train_test(x, y)\n",
    "\n",
    "\n",
    "def random_data(m=1024, n=2):\n",
    "    # data separable by the line `y = x`\n",
    "    x_train = torch.randn(m, n)\n",
    "    x_test = torch.randn(m // 2, n)\n",
    "    y_train = (x_train[:, 0] >= x_train[:, 1]).float().unsqueeze(0).t()\n",
    "    y_test = (x_test[:, 0] >= x_test[:, 1]).float().unsqueeze(0).t()\n",
    "    return x_train, y_train, x_test, y_test\n",
    "\n",
    "\n",
    "# You can use whatever data you want without modification to the tutorial\n",
    "# x_train, y_train, x_test, y_test = random_data()\n",
    "x_train, y_train, x_test, y_test = heart_disease_data()\n",
    "\n",
    "print(\"############# Data summary #############\")\n",
    "print(f\"x_train has shape: {x_train.shape}\")\n",
    "print(f\"y_train has shape: {y_train.shape}\")\n",
    "print(f\"x_test has shape: {x_test.shape}\")\n",
    "print(f\"y_test has shape: {y_test.shape}\")\n",
    "print(\"#######################################\")"
   ]
  },
  {
   "cell_type": "code",
   "execution_count": 4,
   "id": "127dac9f",
   "metadata": {
    "execution": {
     "iopub.execute_input": "2025-04-01T15:41:49.643618Z",
     "iopub.status.busy": "2025-04-01T15:41:49.643293Z",
     "iopub.status.idle": "2025-04-01T15:41:51.005835Z",
     "shell.execute_reply": "2025-04-01T15:41:51.004784Z"
    },
    "executionInfo": {
     "elapsed": 1347,
     "status": "ok",
     "timestamp": 1742798466748,
     "user": {
      "displayName": "Narasimha Murthy Panchangam",
      "userId": "15024520267351528624"
     },
     "user_tz": -330
    },
    "id": "7d29335d-0550-47cc-a59f-ac72fe2ea0e3",
    "papermill": {
     "duration": 1.369687,
     "end_time": "2025-04-01T15:41:51.007402",
     "exception": false,
     "start_time": "2025-04-01T15:41:49.637715",
     "status": "completed"
    },
    "tags": []
   },
   "outputs": [],
   "source": [
    "# parameters\n",
    "poly_mod_degree = 8192\n",
    "coeff_mod_bit_sizes = [40, 21, 21, 21, 21, 21, 21, 40]\n",
    "# create TenSEALContext\n",
    "ctx_training = ts.context(ts.SCHEME_TYPE.CKKS, poly_mod_degree, -1, coeff_mod_bit_sizes)\n",
    "ctx_training.global_scale = 2 ** 21\n",
    "ctx_training.generate_galois_keys()"
   ]
  },
  {
   "cell_type": "code",
   "execution_count": 5,
   "id": "19591134",
   "metadata": {
    "execution": {
     "iopub.execute_input": "2025-04-01T15:41:51.017621Z",
     "iopub.status.busy": "2025-04-01T15:41:51.017331Z",
     "iopub.status.idle": "2025-04-01T15:41:51.020480Z",
     "shell.execute_reply": "2025-04-01T15:41:51.019759Z"
    },
    "executionInfo": {
     "elapsed": 27042,
     "status": "ok",
     "timestamp": 1742798845589,
     "user": {
      "displayName": "Narasimha Murthy Panchangam",
      "userId": "15024520267351528624"
     },
     "user_tz": -330
    },
    "id": "fca037ed-0491-4249-8032-e567ff666951",
    "outputId": "1cc5433b-df31-4bba-8614-9d9a4864e8ec",
    "papermill": {
     "duration": 0.009711,
     "end_time": "2025-04-01T15:41:51.021784",
     "exception": false,
     "start_time": "2025-04-01T15:41:51.012073",
     "status": "completed"
    },
    "tags": []
   },
   "outputs": [],
   "source": [
    "#t_start = time()\n",
    "#enc_x_train = ts.ckks_tensor(ctx_training, x_train[0:300])\n",
    "#enc_y_train = ts.ckks_tensor(ctx_training, y_train[0:300])\n",
    "#t_end = time()\n",
    "#print(f\"Encryption of the training_set took {int(t_end - t_start)} seconds\")"
   ]
  },
  {
   "cell_type": "code",
   "execution_count": 6,
   "id": "14f155d6",
   "metadata": {
    "execution": {
     "iopub.execute_input": "2025-04-01T15:41:51.031749Z",
     "iopub.status.busy": "2025-04-01T15:41:51.031471Z",
     "iopub.status.idle": "2025-04-01T15:41:51.045382Z",
     "shell.execute_reply": "2025-04-01T15:41:51.044427Z"
    },
    "executionInfo": {
     "elapsed": 402,
     "status": "ok",
     "timestamp": 1742798869375,
     "user": {
      "displayName": "Narasimha Murthy Panchangam",
      "userId": "15024520267351528624"
     },
     "user_tz": -330
    },
    "id": "LocrA1zn57Ep",
    "papermill": {
     "duration": 0.020726,
     "end_time": "2025-04-01T15:41:51.047091",
     "exception": false,
     "start_time": "2025-04-01T15:41:51.026365",
     "status": "completed"
    },
    "tags": []
   },
   "outputs": [],
   "source": [
    "class EncryptedDL1layer() :\n",
    "  def __init__(self) -> None:\n",
    "      self.weight1=np.random.rand(10,3)*0.01\n",
    "      self.bias1=np.random.rand(3)*0.01\n",
    "      self.weight2=np.random.rand(3, 1)*0.01\n",
    "      self.bias2=np.random.rand(1)*0.01\n",
    "      self.dw1=0\n",
    "      self.db1=0\n",
    "      self.dw2=0\n",
    "      self.db2=0\n",
    "  def bootstrapping(enc,ctx_training) :\n",
    "    return ts.ckks_tensor(ctx_training,enc.decrypt())\n",
    "  def sigmoid(enc_x):\n",
    "    return enc_x.polyval([0.5, 0.197, 0, -0.004])\n",
    "  def sigmoid_derv(enc_x):\n",
    "    return enc_x.polyval([0.197,0,-0.012,0])\n",
    "  def forward(self,enc_x_train,ctx_training) :\n",
    "    z11=enc_x_train.mm(self.weight1)\n",
    "    z1=z11.add(self.bias1)\n",
    "    a1=EncryptedDL1layer.sigmoid(z1)\n",
    "    y=EncryptedDL1layer.bootstrapping(a1,ctx_training)\n",
    "    z21=y.mm(self.weight2)\n",
    "    z2=z21.add(self.bias2)\n",
    "    a2=EncryptedDL1layer.sigmoid(z2)\n",
    "    return a2,z2,a1,z1\n",
    "  def backward(self,a2,z2,a1,z1,enc_y_train,ctx_training) :\n",
    "    #calculating the output at the layer 2\n",
    "    error=a2-enc_y_train\n",
    "    der=EncryptedDL1layer.sigmoid_derv(z2)\n",
    "    #finding delta2\n",
    "    delta2=error.mul(der)\n",
    "    #using bootstrapping\n",
    "    delta2=EncryptedDL1layer.bootstrapping(delta2,ctx_training)\n",
    "    #finding delta1\n",
    "    del1=delta2.mm(self.weight2.transpose())\n",
    "    del1=EncryptedDL1layer.bootstrapping(del1,ctx_training)\n",
    "    #finding der1\n",
    "    der1=EncryptedDL1layer.sigmoid_derv(z1)\n",
    "    #using bootstrapping\n",
    "    der1=EncryptedDL1layer.bootstrapping(der1,ctx_training)\n",
    "    #finding delta1\n",
    "    delta1=del1.mul(der1)\n",
    "    #finding the gradients\n",
    "    #for weight2 and bias2\n",
    "    self.dw2=a1.transpose().mm(delta2)\n",
    "    self.db2=delta2.sum()\n",
    "    #for weight1 and bias1\n",
    "    self.dw1=enc_x_train.transpose().mm(delta1)\n",
    "    self.db1=delta1.sum()\n",
    "  def update_params(self):\n",
    "    self.weight2=self.weight2-0.1*self.dw2\n",
    "    self.bias2=self.bias2-0.1*self.db2\n",
    "    self.weight1=self.weight1-0.1*self.dw1\n",
    "    self.bias1=self.bias1-0.1*self.db1\n",
    "  def encrypt(self, context):\n",
    "    self.weight1 = ts.ckks_tensor(context, self.weight1)\n",
    "    self.bias1 = ts.ckks_tensor(context, self.bias1)\n",
    "    self.weight2 = ts.ckks_tensor(context, self.weight2)\n",
    "    self.bias2 = ts.ckks_tensor(context, self.bias2)\n",
    "  def decrypt(self):\n",
    "    self.weight1 = self.weight1.decrypt()\n",
    "    self.bias1 = self.bias1.decrypt()\n",
    "    self.weight2 = self.weight2.decrypt()\n",
    "    self.bias2 = self.bias2.decrypt()\n",
    "  def accuracy(self,x_test,y_test):\n",
    "    #self.decrypt()\n",
    "    w1 = torch.tensor(self.weight1)\n",
    "    b1 = torch.tensor(self.bias1)\n",
    "    out1 = torch.sigmoid(x_test.matmul(w1) + b1).reshape(-1, 1)\n",
    "    w2 = torch.tensor(self.weight2)\n",
    "    b2 = torch.tensor(self.bias2)\n",
    "    out2 = torch.sigmoid(out1.matmul(w2) + b2).reshape(-1, 1)\n",
    "    correct = torch.abs(y_test - out2) < 0.5\n",
    "    return correct.float().mean()"
   ]
  },
  {
   "cell_type": "code",
   "execution_count": 7,
   "id": "a2fe230c",
   "metadata": {
    "execution": {
     "iopub.execute_input": "2025-04-01T15:41:51.057664Z",
     "iopub.status.busy": "2025-04-01T15:41:51.057360Z",
     "iopub.status.idle": "2025-04-01T16:43:40.750873Z",
     "shell.execute_reply": "2025-04-01T16:43:40.749918Z"
    },
    "executionInfo": {
     "elapsed": 424,
     "status": "error",
     "timestamp": 1742798872001,
     "user": {
      "displayName": "Narasimha Murthy Panchangam",
      "userId": "15024520267351528624"
     },
     "user_tz": -330
    },
    "id": "vj7f2Rt3BTsJ",
    "outputId": "8a0f6c19-8d47-4bb6-c90a-2509b6cf5d03",
    "papermill": {
     "duration": 3709.70105,
     "end_time": "2025-04-01T16:43:40.752816",
     "exception": false,
     "start_time": "2025-04-01T15:41:51.051766",
     "status": "completed"
    },
    "tags": []
   },
   "outputs": [
    {
     "name": "stdout",
     "output_type": "stream",
     "text": [
      "Epoch :  0\n",
      "Encryption of the training_set took 3 seconds\n",
      "Batch :  0.0\n",
      "\n",
      "\n",
      "Time taken for this batch :  55.200247287750244\n",
      "Encryption of the training_set took 3 seconds\n",
      "Batch :  1.0\n",
      "\n",
      "\n",
      "Time taken for this batch :  52.18301057815552\n",
      "Encryption of the training_set took 3 seconds\n",
      "Batch :  2.0\n",
      "\n",
      "\n",
      "Time taken for this batch :  52.04717779159546\n",
      "Encryption of the training_set took 3 seconds\n",
      "Batch :  3.0\n",
      "\n",
      "\n",
      "Time taken for this batch :  52.01136827468872\n",
      "Encryption of the training_set took 3 seconds\n",
      "Batch :  4.0\n",
      "\n",
      "\n",
      "Time taken for this batch :  50.91995644569397\n",
      "Encryption of the training_set took 3 seconds\n",
      "Batch :  5.0\n",
      "\n",
      "\n",
      "Time taken for this batch :  52.085484743118286\n",
      "Encryption of the training_set took 3 seconds\n",
      "Batch :  6.0\n",
      "\n",
      "\n",
      "Time taken for this batch :  53.08263969421387\n",
      "Encryption of the training_set took 3 seconds\n",
      "Batch :  7.0\n",
      "\n",
      "\n",
      "Time taken for this batch :  52.23225975036621\n",
      "Encryption of the training_set took 3 seconds\n",
      "Batch :  8.0\n",
      "\n",
      "\n",
      "Time taken for this batch :  52.2718505859375\n",
      "Encryption of the training_set took 3 seconds\n",
      "Batch :  9.0\n",
      "\n",
      "\n",
      "Time taken for this batch :  51.73607015609741\n",
      "Encryption of the training_set took 3 seconds\n",
      "Batch :  10.0\n",
      "\n",
      "\n",
      "Time taken for this batch :  51.58121299743652\n",
      "Encryption of the training_set took 3 seconds\n",
      "Batch :  11.0\n",
      "\n",
      "\n",
      "Time taken for this batch :  50.733216285705566\n",
      "Encryption of the training_set took 3 seconds\n",
      "Batch :  12.0\n",
      "\n",
      "\n",
      "Time taken for this batch :  51.96378564834595\n",
      "Loss at epoch  0 tensor(0.7087)\n",
      "Accuracy at epoch  0 tensor(0.5167)\n",
      "Epoch :  1\n",
      "Encryption of the training_set took 3 seconds\n",
      "Batch :  0.0\n",
      "\n",
      "\n",
      "Time taken for this batch :  51.32325720787048\n",
      "Encryption of the training_set took 3 seconds\n",
      "Batch :  1.0\n",
      "\n",
      "\n",
      "Time taken for this batch :  51.54330110549927\n",
      "Encryption of the training_set took 3 seconds\n",
      "Batch :  2.0\n",
      "\n",
      "\n",
      "Time taken for this batch :  50.730905532836914\n",
      "Encryption of the training_set took 3 seconds\n",
      "Batch :  3.0\n",
      "\n",
      "\n",
      "Time taken for this batch :  50.98423719406128\n",
      "Encryption of the training_set took 3 seconds\n",
      "Batch :  4.0\n",
      "\n",
      "\n",
      "Time taken for this batch :  51.57136654853821\n",
      "Encryption of the training_set took 3 seconds\n",
      "Batch :  5.0\n",
      "\n",
      "\n",
      "Time taken for this batch :  50.99744439125061\n",
      "Encryption of the training_set took 3 seconds\n",
      "Batch :  6.0\n",
      "\n",
      "\n",
      "Time taken for this batch :  52.45644450187683\n",
      "Encryption of the training_set took 3 seconds\n",
      "Batch :  7.0\n",
      "\n",
      "\n",
      "Time taken for this batch :  52.7061185836792\n",
      "Encryption of the training_set took 3 seconds\n",
      "Batch :  8.0\n",
      "\n",
      "\n",
      "Time taken for this batch :  52.03903102874756\n",
      "Encryption of the training_set took 3 seconds\n",
      "Batch :  9.0\n",
      "\n",
      "\n",
      "Time taken for this batch :  51.28109788894653\n",
      "Encryption of the training_set took 3 seconds\n",
      "Batch :  10.0\n",
      "\n",
      "\n",
      "Time taken for this batch :  51.911322355270386\n",
      "Encryption of the training_set took 3 seconds\n",
      "Batch :  11.0\n",
      "\n",
      "\n",
      "Time taken for this batch :  51.95721936225891\n",
      "Encryption of the training_set took 3 seconds\n",
      "Batch :  12.0\n",
      "\n",
      "\n",
      "Time taken for this batch :  52.651790618896484\n",
      "Loss at epoch  1 tensor(0.5413)\n",
      "Accuracy at epoch  1 tensor(1.)\n",
      "Epoch :  2\n",
      "Encryption of the training_set took 3 seconds\n",
      "Batch :  0.0\n",
      "\n",
      "\n",
      "Time taken for this batch :  52.21638536453247\n",
      "Encryption of the training_set took 3 seconds\n",
      "Batch :  1.0\n",
      "\n",
      "\n",
      "Time taken for this batch :  52.80113983154297\n",
      "Encryption of the training_set took 3 seconds\n",
      "Batch :  2.0\n",
      "\n",
      "\n",
      "Time taken for this batch :  53.599549531936646\n",
      "Encryption of the training_set took 3 seconds\n",
      "Batch :  3.0\n",
      "\n",
      "\n",
      "Time taken for this batch :  53.703999280929565\n",
      "Encryption of the training_set took 3 seconds\n",
      "Batch :  4.0\n",
      "\n",
      "\n",
      "Time taken for this batch :  53.292603731155396\n",
      "Encryption of the training_set took 3 seconds\n",
      "Batch :  5.0\n",
      "\n",
      "\n",
      "Time taken for this batch :  53.1545307636261\n",
      "Encryption of the training_set took 3 seconds\n",
      "Batch :  6.0\n",
      "\n",
      "\n",
      "Time taken for this batch :  53.52671003341675\n",
      "Encryption of the training_set took 3 seconds\n",
      "Batch :  7.0\n",
      "\n",
      "\n",
      "Time taken for this batch :  53.740893840789795\n",
      "Encryption of the training_set took 3 seconds\n",
      "Batch :  8.0\n",
      "\n",
      "\n",
      "Time taken for this batch :  52.72917628288269\n",
      "Encryption of the training_set took 3 seconds\n",
      "Batch :  9.0\n",
      "\n",
      "\n",
      "Time taken for this batch :  52.80034637451172\n",
      "Encryption of the training_set took 3 seconds\n",
      "Batch :  10.0\n",
      "\n",
      "\n",
      "Time taken for this batch :  53.551162242889404\n",
      "Encryption of the training_set took 3 seconds\n",
      "Batch :  11.0\n",
      "\n",
      "\n",
      "Time taken for this batch :  53.93652892112732\n",
      "Encryption of the training_set took 3 seconds\n",
      "Batch :  12.0\n",
      "\n",
      "\n",
      "Time taken for this batch :  52.406925439834595\n",
      "Loss at epoch  2 tensor(0.5113)\n",
      "Accuracy at epoch  2 tensor(1.)\n",
      "Epoch :  3\n",
      "Encryption of the training_set took 3 seconds\n",
      "Batch :  0.0\n",
      "\n",
      "\n",
      "Time taken for this batch :  52.81622886657715\n",
      "Encryption of the training_set took 3 seconds\n",
      "Batch :  1.0\n",
      "\n",
      "\n",
      "Time taken for this batch :  51.92188763618469\n",
      "Encryption of the training_set took 3 seconds\n",
      "Batch :  2.0\n",
      "\n",
      "\n",
      "Time taken for this batch :  52.486584186553955\n",
      "Encryption of the training_set took 3 seconds\n",
      "Batch :  3.0\n",
      "\n",
      "\n",
      "Time taken for this batch :  52.237223625183105\n",
      "Encryption of the training_set took 3 seconds\n",
      "Batch :  4.0\n",
      "\n",
      "\n",
      "Time taken for this batch :  51.99267101287842\n",
      "Encryption of the training_set took 3 seconds\n",
      "Batch :  5.0\n",
      "\n",
      "\n",
      "Time taken for this batch :  51.714123010635376\n",
      "Encryption of the training_set took 3 seconds\n",
      "Batch :  6.0\n",
      "\n",
      "\n",
      "Time taken for this batch :  51.48570942878723\n",
      "Encryption of the training_set took 3 seconds\n",
      "Batch :  7.0\n",
      "\n",
      "\n",
      "Time taken for this batch :  50.89216947555542\n",
      "Encryption of the training_set took 3 seconds\n",
      "Batch :  8.0\n",
      "\n",
      "\n",
      "Time taken for this batch :  50.32211637496948\n",
      "Encryption of the training_set took 3 seconds\n",
      "Batch :  9.0\n",
      "\n",
      "\n",
      "Time taken for this batch :  50.54162883758545\n",
      "Encryption of the training_set took 3 seconds\n",
      "Batch :  10.0\n",
      "\n",
      "\n",
      "Time taken for this batch :  51.2030303478241\n",
      "Encryption of the training_set took 3 seconds\n",
      "Batch :  11.0\n",
      "\n",
      "\n",
      "Time taken for this batch :  52.303006172180176\n",
      "Encryption of the training_set took 3 seconds\n",
      "Batch :  12.0\n",
      "\n",
      "\n",
      "Time taken for this batch :  54.18442440032959\n",
      "Loss at epoch  3 tensor(0.5034)\n",
      "Accuracy at epoch  3 tensor(1.)\n",
      "Epoch :  4\n",
      "Encryption of the training_set took 3 seconds\n",
      "Batch :  0.0\n",
      "\n",
      "\n",
      "Time taken for this batch :  54.34253168106079\n",
      "Encryption of the training_set took 3 seconds\n",
      "Batch :  1.0\n",
      "\n",
      "\n",
      "Time taken for this batch :  53.849518060684204\n",
      "Encryption of the training_set took 3 seconds\n",
      "Batch :  2.0\n",
      "\n",
      "\n",
      "Time taken for this batch :  53.558090925216675\n",
      "Encryption of the training_set took 3 seconds\n",
      "Batch :  3.0\n",
      "\n",
      "\n",
      "Time taken for this batch :  53.209470987319946\n",
      "Encryption of the training_set took 3 seconds\n",
      "Batch :  4.0\n",
      "\n",
      "\n",
      "Time taken for this batch :  54.291547536849976\n",
      "Encryption of the training_set took 3 seconds\n",
      "Batch :  5.0\n",
      "\n",
      "\n",
      "Time taken for this batch :  54.58465266227722\n",
      "Encryption of the training_set took 3 seconds\n",
      "Batch :  6.0\n",
      "\n",
      "\n",
      "Time taken for this batch :  54.24276089668274\n",
      "Encryption of the training_set took 3 seconds\n",
      "Batch :  7.0\n",
      "\n",
      "\n",
      "Time taken for this batch :  53.4124391078949\n",
      "Encryption of the training_set took 3 seconds\n",
      "Batch :  8.0\n",
      "\n",
      "\n",
      "Time taken for this batch :  54.088409662246704\n",
      "Encryption of the training_set took 3 seconds\n",
      "Batch :  9.0\n",
      "\n",
      "\n",
      "Time taken for this batch :  54.51386046409607\n",
      "Encryption of the training_set took 3 seconds\n",
      "Batch :  10.0\n",
      "\n",
      "\n",
      "Time taken for this batch :  54.02856779098511\n",
      "Encryption of the training_set took 3 seconds\n",
      "Batch :  11.0\n",
      "\n",
      "\n",
      "Time taken for this batch :  53.87664031982422\n",
      "Encryption of the training_set took 3 seconds\n",
      "Batch :  12.0\n",
      "\n",
      "\n",
      "Time taken for this batch :  53.58779740333557\n",
      "Loss at epoch  4 tensor(0.5002)\n",
      "Accuracy at epoch  4 tensor(1.)\n",
      "\n",
      "Average time per epoch: 52 seconds\n",
      "Final weight1  [[0.04653953717257682, 0.018130200939699265, 0.06776464750051668], [0.04752413415133574, 0.047408007321430176, 0.10181870923485045], [0.057465341914722974, 0.049216151788121096, 0.09554889516022735], [0.035403135010597234, 0.1117493433559496, 0.09948224754972552], [0.049628537953473204, -0.003758207683724599, 0.06380219934507482], [0.006433972117441312, 0.0036521913567076347, 0.040308886731891265], [0.07625410092459288, 0.03810754268170738, 0.10726011925410726], [0.021104228806508557, -0.0166390432681876, 0.005536315142471698], [0.040043864361551794, 0.023211899614479767, 0.0762208939092135], [0.10820819133657925, 2.5067994039235364, 1.734563744350944]]\n",
      "Final bias 1 [0.011599614198324414, -0.23982110050298672, -0.3148015696418366]\n",
      "Final weight 2 [[-0.5654643461860277], [3.1601580206865263], [1.5718578333789819]]\n",
      "Final bias 2 [-2.2670534070923747]\n"
     ]
    }
   ],
   "source": [
    "EPOCHS = 5\n",
    "eelr = EncryptedDL1layer()\n",
    "times = []\n",
    "for epoch in range(EPOCHS):\n",
    "    print(\"Epoch : \",epoch)\n",
    "    for i in range(0,780,60):\n",
    "        t_start = time()\n",
    "        enc_x_train = ts.ckks_tensor(ctx_training, x_train[i:i+60])\n",
    "        enc_y_train = ts.ckks_tensor(ctx_training, y_train[i:i+60])\n",
    "        t_end = time()\n",
    "        print(f\"Encryption of the training_set took {int(t_end - t_start)} seconds\")\n",
    "        print(\"Batch : \",i/60)\n",
    "        eelr.encrypt(ctx_training)\n",
    "        t_start = time()\n",
    "        a2,z2,a1,z1 = eelr.forward(enc_x_train,ctx_training)\n",
    "        eelr.backward(a2,z2,a1,z1,enc_y_train,ctx_training)\n",
    "        eelr.update_params()\n",
    "        t_end = time()    \n",
    "        eelr.decrypt()\n",
    "        print(\"\\n\")\n",
    "        print(\"Time taken for this batch : \",t_end - t_start)\n",
    "    times.append(t_end - t_start)\n",
    "    a2,z2,a1,z1 = eelr.forward(enc_x_train,ctx_training)\n",
    "    data=torch.tensor(a2.decrypt().tolist())\n",
    "    loss_fn = torch.nn.BCEWithLogitsLoss()\n",
    "    loss = loss_fn(data, y_train[i:i+60])\n",
    "    print(\"Loss at epoch \",epoch,loss.data)\n",
    "    out=torch.tensor(enc_y_train.sub(a2).decrypt().tolist())\n",
    "    correct=torch.abs(out)<0.5\n",
    "    print(\"Accuracy at epoch \",epoch,correct.float().mean())\n",
    "print(f\"\\nAverage time per epoch: {int(sum(times) / len(times))} seconds\")\n",
    "print(\"Final weight1 \",eelr.weight1.tolist())\n",
    "print(\"Final bias 1\",eelr.bias1.tolist())\n",
    "print(\"Final weight 2\",eelr.weight2.tolist())\n",
    "print(\"Final bias 2\",eelr.bias2.tolist())"
   ]
  },
  {
   "cell_type": "code",
   "execution_count": 8,
   "id": "e430d7f0",
   "metadata": {
    "execution": {
     "iopub.execute_input": "2025-04-01T16:43:40.778680Z",
     "iopub.status.busy": "2025-04-01T16:43:40.778330Z",
     "iopub.status.idle": "2025-04-01T16:43:40.784559Z",
     "shell.execute_reply": "2025-04-01T16:43:40.783669Z"
    },
    "executionInfo": {
     "elapsed": 3,
     "status": "ok",
     "timestamp": 1742742509928,
     "user": {
      "displayName": "Narasimha Murthy",
      "userId": "00427524539684510099"
     },
     "user_tz": -330
    },
    "id": "5G7lXa-Qd5Dn",
    "outputId": "b4fe4b74-19d9-43fd-9e78-626740813bef",
    "papermill": {
     "duration": 0.020332,
     "end_time": "2025-04-01T16:43:40.786122",
     "exception": false,
     "start_time": "2025-04-01T16:43:40.765790",
     "status": "completed"
    },
    "tags": []
   },
   "outputs": [
    {
     "name": "stdout",
     "output_type": "stream",
     "text": [
      "[[0.04653953717257682, 0.018130200939699265, 0.06776464750051668], [0.04752413415133574, 0.047408007321430176, 0.10181870923485045], [0.057465341914722974, 0.049216151788121096, 0.09554889516022735], [0.035403135010597234, 0.1117493433559496, 0.09948224754972552], [0.049628537953473204, -0.003758207683724599, 0.06380219934507482], [0.006433972117441312, 0.0036521913567076347, 0.040308886731891265], [0.07625410092459288, 0.03810754268170738, 0.10726011925410726], [0.021104228806508557, -0.0166390432681876, 0.005536315142471698], [0.040043864361551794, 0.023211899614479767, 0.0762208939092135], [0.10820819133657925, 2.5067994039235364, 1.734563744350944]]\n",
      "[0.011599614198324414, -0.23982110050298672, -0.3148015696418366]\n",
      "[[-0.5654643461860277], [3.1601580206865263], [1.5718578333789819]]\n",
      "[-2.2670534070923747]\n"
     ]
    }
   ],
   "source": [
    "print(eelr.weight1.tolist())\n",
    "print(eelr.bias1.tolist())\n",
    "print(eelr.weight2.tolist())\n",
    "print(eelr.bias2.tolist())"
   ]
  },
  {
   "cell_type": "code",
   "execution_count": 9,
   "id": "c41d566d",
   "metadata": {
    "execution": {
     "iopub.execute_input": "2025-04-01T16:43:40.810501Z",
     "iopub.status.busy": "2025-04-01T16:43:40.810097Z",
     "iopub.status.idle": "2025-04-01T16:43:53.266328Z",
     "shell.execute_reply": "2025-04-01T16:43:53.265234Z"
    },
    "executionInfo": {
     "elapsed": 92271,
     "status": "ok",
     "timestamp": 1742745772755,
     "user": {
      "displayName": "Narasimha Murthy",
      "userId": "00427524539684510099"
     },
     "user_tz": -330
    },
    "id": "KLgUVLDRjFUR",
    "outputId": "0516727f-29d4-430d-df09-8d40fa237b83",
    "papermill": {
     "duration": 12.47056,
     "end_time": "2025-04-01T16:43:53.268411",
     "exception": false,
     "start_time": "2025-04-01T16:43:40.797851",
     "status": "completed"
    },
    "tags": []
   },
   "outputs": [],
   "source": [
    "#eelr.encrypt(ctx_training)\n",
    "j,k,l,r=eelr.forward(enc_x_train,ctx_training)\n",
    "#enc_y_train.sub(j).decrypt().tolist()"
   ]
  },
  {
   "cell_type": "code",
   "execution_count": 10,
   "id": "d08617a8",
   "metadata": {
    "execution": {
     "iopub.execute_input": "2025-04-01T16:43:53.294172Z",
     "iopub.status.busy": "2025-04-01T16:43:53.293820Z",
     "iopub.status.idle": "2025-04-01T16:43:53.498016Z",
     "shell.execute_reply": "2025-04-01T16:43:53.497006Z"
    },
    "executionInfo": {
     "elapsed": 12,
     "status": "ok",
     "timestamp": 1742746346136,
     "user": {
      "displayName": "Narasimha Murthy",
      "userId": "00427524539684510099"
     },
     "user_tz": -330
    },
    "id": "_UaJ3vhlvLCX",
    "outputId": "8854fc07-8857-4b2b-b1b1-07b7a048fa53",
    "papermill": {
     "duration": 0.219025,
     "end_time": "2025-04-01T16:43:53.499692",
     "exception": false,
     "start_time": "2025-04-01T16:43:53.280667",
     "status": "completed"
    },
    "tags": []
   },
   "outputs": [
    {
     "name": "stdout",
     "output_type": "stream",
     "text": [
      "tensor(1.)\n"
     ]
    }
   ],
   "source": [
    "out=torch.tensor(enc_y_train.sub(j).decrypt().tolist())\n",
    "correct=torch.abs(out)<0.5\n",
    "print(correct.float().mean())"
   ]
  },
  {
   "cell_type": "code",
   "execution_count": 11,
   "id": "04559589",
   "metadata": {
    "execution": {
     "iopub.execute_input": "2025-04-01T16:43:53.525399Z",
     "iopub.status.busy": "2025-04-01T16:43:53.525020Z",
     "iopub.status.idle": "2025-04-01T16:44:14.646982Z",
     "shell.execute_reply": "2025-04-01T16:44:14.646125Z"
    },
    "id": "WiNUecEKxti0",
    "papermill": {
     "duration": 21.135914,
     "end_time": "2025-04-01T16:44:14.648482",
     "exception": false,
     "start_time": "2025-04-01T16:43:53.512568",
     "status": "completed"
    },
    "tags": []
   },
   "outputs": [],
   "source": [
    "enc_x_test = ts.ckks_tensor(ctx_training, x_test)\n",
    "enc_y_test = ts.ckks_tensor(ctx_training, y_test)"
   ]
  },
  {
   "cell_type": "code",
   "execution_count": 12,
   "id": "490b1ee6",
   "metadata": {
    "execution": {
     "iopub.execute_input": "2025-04-01T16:44:14.736506Z",
     "iopub.status.busy": "2025-04-01T16:44:14.736114Z",
     "iopub.status.idle": "2025-04-01T16:45:34.799167Z",
     "shell.execute_reply": "2025-04-01T16:45:34.797923Z"
    },
    "papermill": {
     "duration": 80.088608,
     "end_time": "2025-04-01T16:45:34.812202",
     "exception": false,
     "start_time": "2025-04-01T16:44:14.723594",
     "status": "completed"
    },
    "tags": []
   },
   "outputs": [
    {
     "name": "stdout",
     "output_type": "stream",
     "text": [
      "tensor(1.)\n"
     ]
    }
   ],
   "source": [
    "m,n,j,k=eelr.forward(enc_x_test,ctx_training)\n",
    "out=torch.tensor(enc_y_test.sub(m).decrypt().tolist())\n",
    "correct=torch.abs(out)<0.5\n",
    "print(correct.float().mean())"
   ]
  },
  {
   "cell_type": "code",
   "execution_count": null,
   "id": "2cd68e93",
   "metadata": {
    "papermill": {
     "duration": 0.011539,
     "end_time": "2025-04-01T16:45:34.835405",
     "exception": false,
     "start_time": "2025-04-01T16:45:34.823866",
     "status": "completed"
    },
    "tags": []
   },
   "outputs": [],
   "source": []
  }
 ],
 "metadata": {
  "accelerator": "TPU",
  "colab": {
   "gpuType": "V28",
   "provenance": []
  },
  "kaggle": {
   "accelerator": "none",
   "dataSources": [
    {
     "datasetId": 6961199,
     "sourceId": 11156928,
     "sourceType": "datasetVersion"
    }
   ],
   "dockerImageVersionId": 30918,
   "isGpuEnabled": false,
   "isInternetEnabled": true,
   "language": "python",
   "sourceType": "notebook"
  },
  "kernelspec": {
   "display_name": "Python 3",
   "language": "python",
   "name": "python3"
  },
  "language_info": {
   "codemirror_mode": {
    "name": "ipython",
    "version": 3
   },
   "file_extension": ".py",
   "mimetype": "text/x-python",
   "name": "python",
   "nbconvert_exporter": "python",
   "pygments_lexer": "ipython3",
   "version": "3.10.12"
  },
  "papermill": {
   "default_parameters": {},
   "duration": 3842.779962,
   "end_time": "2025-04-01T16:45:38.607790",
   "environment_variables": {},
   "exception": null,
   "input_path": "__notebook__.ipynb",
   "output_path": "__notebook__.ipynb",
   "parameters": {},
   "start_time": "2025-04-01T15:41:35.827828",
   "version": "2.6.0"
  }
 },
 "nbformat": 4,
 "nbformat_minor": 5
}
